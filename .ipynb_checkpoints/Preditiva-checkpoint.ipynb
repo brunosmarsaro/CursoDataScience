{
 "cells": [
  {
   "cell_type": "code",
   "execution_count": 1,
   "metadata": {},
   "outputs": [],
   "source": [
    "from sklearn.linear_model import RidgeClassifier\n",
    "from sklearn import preprocessing\n",
    "import pandas as pd"
   ]
  },
  {
   "cell_type": "code",
   "execution_count": 2,
   "metadata": {},
   "outputs": [
    {
     "data": {
      "text/html": [
       "<div>\n",
       "<style scoped>\n",
       "    .dataframe tbody tr th:only-of-type {\n",
       "        vertical-align: middle;\n",
       "    }\n",
       "\n",
       "    .dataframe tbody tr th {\n",
       "        vertical-align: top;\n",
       "    }\n",
       "\n",
       "    .dataframe thead th {\n",
       "        text-align: right;\n",
       "    }\n",
       "</style>\n",
       "<table border=\"1\" class=\"dataframe\">\n",
       "  <thead>\n",
       "    <tr style=\"text-align: right;\">\n",
       "      <th></th>\n",
       "      <th>Teor Alcoólico</th>\n",
       "      <th>Comprimento de Onda</th>\n",
       "      <th>Bebida</th>\n",
       "    </tr>\n",
       "  </thead>\n",
       "  <tbody>\n",
       "    <tr>\n",
       "      <th>0</th>\n",
       "      <td>5.0</td>\n",
       "      <td>600</td>\n",
       "      <td>Cerveja</td>\n",
       "    </tr>\n",
       "    <tr>\n",
       "      <th>1</th>\n",
       "      <td>4.5</td>\n",
       "      <td>585</td>\n",
       "      <td>Cerveja</td>\n",
       "    </tr>\n",
       "    <tr>\n",
       "      <th>2</th>\n",
       "      <td>13.0</td>\n",
       "      <td>690</td>\n",
       "      <td>Vinho</td>\n",
       "    </tr>\n",
       "    <tr>\n",
       "      <th>3</th>\n",
       "      <td>12.0</td>\n",
       "      <td>710</td>\n",
       "      <td>Vinho</td>\n",
       "    </tr>\n",
       "  </tbody>\n",
       "</table>\n",
       "</div>"
      ],
      "text/plain": [
       "   Teor Alcoólico  Comprimento de Onda   Bebida\n",
       "0             5.0                  600  Cerveja\n",
       "1             4.5                  585  Cerveja\n",
       "2            13.0                  690    Vinho\n",
       "3            12.0                  710    Vinho"
      ]
     },
     "execution_count": 2,
     "metadata": {},
     "output_type": "execute_result"
    }
   ],
   "source": [
    "data = pd.DataFrame([[5.0, 600, 'Cerveja'], \n",
    "                     [4.5, 585, 'Cerveja'], \n",
    "                     [13.0, 690, 'Vinho'], \n",
    "                     [12.0, 710, 'Vinho']], \n",
    "                    columns = ['Teor Alcoólico', 'Comprimento de Onda', 'Bebida'])\n",
    "data.head()"
   ]
  },
  {
   "cell_type": "code",
   "execution_count": 3,
   "metadata": {},
   "outputs": [],
   "source": [
    "x_true = data[['Teor Alcoólico', 'Comprimento de Onda']]\n",
    "y_true = data['Bebida']"
   ]
  },
  {
   "cell_type": "code",
   "execution_count": 4,
   "metadata": {},
   "outputs": [],
   "source": [
    "le = preprocessing.LabelEncoder()\n",
    "y_true = le.fit_transform(y_true)"
   ]
  },
  {
   "cell_type": "code",
   "execution_count": 5,
   "metadata": {},
   "outputs": [
    {
     "data": {
      "text/plain": [
       "array([0, 0, 1, 1], dtype=int64)"
      ]
     },
     "execution_count": 5,
     "metadata": {},
     "output_type": "execute_result"
    }
   ],
   "source": [
    "y_true"
   ]
  },
  {
   "cell_type": "code",
   "execution_count": 6,
   "metadata": {},
   "outputs": [
    {
     "data": {
      "text/plain": [
       "RidgeClassifier(alpha=1.0, class_weight=None, copy_X=True, fit_intercept=True,\n",
       "        max_iter=None, normalize=False, random_state=None, solver='auto',\n",
       "        tol=0.001)"
      ]
     },
     "execution_count": 6,
     "metadata": {},
     "output_type": "execute_result"
    }
   ],
   "source": [
    "clf = RidgeClassifier()\n",
    "clf.fit(x_true, y_true)"
   ]
  },
  {
   "cell_type": "code",
   "execution_count": 7,
   "metadata": {},
   "outputs": [
    {
     "name": "stdout",
     "output_type": "stream",
     "text": [
      "['Cerveja']\n"
     ]
    },
    {
     "name": "stderr",
     "output_type": "stream",
     "text": [
      "C:\\Users\\b.smarsaro.bazelato\\AppData\\Local\\Continuum\\anaconda3\\lib\\site-packages\\sklearn\\preprocessing\\label.py:151: DeprecationWarning: The truth value of an empty array is ambiguous. Returning False, but in future this will result in an error. Use `array.size > 0` to check that an array is not empty.\n",
      "  if diff:\n"
     ]
    }
   ],
   "source": [
    "x_test = [[4.3, 590]]\n",
    "pred = le.inverse_transform(clf.predict(x_test))\n",
    "print(pred)"
   ]
  },
  {
   "cell_type": "markdown",
   "metadata": {},
   "source": [
    "# Exemplo Prático - Classificação"
   ]
  },
  {
   "cell_type": "markdown",
   "metadata": {},
   "source": [
    "- Documentação:\n",
    "__[Árvore de Decisão](http://scikit-learn.org/stable/modules/generated/sklearn.tree.DecisionTreeClassifier.html#sklearn.tree.DecisionTreeClassifier)__\n",
    "__[KFold](http://scikit-learn.org/stable/modules/generated/sklearn.model_selection.KFold.html#sklearn.model_selection.KFold)__\n",
    "__[Accuracy](http://scikit-learn.org/stable/modules/generated/sklearn.metrics.accuracy_score.html#sklearn.metrics.accuracy_score)__"
   ]
  },
  {
   "cell_type": "code",
   "execution_count": 27,
   "metadata": {},
   "outputs": [],
   "source": [
    "from sklearn.tree import DecisionTreeClassifier\n",
    "from sklearn.metrics import accuracy_score\n",
    "from sklearn.model_selection import KFold, StratifiedKFold\n",
    "import pandas as pd\n",
    "import numpy as np\n",
    "from sklearn.ensemble import RandomForestClassifier"
   ]
  },
  {
   "cell_type": "code",
   "execution_count": 9,
   "metadata": {},
   "outputs": [
    {
     "data": {
      "text/html": [
       "<div>\n",
       "<style scoped>\n",
       "    .dataframe tbody tr th:only-of-type {\n",
       "        vertical-align: middle;\n",
       "    }\n",
       "\n",
       "    .dataframe tbody tr th {\n",
       "        vertical-align: top;\n",
       "    }\n",
       "\n",
       "    .dataframe thead th {\n",
       "        text-align: right;\n",
       "    }\n",
       "</style>\n",
       "<table border=\"1\" class=\"dataframe\">\n",
       "  <thead>\n",
       "    <tr style=\"text-align: right;\">\n",
       "      <th></th>\n",
       "      <th>Type</th>\n",
       "      <th>Alcohol</th>\n",
       "      <th>Malic acid</th>\n",
       "      <th>Ash</th>\n",
       "      <th>Alcalinity of ash</th>\n",
       "      <th>Magnesium</th>\n",
       "      <th>Total phenols</th>\n",
       "      <th>Flavanoids</th>\n",
       "      <th>Nonflavanoid phenols</th>\n",
       "      <th>Proanthocyanins</th>\n",
       "      <th>Color intensity</th>\n",
       "      <th>Hue</th>\n",
       "      <th>OD280/OD315 of diluted wines</th>\n",
       "      <th>Proline</th>\n",
       "    </tr>\n",
       "  </thead>\n",
       "  <tbody>\n",
       "    <tr>\n",
       "      <th>0</th>\n",
       "      <td>1</td>\n",
       "      <td>14.23</td>\n",
       "      <td>1.71</td>\n",
       "      <td>2.43</td>\n",
       "      <td>15.6</td>\n",
       "      <td>127</td>\n",
       "      <td>2.80</td>\n",
       "      <td>3.06</td>\n",
       "      <td>0.28</td>\n",
       "      <td>2.29</td>\n",
       "      <td>5.64</td>\n",
       "      <td>1.04</td>\n",
       "      <td>3.92</td>\n",
       "      <td>1065</td>\n",
       "    </tr>\n",
       "    <tr>\n",
       "      <th>1</th>\n",
       "      <td>1</td>\n",
       "      <td>13.20</td>\n",
       "      <td>1.78</td>\n",
       "      <td>2.14</td>\n",
       "      <td>11.2</td>\n",
       "      <td>100</td>\n",
       "      <td>2.65</td>\n",
       "      <td>2.76</td>\n",
       "      <td>0.26</td>\n",
       "      <td>1.28</td>\n",
       "      <td>4.38</td>\n",
       "      <td>1.05</td>\n",
       "      <td>3.40</td>\n",
       "      <td>1050</td>\n",
       "    </tr>\n",
       "    <tr>\n",
       "      <th>2</th>\n",
       "      <td>1</td>\n",
       "      <td>13.16</td>\n",
       "      <td>2.36</td>\n",
       "      <td>2.67</td>\n",
       "      <td>18.6</td>\n",
       "      <td>101</td>\n",
       "      <td>2.80</td>\n",
       "      <td>3.24</td>\n",
       "      <td>0.30</td>\n",
       "      <td>2.81</td>\n",
       "      <td>5.68</td>\n",
       "      <td>1.03</td>\n",
       "      <td>3.17</td>\n",
       "      <td>1185</td>\n",
       "    </tr>\n",
       "    <tr>\n",
       "      <th>3</th>\n",
       "      <td>1</td>\n",
       "      <td>14.37</td>\n",
       "      <td>1.95</td>\n",
       "      <td>2.50</td>\n",
       "      <td>16.8</td>\n",
       "      <td>113</td>\n",
       "      <td>3.85</td>\n",
       "      <td>3.49</td>\n",
       "      <td>0.24</td>\n",
       "      <td>2.18</td>\n",
       "      <td>7.80</td>\n",
       "      <td>0.86</td>\n",
       "      <td>3.45</td>\n",
       "      <td>1480</td>\n",
       "    </tr>\n",
       "    <tr>\n",
       "      <th>4</th>\n",
       "      <td>1</td>\n",
       "      <td>13.24</td>\n",
       "      <td>2.59</td>\n",
       "      <td>2.87</td>\n",
       "      <td>21.0</td>\n",
       "      <td>118</td>\n",
       "      <td>2.80</td>\n",
       "      <td>2.69</td>\n",
       "      <td>0.39</td>\n",
       "      <td>1.82</td>\n",
       "      <td>4.32</td>\n",
       "      <td>1.04</td>\n",
       "      <td>2.93</td>\n",
       "      <td>735</td>\n",
       "    </tr>\n",
       "  </tbody>\n",
       "</table>\n",
       "</div>"
      ],
      "text/plain": [
       "   Type  Alcohol  Malic acid   Ash  Alcalinity of ash  Magnesium  \\\n",
       "0     1    14.23        1.71  2.43               15.6        127   \n",
       "1     1    13.20        1.78  2.14               11.2        100   \n",
       "2     1    13.16        2.36  2.67               18.6        101   \n",
       "3     1    14.37        1.95  2.50               16.8        113   \n",
       "4     1    13.24        2.59  2.87               21.0        118   \n",
       "\n",
       "   Total phenols  Flavanoids  Nonflavanoid phenols  Proanthocyanins  \\\n",
       "0           2.80        3.06                  0.28             2.29   \n",
       "1           2.65        2.76                  0.26             1.28   \n",
       "2           2.80        3.24                  0.30             2.81   \n",
       "3           3.85        3.49                  0.24             2.18   \n",
       "4           2.80        2.69                  0.39             1.82   \n",
       "\n",
       "   Color intensity   Hue  OD280/OD315 of diluted wines  Proline  \n",
       "0             5.64  1.04                          3.92     1065  \n",
       "1             4.38  1.05                          3.40     1050  \n",
       "2             5.68  1.03                          3.17     1185  \n",
       "3             7.80  0.86                          3.45     1480  \n",
       "4             4.32  1.04                          2.93      735  "
      ]
     },
     "execution_count": 9,
     "metadata": {},
     "output_type": "execute_result"
    }
   ],
   "source": [
    "df = pd.read_csv('https://archive.ics.uci.edu/ml/machine-learning-databases/wine/wine.data', header=None, names = ['Type','Alcohol','Malic acid','Ash','Alcalinity of ash','Magnesium','Total phenols','Flavanoids','Nonflavanoid phenols','Proanthocyanins','Color intensity','Hue','OD280/OD315 of diluted wines','Proline'])\n",
    "df.head()"
   ]
  },
  {
   "cell_type": "code",
   "execution_count": 11,
   "metadata": {},
   "outputs": [
    {
     "data": {
      "text/plain": [
       "2    71\n",
       "1    59\n",
       "3    48\n",
       "Name: Type, dtype: int64"
      ]
     },
     "execution_count": 11,
     "metadata": {},
     "output_type": "execute_result"
    }
   ],
   "source": [
    "df['Type'].value_counts()"
   ]
  },
  {
   "cell_type": "code",
   "execution_count": 12,
   "metadata": {},
   "outputs": [],
   "source": [
    "x = df.drop('left', axis=1)\n",
    "y = df['left']"
   ]
  },
  {
   "cell_type": "code",
   "execution_count": 45,
   "metadata": {},
   "outputs": [],
   "source": [
    "kf = StratifiedKFold(n_splits=4)\n",
    "score = []\n",
    "for train_index, test_index in kf.split(x,y):\n",
    "    x_train, x_test = x.values[train_index], x.values[test_index]\n",
    "    y_train, y_test = y.values[train_index], y.values[test_index]\n",
    "    clf = RandomForestClassifier()\n",
    "    clf.fit(x_train, y_train)\n",
    "    y_pred = clf.predict(x_test)\n",
    "    score.append(accuracy_score(y_pred, y_test))"
   ]
  },
  {
   "cell_type": "code",
   "execution_count": 29,
   "metadata": {},
   "outputs": [
    {
     "data": {
      "text/plain": [
       "count    4.000000\n",
       "mean     0.949483\n",
       "std      0.027844\n",
       "min      0.911111\n",
       "25%      0.942894\n",
       "50%      0.954522\n",
       "75%      0.961111\n",
       "max      0.977778\n",
       "dtype: float64"
      ]
     },
     "execution_count": 29,
     "metadata": {},
     "output_type": "execute_result"
    }
   ],
   "source": [
    "pd.Series(score).describe()"
   ]
  },
  {
   "cell_type": "code",
   "execution_count": 46,
   "metadata": {},
   "outputs": [
    {
     "data": {
      "text/html": [
       "<div>\n",
       "<style scoped>\n",
       "    .dataframe tbody tr th:only-of-type {\n",
       "        vertical-align: middle;\n",
       "    }\n",
       "\n",
       "    .dataframe tbody tr th {\n",
       "        vertical-align: top;\n",
       "    }\n",
       "\n",
       "    .dataframe thead th {\n",
       "        text-align: right;\n",
       "    }\n",
       "</style>\n",
       "<table border=\"1\" class=\"dataframe\">\n",
       "  <thead>\n",
       "    <tr style=\"text-align: right;\">\n",
       "      <th></th>\n",
       "      <th>FI</th>\n",
       "    </tr>\n",
       "    <tr>\n",
       "      <th>Var</th>\n",
       "      <th></th>\n",
       "    </tr>\n",
       "  </thead>\n",
       "  <tbody>\n",
       "    <tr>\n",
       "      <th>Flavanoids</th>\n",
       "      <td>0.205371</td>\n",
       "    </tr>\n",
       "    <tr>\n",
       "      <th>Proline</th>\n",
       "      <td>0.151995</td>\n",
       "    </tr>\n",
       "    <tr>\n",
       "      <th>Alcohol</th>\n",
       "      <td>0.143450</td>\n",
       "    </tr>\n",
       "    <tr>\n",
       "      <th>Hue</th>\n",
       "      <td>0.135382</td>\n",
       "    </tr>\n",
       "    <tr>\n",
       "      <th>OD280/OD315 of diluted wines</th>\n",
       "      <td>0.102718</td>\n",
       "    </tr>\n",
       "    <tr>\n",
       "      <th>Color intensity</th>\n",
       "      <td>0.094152</td>\n",
       "    </tr>\n",
       "    <tr>\n",
       "      <th>Magnesium</th>\n",
       "      <td>0.044196</td>\n",
       "    </tr>\n",
       "    <tr>\n",
       "      <th>Total phenols</th>\n",
       "      <td>0.042719</td>\n",
       "    </tr>\n",
       "    <tr>\n",
       "      <th>Proanthocyanins</th>\n",
       "      <td>0.026690</td>\n",
       "    </tr>\n",
       "    <tr>\n",
       "      <th>Malic acid</th>\n",
       "      <td>0.025359</td>\n",
       "    </tr>\n",
       "    <tr>\n",
       "      <th>Alcalinity of ash</th>\n",
       "      <td>0.020094</td>\n",
       "    </tr>\n",
       "    <tr>\n",
       "      <th>Nonflavanoid phenols</th>\n",
       "      <td>0.005742</td>\n",
       "    </tr>\n",
       "    <tr>\n",
       "      <th>Ash</th>\n",
       "      <td>0.002131</td>\n",
       "    </tr>\n",
       "  </tbody>\n",
       "</table>\n",
       "</div>"
      ],
      "text/plain": [
       "                                    FI\n",
       "Var                                   \n",
       "Flavanoids                    0.205371\n",
       "Proline                       0.151995\n",
       "Alcohol                       0.143450\n",
       "Hue                           0.135382\n",
       "OD280/OD315 of diluted wines  0.102718\n",
       "Color intensity               0.094152\n",
       "Magnesium                     0.044196\n",
       "Total phenols                 0.042719\n",
       "Proanthocyanins               0.026690\n",
       "Malic acid                    0.025359\n",
       "Alcalinity of ash             0.020094\n",
       "Nonflavanoid phenols          0.005742\n",
       "Ash                           0.002131"
      ]
     },
     "execution_count": 46,
     "metadata": {},
     "output_type": "execute_result"
    }
   ],
   "source": [
    "fi = pd.DataFrame(list(zip(x.columns.tolist(), clf.feature_importances_)),\n",
    "                 columns=['Var', 'FI']).set_index('Var')\n",
    "fi.sort_values(by='FI', ascending=False)"
   ]
  },
  {
   "cell_type": "code",
   "execution_count": 47,
   "metadata": {},
   "outputs": [],
   "source": [
    "import altair as alt"
   ]
  },
  {
   "cell_type": "code",
   "execution_count": 49,
   "metadata": {},
   "outputs": [
    {
     "data": {
      "text/html": [
       "<div class=\"vega-embed\" id=\"5e21b58b-6feb-43eb-94ba-383c2ef0112e\"></div>\n",
       "\n",
       "<style>\n",
       ".vega-embed .error p {\n",
       "    color: firebrick;\n",
       "    font-size: 14px;\n",
       "}\n",
       "</style>\n"
      ]
     },
     "metadata": {
      "jupyter-vega": "#5e21b58b-6feb-43eb-94ba-383c2ef0112e"
     },
     "output_type": "display_data"
    },
    {
     "data": {
      "application/javascript": [
       "var spec = {\"config\": {\"view\": {\"width\": 400, \"height\": 300}}, \"data\": {\"values\": [{\"Type\": 1, \"Alcohol\": 14.23, \"Malic acid\": 1.71, \"Ash\": 2.43, \"Alcalinity of ash\": 15.6, \"Magnesium\": 127, \"Total phenols\": 2.8, \"Flavanoids\": 3.06, \"Nonflavanoid phenols\": 0.28, \"Proanthocyanins\": 2.29, \"Color intensity\": 5.64, \"Hue\": 1.04, \"OD280/OD315 of diluted wines\": 3.92, \"Proline\": 1065}, {\"Type\": 1, \"Alcohol\": 13.2, \"Malic acid\": 1.78, \"Ash\": 2.14, \"Alcalinity of ash\": 11.2, \"Magnesium\": 100, \"Total phenols\": 2.65, \"Flavanoids\": 2.76, \"Nonflavanoid phenols\": 0.26, \"Proanthocyanins\": 1.28, \"Color intensity\": 4.38, \"Hue\": 1.05, \"OD280/OD315 of diluted wines\": 3.4, \"Proline\": 1050}, {\"Type\": 1, \"Alcohol\": 13.16, \"Malic acid\": 2.36, \"Ash\": 2.67, \"Alcalinity of ash\": 18.6, \"Magnesium\": 101, \"Total phenols\": 2.8, \"Flavanoids\": 3.24, \"Nonflavanoid phenols\": 0.3, \"Proanthocyanins\": 2.81, \"Color intensity\": 5.68, \"Hue\": 1.03, \"OD280/OD315 of diluted wines\": 3.17, \"Proline\": 1185}, {\"Type\": 1, \"Alcohol\": 14.37, \"Malic acid\": 1.95, \"Ash\": 2.5, \"Alcalinity of ash\": 16.8, \"Magnesium\": 113, \"Total phenols\": 3.85, \"Flavanoids\": 3.49, \"Nonflavanoid phenols\": 0.24, \"Proanthocyanins\": 2.18, \"Color intensity\": 7.8, \"Hue\": 0.86, \"OD280/OD315 of diluted wines\": 3.45, \"Proline\": 1480}, {\"Type\": 1, \"Alcohol\": 13.24, \"Malic acid\": 2.59, \"Ash\": 2.87, \"Alcalinity of ash\": 21.0, \"Magnesium\": 118, \"Total phenols\": 2.8, \"Flavanoids\": 2.69, \"Nonflavanoid phenols\": 0.39, \"Proanthocyanins\": 1.82, \"Color intensity\": 4.32, \"Hue\": 1.04, \"OD280/OD315 of diluted wines\": 2.93, \"Proline\": 735}, {\"Type\": 1, \"Alcohol\": 14.2, \"Malic acid\": 1.76, \"Ash\": 2.45, \"Alcalinity of ash\": 15.2, \"Magnesium\": 112, \"Total phenols\": 3.27, \"Flavanoids\": 3.39, \"Nonflavanoid phenols\": 0.34, \"Proanthocyanins\": 1.97, \"Color intensity\": 6.75, \"Hue\": 1.05, \"OD280/OD315 of diluted wines\": 2.85, \"Proline\": 1450}, {\"Type\": 1, \"Alcohol\": 14.39, \"Malic acid\": 1.87, \"Ash\": 2.45, \"Alcalinity of ash\": 14.6, \"Magnesium\": 96, \"Total phenols\": 2.5, \"Flavanoids\": 2.52, \"Nonflavanoid phenols\": 0.3, \"Proanthocyanins\": 1.98, \"Color intensity\": 5.25, \"Hue\": 1.02, \"OD280/OD315 of diluted wines\": 3.58, \"Proline\": 1290}, {\"Type\": 1, \"Alcohol\": 14.06, \"Malic acid\": 2.15, \"Ash\": 2.61, \"Alcalinity of ash\": 17.6, \"Magnesium\": 121, \"Total phenols\": 2.6, \"Flavanoids\": 2.51, \"Nonflavanoid phenols\": 0.31, \"Proanthocyanins\": 1.25, \"Color intensity\": 5.05, \"Hue\": 1.06, \"OD280/OD315 of diluted wines\": 3.58, \"Proline\": 1295}, {\"Type\": 1, \"Alcohol\": 14.83, \"Malic acid\": 1.64, \"Ash\": 2.17, \"Alcalinity of ash\": 14.0, \"Magnesium\": 97, \"Total phenols\": 2.8, \"Flavanoids\": 2.98, \"Nonflavanoid phenols\": 0.29, \"Proanthocyanins\": 1.98, \"Color intensity\": 5.2, \"Hue\": 1.08, \"OD280/OD315 of diluted wines\": 2.85, \"Proline\": 1045}, {\"Type\": 1, \"Alcohol\": 13.86, \"Malic acid\": 1.35, \"Ash\": 2.27, \"Alcalinity of ash\": 16.0, \"Magnesium\": 98, \"Total phenols\": 2.98, \"Flavanoids\": 3.15, \"Nonflavanoid phenols\": 0.22, \"Proanthocyanins\": 1.85, \"Color intensity\": 7.22, \"Hue\": 1.01, \"OD280/OD315 of diluted wines\": 3.55, \"Proline\": 1045}, {\"Type\": 1, \"Alcohol\": 14.1, \"Malic acid\": 2.16, \"Ash\": 2.3, \"Alcalinity of ash\": 18.0, \"Magnesium\": 105, \"Total phenols\": 2.95, \"Flavanoids\": 3.32, \"Nonflavanoid phenols\": 0.22, \"Proanthocyanins\": 2.38, \"Color intensity\": 5.75, \"Hue\": 1.25, \"OD280/OD315 of diluted wines\": 3.17, \"Proline\": 1510}, {\"Type\": 1, \"Alcohol\": 14.12, \"Malic acid\": 1.48, \"Ash\": 2.32, \"Alcalinity of ash\": 16.8, \"Magnesium\": 95, \"Total phenols\": 2.2, \"Flavanoids\": 2.43, \"Nonflavanoid phenols\": 0.26, \"Proanthocyanins\": 1.57, \"Color intensity\": 5.0, \"Hue\": 1.17, \"OD280/OD315 of diluted wines\": 2.82, \"Proline\": 1280}, {\"Type\": 1, \"Alcohol\": 13.75, \"Malic acid\": 1.73, \"Ash\": 2.41, \"Alcalinity of ash\": 16.0, \"Magnesium\": 89, \"Total phenols\": 2.6, \"Flavanoids\": 2.76, \"Nonflavanoid phenols\": 0.29, \"Proanthocyanins\": 1.81, \"Color intensity\": 5.6, \"Hue\": 1.15, \"OD280/OD315 of diluted wines\": 2.9, \"Proline\": 1320}, {\"Type\": 1, \"Alcohol\": 14.75, \"Malic acid\": 1.73, \"Ash\": 2.39, \"Alcalinity of ash\": 11.4, \"Magnesium\": 91, \"Total phenols\": 3.1, \"Flavanoids\": 3.69, \"Nonflavanoid phenols\": 0.43, \"Proanthocyanins\": 2.81, \"Color intensity\": 5.4, \"Hue\": 1.25, \"OD280/OD315 of diluted wines\": 2.73, \"Proline\": 1150}, {\"Type\": 1, \"Alcohol\": 14.38, \"Malic acid\": 1.87, \"Ash\": 2.38, \"Alcalinity of ash\": 12.0, \"Magnesium\": 102, \"Total phenols\": 3.3, \"Flavanoids\": 3.64, \"Nonflavanoid phenols\": 0.29, \"Proanthocyanins\": 2.96, \"Color intensity\": 7.5, \"Hue\": 1.2, \"OD280/OD315 of diluted wines\": 3.0, \"Proline\": 1547}, {\"Type\": 1, \"Alcohol\": 13.63, \"Malic acid\": 1.81, \"Ash\": 2.7, \"Alcalinity of ash\": 17.2, \"Magnesium\": 112, \"Total phenols\": 2.85, \"Flavanoids\": 2.91, \"Nonflavanoid phenols\": 0.3, \"Proanthocyanins\": 1.46, \"Color intensity\": 7.3, \"Hue\": 1.28, \"OD280/OD315 of diluted wines\": 2.88, \"Proline\": 1310}, {\"Type\": 1, \"Alcohol\": 14.3, \"Malic acid\": 1.92, \"Ash\": 2.72, \"Alcalinity of ash\": 20.0, \"Magnesium\": 120, \"Total phenols\": 2.8, \"Flavanoids\": 3.14, \"Nonflavanoid phenols\": 0.33, \"Proanthocyanins\": 1.97, \"Color intensity\": 6.2, \"Hue\": 1.07, \"OD280/OD315 of diluted wines\": 2.65, \"Proline\": 1280}, {\"Type\": 1, \"Alcohol\": 13.83, \"Malic acid\": 1.57, \"Ash\": 2.62, \"Alcalinity of ash\": 20.0, \"Magnesium\": 115, \"Total phenols\": 2.95, \"Flavanoids\": 3.4, \"Nonflavanoid phenols\": 0.4, \"Proanthocyanins\": 1.72, \"Color intensity\": 6.6, \"Hue\": 1.13, \"OD280/OD315 of diluted wines\": 2.57, \"Proline\": 1130}, {\"Type\": 1, \"Alcohol\": 14.19, \"Malic acid\": 1.59, \"Ash\": 2.48, \"Alcalinity of ash\": 16.5, \"Magnesium\": 108, \"Total phenols\": 3.3, \"Flavanoids\": 3.93, \"Nonflavanoid phenols\": 0.32, \"Proanthocyanins\": 1.86, \"Color intensity\": 8.7, \"Hue\": 1.23, \"OD280/OD315 of diluted wines\": 2.82, \"Proline\": 1680}, {\"Type\": 1, \"Alcohol\": 13.64, \"Malic acid\": 3.1, \"Ash\": 2.56, \"Alcalinity of ash\": 15.2, \"Magnesium\": 116, \"Total phenols\": 2.7, \"Flavanoids\": 3.03, \"Nonflavanoid phenols\": 0.17, \"Proanthocyanins\": 1.66, \"Color intensity\": 5.1, \"Hue\": 0.96, \"OD280/OD315 of diluted wines\": 3.36, \"Proline\": 845}, {\"Type\": 1, \"Alcohol\": 14.06, \"Malic acid\": 1.63, \"Ash\": 2.28, \"Alcalinity of ash\": 16.0, \"Magnesium\": 126, \"Total phenols\": 3.0, \"Flavanoids\": 3.17, \"Nonflavanoid phenols\": 0.24, \"Proanthocyanins\": 2.1, \"Color intensity\": 5.65, \"Hue\": 1.09, \"OD280/OD315 of diluted wines\": 3.71, \"Proline\": 780}, {\"Type\": 1, \"Alcohol\": 12.93, \"Malic acid\": 3.8, \"Ash\": 2.65, \"Alcalinity of ash\": 18.6, \"Magnesium\": 102, \"Total phenols\": 2.41, \"Flavanoids\": 2.41, \"Nonflavanoid phenols\": 0.25, \"Proanthocyanins\": 1.98, \"Color intensity\": 4.5, \"Hue\": 1.03, \"OD280/OD315 of diluted wines\": 3.52, \"Proline\": 770}, {\"Type\": 1, \"Alcohol\": 13.71, \"Malic acid\": 1.86, \"Ash\": 2.36, \"Alcalinity of ash\": 16.6, \"Magnesium\": 101, \"Total phenols\": 2.61, \"Flavanoids\": 2.88, \"Nonflavanoid phenols\": 0.27, \"Proanthocyanins\": 1.69, \"Color intensity\": 3.8, \"Hue\": 1.11, \"OD280/OD315 of diluted wines\": 4.0, \"Proline\": 1035}, {\"Type\": 1, \"Alcohol\": 12.85, \"Malic acid\": 1.6, \"Ash\": 2.52, \"Alcalinity of ash\": 17.8, \"Magnesium\": 95, \"Total phenols\": 2.48, \"Flavanoids\": 2.37, \"Nonflavanoid phenols\": 0.26, \"Proanthocyanins\": 1.46, \"Color intensity\": 3.93, \"Hue\": 1.09, \"OD280/OD315 of diluted wines\": 3.63, \"Proline\": 1015}, {\"Type\": 1, \"Alcohol\": 13.5, \"Malic acid\": 1.81, \"Ash\": 2.61, \"Alcalinity of ash\": 20.0, \"Magnesium\": 96, \"Total phenols\": 2.53, \"Flavanoids\": 2.61, \"Nonflavanoid phenols\": 0.28, \"Proanthocyanins\": 1.66, \"Color intensity\": 3.52, \"Hue\": 1.12, \"OD280/OD315 of diluted wines\": 3.82, \"Proline\": 845}, {\"Type\": 1, \"Alcohol\": 13.05, \"Malic acid\": 2.05, \"Ash\": 3.22, \"Alcalinity of ash\": 25.0, \"Magnesium\": 124, \"Total phenols\": 2.63, \"Flavanoids\": 2.68, \"Nonflavanoid phenols\": 0.47, \"Proanthocyanins\": 1.92, \"Color intensity\": 3.58, \"Hue\": 1.13, \"OD280/OD315 of diluted wines\": 3.2, \"Proline\": 830}, {\"Type\": 1, \"Alcohol\": 13.39, \"Malic acid\": 1.77, \"Ash\": 2.62, \"Alcalinity of ash\": 16.1, \"Magnesium\": 93, \"Total phenols\": 2.85, \"Flavanoids\": 2.94, \"Nonflavanoid phenols\": 0.34, \"Proanthocyanins\": 1.45, \"Color intensity\": 4.8, \"Hue\": 0.92, \"OD280/OD315 of diluted wines\": 3.22, \"Proline\": 1195}, {\"Type\": 1, \"Alcohol\": 13.3, \"Malic acid\": 1.72, \"Ash\": 2.14, \"Alcalinity of ash\": 17.0, \"Magnesium\": 94, \"Total phenols\": 2.4, \"Flavanoids\": 2.19, \"Nonflavanoid phenols\": 0.27, \"Proanthocyanins\": 1.35, \"Color intensity\": 3.95, \"Hue\": 1.02, \"OD280/OD315 of diluted wines\": 2.77, \"Proline\": 1285}, {\"Type\": 1, \"Alcohol\": 13.87, \"Malic acid\": 1.9, \"Ash\": 2.8, \"Alcalinity of ash\": 19.4, \"Magnesium\": 107, \"Total phenols\": 2.95, \"Flavanoids\": 2.97, \"Nonflavanoid phenols\": 0.37, \"Proanthocyanins\": 1.76, \"Color intensity\": 4.5, \"Hue\": 1.25, \"OD280/OD315 of diluted wines\": 3.4, \"Proline\": 915}, {\"Type\": 1, \"Alcohol\": 14.02, \"Malic acid\": 1.68, \"Ash\": 2.21, \"Alcalinity of ash\": 16.0, \"Magnesium\": 96, \"Total phenols\": 2.65, \"Flavanoids\": 2.33, \"Nonflavanoid phenols\": 0.26, \"Proanthocyanins\": 1.98, \"Color intensity\": 4.7, \"Hue\": 1.04, \"OD280/OD315 of diluted wines\": 3.59, \"Proline\": 1035}, {\"Type\": 1, \"Alcohol\": 13.73, \"Malic acid\": 1.5, \"Ash\": 2.7, \"Alcalinity of ash\": 22.5, \"Magnesium\": 101, \"Total phenols\": 3.0, \"Flavanoids\": 3.25, \"Nonflavanoid phenols\": 0.29, \"Proanthocyanins\": 2.38, \"Color intensity\": 5.7, \"Hue\": 1.19, \"OD280/OD315 of diluted wines\": 2.71, \"Proline\": 1285}, {\"Type\": 1, \"Alcohol\": 13.58, \"Malic acid\": 1.66, \"Ash\": 2.36, \"Alcalinity of ash\": 19.1, \"Magnesium\": 106, \"Total phenols\": 2.86, \"Flavanoids\": 3.19, \"Nonflavanoid phenols\": 0.22, \"Proanthocyanins\": 1.95, \"Color intensity\": 6.9, \"Hue\": 1.09, \"OD280/OD315 of diluted wines\": 2.88, \"Proline\": 1515}, {\"Type\": 1, \"Alcohol\": 13.68, \"Malic acid\": 1.83, \"Ash\": 2.36, \"Alcalinity of ash\": 17.2, \"Magnesium\": 104, \"Total phenols\": 2.42, \"Flavanoids\": 2.69, \"Nonflavanoid phenols\": 0.42, \"Proanthocyanins\": 1.97, \"Color intensity\": 3.84, \"Hue\": 1.23, \"OD280/OD315 of diluted wines\": 2.87, \"Proline\": 990}, {\"Type\": 1, \"Alcohol\": 13.76, \"Malic acid\": 1.53, \"Ash\": 2.7, \"Alcalinity of ash\": 19.5, \"Magnesium\": 132, \"Total phenols\": 2.95, \"Flavanoids\": 2.74, \"Nonflavanoid phenols\": 0.5, \"Proanthocyanins\": 1.35, \"Color intensity\": 5.4, \"Hue\": 1.25, \"OD280/OD315 of diluted wines\": 3.0, \"Proline\": 1235}, {\"Type\": 1, \"Alcohol\": 13.51, \"Malic acid\": 1.8, \"Ash\": 2.65, \"Alcalinity of ash\": 19.0, \"Magnesium\": 110, \"Total phenols\": 2.35, \"Flavanoids\": 2.53, \"Nonflavanoid phenols\": 0.29, \"Proanthocyanins\": 1.54, \"Color intensity\": 4.2, \"Hue\": 1.1, \"OD280/OD315 of diluted wines\": 2.87, \"Proline\": 1095}, {\"Type\": 1, \"Alcohol\": 13.48, \"Malic acid\": 1.81, \"Ash\": 2.41, \"Alcalinity of ash\": 20.5, \"Magnesium\": 100, \"Total phenols\": 2.7, \"Flavanoids\": 2.98, \"Nonflavanoid phenols\": 0.26, \"Proanthocyanins\": 1.86, \"Color intensity\": 5.1, \"Hue\": 1.04, \"OD280/OD315 of diluted wines\": 3.47, \"Proline\": 920}, {\"Type\": 1, \"Alcohol\": 13.28, \"Malic acid\": 1.64, \"Ash\": 2.84, \"Alcalinity of ash\": 15.5, \"Magnesium\": 110, \"Total phenols\": 2.6, \"Flavanoids\": 2.68, \"Nonflavanoid phenols\": 0.34, \"Proanthocyanins\": 1.36, \"Color intensity\": 4.6, \"Hue\": 1.09, \"OD280/OD315 of diluted wines\": 2.78, \"Proline\": 880}, {\"Type\": 1, \"Alcohol\": 13.05, \"Malic acid\": 1.65, \"Ash\": 2.55, \"Alcalinity of ash\": 18.0, \"Magnesium\": 98, \"Total phenols\": 2.45, \"Flavanoids\": 2.43, \"Nonflavanoid phenols\": 0.29, \"Proanthocyanins\": 1.44, \"Color intensity\": 4.25, \"Hue\": 1.12, \"OD280/OD315 of diluted wines\": 2.51, \"Proline\": 1105}, {\"Type\": 1, \"Alcohol\": 13.07, \"Malic acid\": 1.5, \"Ash\": 2.1, \"Alcalinity of ash\": 15.5, \"Magnesium\": 98, \"Total phenols\": 2.4, \"Flavanoids\": 2.64, \"Nonflavanoid phenols\": 0.28, \"Proanthocyanins\": 1.37, \"Color intensity\": 3.7, \"Hue\": 1.18, \"OD280/OD315 of diluted wines\": 2.69, \"Proline\": 1020}, {\"Type\": 1, \"Alcohol\": 14.22, \"Malic acid\": 3.99, \"Ash\": 2.51, \"Alcalinity of ash\": 13.2, \"Magnesium\": 128, \"Total phenols\": 3.0, \"Flavanoids\": 3.04, \"Nonflavanoid phenols\": 0.2, \"Proanthocyanins\": 2.08, \"Color intensity\": 5.1, \"Hue\": 0.89, \"OD280/OD315 of diluted wines\": 3.53, \"Proline\": 760}, {\"Type\": 1, \"Alcohol\": 13.56, \"Malic acid\": 1.71, \"Ash\": 2.31, \"Alcalinity of ash\": 16.2, \"Magnesium\": 117, \"Total phenols\": 3.15, \"Flavanoids\": 3.29, \"Nonflavanoid phenols\": 0.34, \"Proanthocyanins\": 2.34, \"Color intensity\": 6.13, \"Hue\": 0.95, \"OD280/OD315 of diluted wines\": 3.38, \"Proline\": 795}, {\"Type\": 1, \"Alcohol\": 13.41, \"Malic acid\": 3.84, \"Ash\": 2.12, \"Alcalinity of ash\": 18.8, \"Magnesium\": 90, \"Total phenols\": 2.45, \"Flavanoids\": 2.68, \"Nonflavanoid phenols\": 0.27, \"Proanthocyanins\": 1.48, \"Color intensity\": 4.28, \"Hue\": 0.91, \"OD280/OD315 of diluted wines\": 3.0, \"Proline\": 1035}, {\"Type\": 1, \"Alcohol\": 13.88, \"Malic acid\": 1.89, \"Ash\": 2.59, \"Alcalinity of ash\": 15.0, \"Magnesium\": 101, \"Total phenols\": 3.25, \"Flavanoids\": 3.56, \"Nonflavanoid phenols\": 0.17, \"Proanthocyanins\": 1.7, \"Color intensity\": 5.43, \"Hue\": 0.88, \"OD280/OD315 of diluted wines\": 3.56, \"Proline\": 1095}, {\"Type\": 1, \"Alcohol\": 13.24, \"Malic acid\": 3.98, \"Ash\": 2.29, \"Alcalinity of ash\": 17.5, \"Magnesium\": 103, \"Total phenols\": 2.64, \"Flavanoids\": 2.63, \"Nonflavanoid phenols\": 0.32, \"Proanthocyanins\": 1.66, \"Color intensity\": 4.36, \"Hue\": 0.82, \"OD280/OD315 of diluted wines\": 3.0, \"Proline\": 680}, {\"Type\": 1, \"Alcohol\": 13.05, \"Malic acid\": 1.77, \"Ash\": 2.1, \"Alcalinity of ash\": 17.0, \"Magnesium\": 107, \"Total phenols\": 3.0, \"Flavanoids\": 3.0, \"Nonflavanoid phenols\": 0.28, \"Proanthocyanins\": 2.03, \"Color intensity\": 5.04, \"Hue\": 0.88, \"OD280/OD315 of diluted wines\": 3.35, \"Proline\": 885}, {\"Type\": 1, \"Alcohol\": 14.21, \"Malic acid\": 4.04, \"Ash\": 2.44, \"Alcalinity of ash\": 18.9, \"Magnesium\": 111, \"Total phenols\": 2.85, \"Flavanoids\": 2.65, \"Nonflavanoid phenols\": 0.3, \"Proanthocyanins\": 1.25, \"Color intensity\": 5.24, \"Hue\": 0.87, \"OD280/OD315 of diluted wines\": 3.33, \"Proline\": 1080}, {\"Type\": 1, \"Alcohol\": 14.38, \"Malic acid\": 3.59, \"Ash\": 2.28, \"Alcalinity of ash\": 16.0, \"Magnesium\": 102, \"Total phenols\": 3.25, \"Flavanoids\": 3.17, \"Nonflavanoid phenols\": 0.27, \"Proanthocyanins\": 2.19, \"Color intensity\": 4.9, \"Hue\": 1.04, \"OD280/OD315 of diluted wines\": 3.44, \"Proline\": 1065}, {\"Type\": 1, \"Alcohol\": 13.9, \"Malic acid\": 1.68, \"Ash\": 2.12, \"Alcalinity of ash\": 16.0, \"Magnesium\": 101, \"Total phenols\": 3.1, \"Flavanoids\": 3.39, \"Nonflavanoid phenols\": 0.21, \"Proanthocyanins\": 2.14, \"Color intensity\": 6.1, \"Hue\": 0.91, \"OD280/OD315 of diluted wines\": 3.33, \"Proline\": 985}, {\"Type\": 1, \"Alcohol\": 14.1, \"Malic acid\": 2.02, \"Ash\": 2.4, \"Alcalinity of ash\": 18.8, \"Magnesium\": 103, \"Total phenols\": 2.75, \"Flavanoids\": 2.92, \"Nonflavanoid phenols\": 0.32, \"Proanthocyanins\": 2.38, \"Color intensity\": 6.2, \"Hue\": 1.07, \"OD280/OD315 of diluted wines\": 2.75, \"Proline\": 1060}, {\"Type\": 1, \"Alcohol\": 13.94, \"Malic acid\": 1.73, \"Ash\": 2.27, \"Alcalinity of ash\": 17.4, \"Magnesium\": 108, \"Total phenols\": 2.88, \"Flavanoids\": 3.54, \"Nonflavanoid phenols\": 0.32, \"Proanthocyanins\": 2.08, \"Color intensity\": 8.9, \"Hue\": 1.12, \"OD280/OD315 of diluted wines\": 3.1, \"Proline\": 1260}, {\"Type\": 1, \"Alcohol\": 13.05, \"Malic acid\": 1.73, \"Ash\": 2.04, \"Alcalinity of ash\": 12.4, \"Magnesium\": 92, \"Total phenols\": 2.72, \"Flavanoids\": 3.27, \"Nonflavanoid phenols\": 0.17, \"Proanthocyanins\": 2.91, \"Color intensity\": 7.2, \"Hue\": 1.12, \"OD280/OD315 of diluted wines\": 2.91, \"Proline\": 1150}, {\"Type\": 1, \"Alcohol\": 13.83, \"Malic acid\": 1.65, \"Ash\": 2.6, \"Alcalinity of ash\": 17.2, \"Magnesium\": 94, \"Total phenols\": 2.45, \"Flavanoids\": 2.99, \"Nonflavanoid phenols\": 0.22, \"Proanthocyanins\": 2.29, \"Color intensity\": 5.6, \"Hue\": 1.24, \"OD280/OD315 of diluted wines\": 3.37, \"Proline\": 1265}, {\"Type\": 1, \"Alcohol\": 13.82, \"Malic acid\": 1.75, \"Ash\": 2.42, \"Alcalinity of ash\": 14.0, \"Magnesium\": 111, \"Total phenols\": 3.88, \"Flavanoids\": 3.74, \"Nonflavanoid phenols\": 0.32, \"Proanthocyanins\": 1.87, \"Color intensity\": 7.05, \"Hue\": 1.01, \"OD280/OD315 of diluted wines\": 3.26, \"Proline\": 1190}, {\"Type\": 1, \"Alcohol\": 13.77, \"Malic acid\": 1.9, \"Ash\": 2.68, \"Alcalinity of ash\": 17.1, \"Magnesium\": 115, \"Total phenols\": 3.0, \"Flavanoids\": 2.79, \"Nonflavanoid phenols\": 0.39, \"Proanthocyanins\": 1.68, \"Color intensity\": 6.3, \"Hue\": 1.13, \"OD280/OD315 of diluted wines\": 2.93, \"Proline\": 1375}, {\"Type\": 1, \"Alcohol\": 13.74, \"Malic acid\": 1.67, \"Ash\": 2.25, \"Alcalinity of ash\": 16.4, \"Magnesium\": 118, \"Total phenols\": 2.6, \"Flavanoids\": 2.9, \"Nonflavanoid phenols\": 0.21, \"Proanthocyanins\": 1.62, \"Color intensity\": 5.85, \"Hue\": 0.92, \"OD280/OD315 of diluted wines\": 3.2, \"Proline\": 1060}, {\"Type\": 1, \"Alcohol\": 13.56, \"Malic acid\": 1.73, \"Ash\": 2.46, \"Alcalinity of ash\": 20.5, \"Magnesium\": 116, \"Total phenols\": 2.96, \"Flavanoids\": 2.78, \"Nonflavanoid phenols\": 0.2, \"Proanthocyanins\": 2.45, \"Color intensity\": 6.25, \"Hue\": 0.98, \"OD280/OD315 of diluted wines\": 3.03, \"Proline\": 1120}, {\"Type\": 1, \"Alcohol\": 14.22, \"Malic acid\": 1.7, \"Ash\": 2.3, \"Alcalinity of ash\": 16.3, \"Magnesium\": 118, \"Total phenols\": 3.2, \"Flavanoids\": 3.0, \"Nonflavanoid phenols\": 0.26, \"Proanthocyanins\": 2.03, \"Color intensity\": 6.38, \"Hue\": 0.94, \"OD280/OD315 of diluted wines\": 3.31, \"Proline\": 970}, {\"Type\": 1, \"Alcohol\": 13.29, \"Malic acid\": 1.97, \"Ash\": 2.68, \"Alcalinity of ash\": 16.8, \"Magnesium\": 102, \"Total phenols\": 3.0, \"Flavanoids\": 3.23, \"Nonflavanoid phenols\": 0.31, \"Proanthocyanins\": 1.66, \"Color intensity\": 6.0, \"Hue\": 1.07, \"OD280/OD315 of diluted wines\": 2.84, \"Proline\": 1270}, {\"Type\": 1, \"Alcohol\": 13.72, \"Malic acid\": 1.43, \"Ash\": 2.5, \"Alcalinity of ash\": 16.7, \"Magnesium\": 108, \"Total phenols\": 3.4, \"Flavanoids\": 3.67, \"Nonflavanoid phenols\": 0.19, \"Proanthocyanins\": 2.04, \"Color intensity\": 6.8, \"Hue\": 0.89, \"OD280/OD315 of diluted wines\": 2.87, \"Proline\": 1285}, {\"Type\": 2, \"Alcohol\": 12.37, \"Malic acid\": 0.94, \"Ash\": 1.36, \"Alcalinity of ash\": 10.6, \"Magnesium\": 88, \"Total phenols\": 1.98, \"Flavanoids\": 0.57, \"Nonflavanoid phenols\": 0.28, \"Proanthocyanins\": 0.42, \"Color intensity\": 1.95, \"Hue\": 1.05, \"OD280/OD315 of diluted wines\": 1.82, \"Proline\": 520}, {\"Type\": 2, \"Alcohol\": 12.33, \"Malic acid\": 1.1, \"Ash\": 2.28, \"Alcalinity of ash\": 16.0, \"Magnesium\": 101, \"Total phenols\": 2.05, \"Flavanoids\": 1.09, \"Nonflavanoid phenols\": 0.63, \"Proanthocyanins\": 0.41, \"Color intensity\": 3.27, \"Hue\": 1.25, \"OD280/OD315 of diluted wines\": 1.67, \"Proline\": 680}, {\"Type\": 2, \"Alcohol\": 12.64, \"Malic acid\": 1.36, \"Ash\": 2.02, \"Alcalinity of ash\": 16.8, \"Magnesium\": 100, \"Total phenols\": 2.02, \"Flavanoids\": 1.41, \"Nonflavanoid phenols\": 0.53, \"Proanthocyanins\": 0.62, \"Color intensity\": 5.75, \"Hue\": 0.98, \"OD280/OD315 of diluted wines\": 1.59, \"Proline\": 450}, {\"Type\": 2, \"Alcohol\": 13.67, \"Malic acid\": 1.25, \"Ash\": 1.92, \"Alcalinity of ash\": 18.0, \"Magnesium\": 94, \"Total phenols\": 2.1, \"Flavanoids\": 1.79, \"Nonflavanoid phenols\": 0.32, \"Proanthocyanins\": 0.73, \"Color intensity\": 3.8, \"Hue\": 1.23, \"OD280/OD315 of diluted wines\": 2.46, \"Proline\": 630}, {\"Type\": 2, \"Alcohol\": 12.37, \"Malic acid\": 1.13, \"Ash\": 2.16, \"Alcalinity of ash\": 19.0, \"Magnesium\": 87, \"Total phenols\": 3.5, \"Flavanoids\": 3.1, \"Nonflavanoid phenols\": 0.19, \"Proanthocyanins\": 1.87, \"Color intensity\": 4.45, \"Hue\": 1.22, \"OD280/OD315 of diluted wines\": 2.87, \"Proline\": 420}, {\"Type\": 2, \"Alcohol\": 12.17, \"Malic acid\": 1.45, \"Ash\": 2.53, \"Alcalinity of ash\": 19.0, \"Magnesium\": 104, \"Total phenols\": 1.89, \"Flavanoids\": 1.75, \"Nonflavanoid phenols\": 0.45, \"Proanthocyanins\": 1.03, \"Color intensity\": 2.95, \"Hue\": 1.45, \"OD280/OD315 of diluted wines\": 2.23, \"Proline\": 355}, {\"Type\": 2, \"Alcohol\": 12.37, \"Malic acid\": 1.21, \"Ash\": 2.56, \"Alcalinity of ash\": 18.1, \"Magnesium\": 98, \"Total phenols\": 2.42, \"Flavanoids\": 2.65, \"Nonflavanoid phenols\": 0.37, \"Proanthocyanins\": 2.08, \"Color intensity\": 4.6, \"Hue\": 1.19, \"OD280/OD315 of diluted wines\": 2.3, \"Proline\": 678}, {\"Type\": 2, \"Alcohol\": 13.11, \"Malic acid\": 1.01, \"Ash\": 1.7, \"Alcalinity of ash\": 15.0, \"Magnesium\": 78, \"Total phenols\": 2.98, \"Flavanoids\": 3.18, \"Nonflavanoid phenols\": 0.26, \"Proanthocyanins\": 2.28, \"Color intensity\": 5.3, \"Hue\": 1.12, \"OD280/OD315 of diluted wines\": 3.18, \"Proline\": 502}, {\"Type\": 2, \"Alcohol\": 12.37, \"Malic acid\": 1.17, \"Ash\": 1.92, \"Alcalinity of ash\": 19.6, \"Magnesium\": 78, \"Total phenols\": 2.11, \"Flavanoids\": 2.0, \"Nonflavanoid phenols\": 0.27, \"Proanthocyanins\": 1.04, \"Color intensity\": 4.68, \"Hue\": 1.12, \"OD280/OD315 of diluted wines\": 3.48, \"Proline\": 510}, {\"Type\": 2, \"Alcohol\": 13.34, \"Malic acid\": 0.94, \"Ash\": 2.36, \"Alcalinity of ash\": 17.0, \"Magnesium\": 110, \"Total phenols\": 2.53, \"Flavanoids\": 1.3, \"Nonflavanoid phenols\": 0.55, \"Proanthocyanins\": 0.42, \"Color intensity\": 3.17, \"Hue\": 1.02, \"OD280/OD315 of diluted wines\": 1.93, \"Proline\": 750}, {\"Type\": 2, \"Alcohol\": 12.21, \"Malic acid\": 1.19, \"Ash\": 1.75, \"Alcalinity of ash\": 16.8, \"Magnesium\": 151, \"Total phenols\": 1.85, \"Flavanoids\": 1.28, \"Nonflavanoid phenols\": 0.14, \"Proanthocyanins\": 2.5, \"Color intensity\": 2.85, \"Hue\": 1.28, \"OD280/OD315 of diluted wines\": 3.07, \"Proline\": 718}, {\"Type\": 2, \"Alcohol\": 12.29, \"Malic acid\": 1.61, \"Ash\": 2.21, \"Alcalinity of ash\": 20.4, \"Magnesium\": 103, \"Total phenols\": 1.1, \"Flavanoids\": 1.02, \"Nonflavanoid phenols\": 0.37, \"Proanthocyanins\": 1.46, \"Color intensity\": 3.05, \"Hue\": 0.9059999999999999, \"OD280/OD315 of diluted wines\": 1.82, \"Proline\": 870}, {\"Type\": 2, \"Alcohol\": 13.86, \"Malic acid\": 1.51, \"Ash\": 2.67, \"Alcalinity of ash\": 25.0, \"Magnesium\": 86, \"Total phenols\": 2.95, \"Flavanoids\": 2.86, \"Nonflavanoid phenols\": 0.21, \"Proanthocyanins\": 1.87, \"Color intensity\": 3.38, \"Hue\": 1.36, \"OD280/OD315 of diluted wines\": 3.16, \"Proline\": 410}, {\"Type\": 2, \"Alcohol\": 13.49, \"Malic acid\": 1.66, \"Ash\": 2.24, \"Alcalinity of ash\": 24.0, \"Magnesium\": 87, \"Total phenols\": 1.88, \"Flavanoids\": 1.84, \"Nonflavanoid phenols\": 0.27, \"Proanthocyanins\": 1.03, \"Color intensity\": 3.74, \"Hue\": 0.98, \"OD280/OD315 of diluted wines\": 2.78, \"Proline\": 472}, {\"Type\": 2, \"Alcohol\": 12.99, \"Malic acid\": 1.67, \"Ash\": 2.6, \"Alcalinity of ash\": 30.0, \"Magnesium\": 139, \"Total phenols\": 3.3, \"Flavanoids\": 2.89, \"Nonflavanoid phenols\": 0.21, \"Proanthocyanins\": 1.96, \"Color intensity\": 3.35, \"Hue\": 1.31, \"OD280/OD315 of diluted wines\": 3.5, \"Proline\": 985}, {\"Type\": 2, \"Alcohol\": 11.96, \"Malic acid\": 1.09, \"Ash\": 2.3, \"Alcalinity of ash\": 21.0, \"Magnesium\": 101, \"Total phenols\": 3.38, \"Flavanoids\": 2.14, \"Nonflavanoid phenols\": 0.13, \"Proanthocyanins\": 1.65, \"Color intensity\": 3.21, \"Hue\": 0.99, \"OD280/OD315 of diluted wines\": 3.13, \"Proline\": 886}, {\"Type\": 2, \"Alcohol\": 11.66, \"Malic acid\": 1.88, \"Ash\": 1.92, \"Alcalinity of ash\": 16.0, \"Magnesium\": 97, \"Total phenols\": 1.61, \"Flavanoids\": 1.57, \"Nonflavanoid phenols\": 0.34, \"Proanthocyanins\": 1.15, \"Color intensity\": 3.8, \"Hue\": 1.23, \"OD280/OD315 of diluted wines\": 2.14, \"Proline\": 428}, {\"Type\": 2, \"Alcohol\": 13.03, \"Malic acid\": 0.9, \"Ash\": 1.71, \"Alcalinity of ash\": 16.0, \"Magnesium\": 86, \"Total phenols\": 1.95, \"Flavanoids\": 2.03, \"Nonflavanoid phenols\": 0.24, \"Proanthocyanins\": 1.46, \"Color intensity\": 4.6, \"Hue\": 1.19, \"OD280/OD315 of diluted wines\": 2.48, \"Proline\": 392}, {\"Type\": 2, \"Alcohol\": 11.84, \"Malic acid\": 2.89, \"Ash\": 2.23, \"Alcalinity of ash\": 18.0, \"Magnesium\": 112, \"Total phenols\": 1.72, \"Flavanoids\": 1.32, \"Nonflavanoid phenols\": 0.43, \"Proanthocyanins\": 0.95, \"Color intensity\": 2.65, \"Hue\": 0.96, \"OD280/OD315 of diluted wines\": 2.52, \"Proline\": 500}, {\"Type\": 2, \"Alcohol\": 12.33, \"Malic acid\": 0.99, \"Ash\": 1.95, \"Alcalinity of ash\": 14.8, \"Magnesium\": 136, \"Total phenols\": 1.9, \"Flavanoids\": 1.85, \"Nonflavanoid phenols\": 0.35, \"Proanthocyanins\": 2.76, \"Color intensity\": 3.4, \"Hue\": 1.06, \"OD280/OD315 of diluted wines\": 2.31, \"Proline\": 750}, {\"Type\": 2, \"Alcohol\": 12.7, \"Malic acid\": 3.87, \"Ash\": 2.4, \"Alcalinity of ash\": 23.0, \"Magnesium\": 101, \"Total phenols\": 2.83, \"Flavanoids\": 2.55, \"Nonflavanoid phenols\": 0.43, \"Proanthocyanins\": 1.95, \"Color intensity\": 2.57, \"Hue\": 1.19, \"OD280/OD315 of diluted wines\": 3.13, \"Proline\": 463}, {\"Type\": 2, \"Alcohol\": 12.0, \"Malic acid\": 0.92, \"Ash\": 2.0, \"Alcalinity of ash\": 19.0, \"Magnesium\": 86, \"Total phenols\": 2.42, \"Flavanoids\": 2.26, \"Nonflavanoid phenols\": 0.3, \"Proanthocyanins\": 1.43, \"Color intensity\": 2.5, \"Hue\": 1.38, \"OD280/OD315 of diluted wines\": 3.12, \"Proline\": 278}, {\"Type\": 2, \"Alcohol\": 12.72, \"Malic acid\": 1.81, \"Ash\": 2.2, \"Alcalinity of ash\": 18.8, \"Magnesium\": 86, \"Total phenols\": 2.2, \"Flavanoids\": 2.53, \"Nonflavanoid phenols\": 0.26, \"Proanthocyanins\": 1.77, \"Color intensity\": 3.9, \"Hue\": 1.16, \"OD280/OD315 of diluted wines\": 3.14, \"Proline\": 714}, {\"Type\": 2, \"Alcohol\": 12.08, \"Malic acid\": 1.13, \"Ash\": 2.51, \"Alcalinity of ash\": 24.0, \"Magnesium\": 78, \"Total phenols\": 2.0, \"Flavanoids\": 1.58, \"Nonflavanoid phenols\": 0.4, \"Proanthocyanins\": 1.4, \"Color intensity\": 2.2, \"Hue\": 1.31, \"OD280/OD315 of diluted wines\": 2.72, \"Proline\": 630}, {\"Type\": 2, \"Alcohol\": 13.05, \"Malic acid\": 3.86, \"Ash\": 2.32, \"Alcalinity of ash\": 22.5, \"Magnesium\": 85, \"Total phenols\": 1.65, \"Flavanoids\": 1.59, \"Nonflavanoid phenols\": 0.61, \"Proanthocyanins\": 1.62, \"Color intensity\": 4.8, \"Hue\": 0.84, \"OD280/OD315 of diluted wines\": 2.01, \"Proline\": 515}, {\"Type\": 2, \"Alcohol\": 11.84, \"Malic acid\": 0.89, \"Ash\": 2.58, \"Alcalinity of ash\": 18.0, \"Magnesium\": 94, \"Total phenols\": 2.2, \"Flavanoids\": 2.21, \"Nonflavanoid phenols\": 0.22, \"Proanthocyanins\": 2.35, \"Color intensity\": 3.05, \"Hue\": 0.79, \"OD280/OD315 of diluted wines\": 3.08, \"Proline\": 520}, {\"Type\": 2, \"Alcohol\": 12.67, \"Malic acid\": 0.98, \"Ash\": 2.24, \"Alcalinity of ash\": 18.0, \"Magnesium\": 99, \"Total phenols\": 2.2, \"Flavanoids\": 1.94, \"Nonflavanoid phenols\": 0.3, \"Proanthocyanins\": 1.46, \"Color intensity\": 2.62, \"Hue\": 1.23, \"OD280/OD315 of diluted wines\": 3.16, \"Proline\": 450}, {\"Type\": 2, \"Alcohol\": 12.16, \"Malic acid\": 1.61, \"Ash\": 2.31, \"Alcalinity of ash\": 22.8, \"Magnesium\": 90, \"Total phenols\": 1.78, \"Flavanoids\": 1.69, \"Nonflavanoid phenols\": 0.43, \"Proanthocyanins\": 1.56, \"Color intensity\": 2.45, \"Hue\": 1.33, \"OD280/OD315 of diluted wines\": 2.26, \"Proline\": 495}, {\"Type\": 2, \"Alcohol\": 11.65, \"Malic acid\": 1.67, \"Ash\": 2.62, \"Alcalinity of ash\": 26.0, \"Magnesium\": 88, \"Total phenols\": 1.92, \"Flavanoids\": 1.61, \"Nonflavanoid phenols\": 0.4, \"Proanthocyanins\": 1.34, \"Color intensity\": 2.6, \"Hue\": 1.36, \"OD280/OD315 of diluted wines\": 3.21, \"Proline\": 562}, {\"Type\": 2, \"Alcohol\": 11.64, \"Malic acid\": 2.06, \"Ash\": 2.46, \"Alcalinity of ash\": 21.6, \"Magnesium\": 84, \"Total phenols\": 1.95, \"Flavanoids\": 1.69, \"Nonflavanoid phenols\": 0.48, \"Proanthocyanins\": 1.35, \"Color intensity\": 2.8, \"Hue\": 1.0, \"OD280/OD315 of diluted wines\": 2.75, \"Proline\": 680}, {\"Type\": 2, \"Alcohol\": 12.08, \"Malic acid\": 1.33, \"Ash\": 2.3, \"Alcalinity of ash\": 23.6, \"Magnesium\": 70, \"Total phenols\": 2.2, \"Flavanoids\": 1.59, \"Nonflavanoid phenols\": 0.42, \"Proanthocyanins\": 1.38, \"Color intensity\": 1.74, \"Hue\": 1.07, \"OD280/OD315 of diluted wines\": 3.21, \"Proline\": 625}, {\"Type\": 2, \"Alcohol\": 12.08, \"Malic acid\": 1.83, \"Ash\": 2.32, \"Alcalinity of ash\": 18.5, \"Magnesium\": 81, \"Total phenols\": 1.6, \"Flavanoids\": 1.5, \"Nonflavanoid phenols\": 0.52, \"Proanthocyanins\": 1.64, \"Color intensity\": 2.4, \"Hue\": 1.08, \"OD280/OD315 of diluted wines\": 2.27, \"Proline\": 480}, {\"Type\": 2, \"Alcohol\": 12.0, \"Malic acid\": 1.51, \"Ash\": 2.42, \"Alcalinity of ash\": 22.0, \"Magnesium\": 86, \"Total phenols\": 1.45, \"Flavanoids\": 1.25, \"Nonflavanoid phenols\": 0.5, \"Proanthocyanins\": 1.63, \"Color intensity\": 3.6, \"Hue\": 1.05, \"OD280/OD315 of diluted wines\": 2.65, \"Proline\": 450}, {\"Type\": 2, \"Alcohol\": 12.69, \"Malic acid\": 1.53, \"Ash\": 2.26, \"Alcalinity of ash\": 20.7, \"Magnesium\": 80, \"Total phenols\": 1.38, \"Flavanoids\": 1.46, \"Nonflavanoid phenols\": 0.58, \"Proanthocyanins\": 1.62, \"Color intensity\": 3.05, \"Hue\": 0.96, \"OD280/OD315 of diluted wines\": 2.06, \"Proline\": 495}, {\"Type\": 2, \"Alcohol\": 12.29, \"Malic acid\": 2.83, \"Ash\": 2.22, \"Alcalinity of ash\": 18.0, \"Magnesium\": 88, \"Total phenols\": 2.45, \"Flavanoids\": 2.25, \"Nonflavanoid phenols\": 0.25, \"Proanthocyanins\": 1.99, \"Color intensity\": 2.15, \"Hue\": 1.15, \"OD280/OD315 of diluted wines\": 3.3, \"Proline\": 290}, {\"Type\": 2, \"Alcohol\": 11.62, \"Malic acid\": 1.99, \"Ash\": 2.28, \"Alcalinity of ash\": 18.0, \"Magnesium\": 98, \"Total phenols\": 3.02, \"Flavanoids\": 2.26, \"Nonflavanoid phenols\": 0.17, \"Proanthocyanins\": 1.35, \"Color intensity\": 3.25, \"Hue\": 1.16, \"OD280/OD315 of diluted wines\": 2.96, \"Proline\": 345}, {\"Type\": 2, \"Alcohol\": 12.47, \"Malic acid\": 1.52, \"Ash\": 2.2, \"Alcalinity of ash\": 19.0, \"Magnesium\": 162, \"Total phenols\": 2.5, \"Flavanoids\": 2.27, \"Nonflavanoid phenols\": 0.32, \"Proanthocyanins\": 3.28, \"Color intensity\": 2.6, \"Hue\": 1.16, \"OD280/OD315 of diluted wines\": 2.63, \"Proline\": 937}, {\"Type\": 2, \"Alcohol\": 11.81, \"Malic acid\": 2.12, \"Ash\": 2.74, \"Alcalinity of ash\": 21.5, \"Magnesium\": 134, \"Total phenols\": 1.6, \"Flavanoids\": 0.99, \"Nonflavanoid phenols\": 0.14, \"Proanthocyanins\": 1.56, \"Color intensity\": 2.5, \"Hue\": 0.95, \"OD280/OD315 of diluted wines\": 2.26, \"Proline\": 625}, {\"Type\": 2, \"Alcohol\": 12.29, \"Malic acid\": 1.41, \"Ash\": 1.98, \"Alcalinity of ash\": 16.0, \"Magnesium\": 85, \"Total phenols\": 2.55, \"Flavanoids\": 2.5, \"Nonflavanoid phenols\": 0.29, \"Proanthocyanins\": 1.77, \"Color intensity\": 2.9, \"Hue\": 1.23, \"OD280/OD315 of diluted wines\": 2.74, \"Proline\": 428}, {\"Type\": 2, \"Alcohol\": 12.37, \"Malic acid\": 1.07, \"Ash\": 2.1, \"Alcalinity of ash\": 18.5, \"Magnesium\": 88, \"Total phenols\": 3.52, \"Flavanoids\": 3.75, \"Nonflavanoid phenols\": 0.24, \"Proanthocyanins\": 1.95, \"Color intensity\": 4.5, \"Hue\": 1.04, \"OD280/OD315 of diluted wines\": 2.77, \"Proline\": 660}, {\"Type\": 2, \"Alcohol\": 12.29, \"Malic acid\": 3.17, \"Ash\": 2.21, \"Alcalinity of ash\": 18.0, \"Magnesium\": 88, \"Total phenols\": 2.85, \"Flavanoids\": 2.99, \"Nonflavanoid phenols\": 0.45, \"Proanthocyanins\": 2.81, \"Color intensity\": 2.3, \"Hue\": 1.42, \"OD280/OD315 of diluted wines\": 2.83, \"Proline\": 406}, {\"Type\": 2, \"Alcohol\": 12.08, \"Malic acid\": 2.08, \"Ash\": 1.7, \"Alcalinity of ash\": 17.5, \"Magnesium\": 97, \"Total phenols\": 2.23, \"Flavanoids\": 2.17, \"Nonflavanoid phenols\": 0.26, \"Proanthocyanins\": 1.4, \"Color intensity\": 3.3, \"Hue\": 1.27, \"OD280/OD315 of diluted wines\": 2.96, \"Proline\": 710}, {\"Type\": 2, \"Alcohol\": 12.6, \"Malic acid\": 1.34, \"Ash\": 1.9, \"Alcalinity of ash\": 18.5, \"Magnesium\": 88, \"Total phenols\": 1.45, \"Flavanoids\": 1.36, \"Nonflavanoid phenols\": 0.29, \"Proanthocyanins\": 1.35, \"Color intensity\": 2.45, \"Hue\": 1.04, \"OD280/OD315 of diluted wines\": 2.77, \"Proline\": 562}, {\"Type\": 2, \"Alcohol\": 12.34, \"Malic acid\": 2.45, \"Ash\": 2.46, \"Alcalinity of ash\": 21.0, \"Magnesium\": 98, \"Total phenols\": 2.56, \"Flavanoids\": 2.11, \"Nonflavanoid phenols\": 0.34, \"Proanthocyanins\": 1.31, \"Color intensity\": 2.8, \"Hue\": 0.8, \"OD280/OD315 of diluted wines\": 3.38, \"Proline\": 438}, {\"Type\": 2, \"Alcohol\": 11.82, \"Malic acid\": 1.72, \"Ash\": 1.88, \"Alcalinity of ash\": 19.5, \"Magnesium\": 86, \"Total phenols\": 2.5, \"Flavanoids\": 1.64, \"Nonflavanoid phenols\": 0.37, \"Proanthocyanins\": 1.42, \"Color intensity\": 2.06, \"Hue\": 0.94, \"OD280/OD315 of diluted wines\": 2.44, \"Proline\": 415}, {\"Type\": 2, \"Alcohol\": 12.51, \"Malic acid\": 1.73, \"Ash\": 1.98, \"Alcalinity of ash\": 20.5, \"Magnesium\": 85, \"Total phenols\": 2.2, \"Flavanoids\": 1.92, \"Nonflavanoid phenols\": 0.32, \"Proanthocyanins\": 1.48, \"Color intensity\": 2.94, \"Hue\": 1.04, \"OD280/OD315 of diluted wines\": 3.57, \"Proline\": 672}, {\"Type\": 2, \"Alcohol\": 12.42, \"Malic acid\": 2.55, \"Ash\": 2.27, \"Alcalinity of ash\": 22.0, \"Magnesium\": 90, \"Total phenols\": 1.68, \"Flavanoids\": 1.84, \"Nonflavanoid phenols\": 0.66, \"Proanthocyanins\": 1.42, \"Color intensity\": 2.7, \"Hue\": 0.86, \"OD280/OD315 of diluted wines\": 3.3, \"Proline\": 315}, {\"Type\": 2, \"Alcohol\": 12.25, \"Malic acid\": 1.73, \"Ash\": 2.12, \"Alcalinity of ash\": 19.0, \"Magnesium\": 80, \"Total phenols\": 1.65, \"Flavanoids\": 2.03, \"Nonflavanoid phenols\": 0.37, \"Proanthocyanins\": 1.63, \"Color intensity\": 3.4, \"Hue\": 1.0, \"OD280/OD315 of diluted wines\": 3.17, \"Proline\": 510}, {\"Type\": 2, \"Alcohol\": 12.72, \"Malic acid\": 1.75, \"Ash\": 2.28, \"Alcalinity of ash\": 22.5, \"Magnesium\": 84, \"Total phenols\": 1.38, \"Flavanoids\": 1.76, \"Nonflavanoid phenols\": 0.48, \"Proanthocyanins\": 1.63, \"Color intensity\": 3.3, \"Hue\": 0.88, \"OD280/OD315 of diluted wines\": 2.42, \"Proline\": 488}, {\"Type\": 2, \"Alcohol\": 12.22, \"Malic acid\": 1.29, \"Ash\": 1.94, \"Alcalinity of ash\": 19.0, \"Magnesium\": 92, \"Total phenols\": 2.36, \"Flavanoids\": 2.04, \"Nonflavanoid phenols\": 0.39, \"Proanthocyanins\": 2.08, \"Color intensity\": 2.7, \"Hue\": 0.86, \"OD280/OD315 of diluted wines\": 3.02, \"Proline\": 312}, {\"Type\": 2, \"Alcohol\": 11.61, \"Malic acid\": 1.35, \"Ash\": 2.7, \"Alcalinity of ash\": 20.0, \"Magnesium\": 94, \"Total phenols\": 2.74, \"Flavanoids\": 2.92, \"Nonflavanoid phenols\": 0.29, \"Proanthocyanins\": 2.49, \"Color intensity\": 2.65, \"Hue\": 0.96, \"OD280/OD315 of diluted wines\": 3.26, \"Proline\": 680}, {\"Type\": 2, \"Alcohol\": 11.46, \"Malic acid\": 3.74, \"Ash\": 1.82, \"Alcalinity of ash\": 19.5, \"Magnesium\": 107, \"Total phenols\": 3.18, \"Flavanoids\": 2.58, \"Nonflavanoid phenols\": 0.24, \"Proanthocyanins\": 3.58, \"Color intensity\": 2.9, \"Hue\": 0.75, \"OD280/OD315 of diluted wines\": 2.81, \"Proline\": 562}, {\"Type\": 2, \"Alcohol\": 12.52, \"Malic acid\": 2.43, \"Ash\": 2.17, \"Alcalinity of ash\": 21.0, \"Magnesium\": 88, \"Total phenols\": 2.55, \"Flavanoids\": 2.27, \"Nonflavanoid phenols\": 0.26, \"Proanthocyanins\": 1.22, \"Color intensity\": 2.0, \"Hue\": 0.9, \"OD280/OD315 of diluted wines\": 2.78, \"Proline\": 325}, {\"Type\": 2, \"Alcohol\": 11.76, \"Malic acid\": 2.68, \"Ash\": 2.92, \"Alcalinity of ash\": 20.0, \"Magnesium\": 103, \"Total phenols\": 1.75, \"Flavanoids\": 2.03, \"Nonflavanoid phenols\": 0.6, \"Proanthocyanins\": 1.05, \"Color intensity\": 3.8, \"Hue\": 1.23, \"OD280/OD315 of diluted wines\": 2.5, \"Proline\": 607}, {\"Type\": 2, \"Alcohol\": 11.41, \"Malic acid\": 0.74, \"Ash\": 2.5, \"Alcalinity of ash\": 21.0, \"Magnesium\": 88, \"Total phenols\": 2.48, \"Flavanoids\": 2.01, \"Nonflavanoid phenols\": 0.42, \"Proanthocyanins\": 1.44, \"Color intensity\": 3.08, \"Hue\": 1.1, \"OD280/OD315 of diluted wines\": 2.31, \"Proline\": 434}, {\"Type\": 2, \"Alcohol\": 12.08, \"Malic acid\": 1.39, \"Ash\": 2.5, \"Alcalinity of ash\": 22.5, \"Magnesium\": 84, \"Total phenols\": 2.56, \"Flavanoids\": 2.29, \"Nonflavanoid phenols\": 0.43, \"Proanthocyanins\": 1.04, \"Color intensity\": 2.9, \"Hue\": 0.93, \"OD280/OD315 of diluted wines\": 3.19, \"Proline\": 385}, {\"Type\": 2, \"Alcohol\": 11.03, \"Malic acid\": 1.51, \"Ash\": 2.2, \"Alcalinity of ash\": 21.5, \"Magnesium\": 85, \"Total phenols\": 2.46, \"Flavanoids\": 2.17, \"Nonflavanoid phenols\": 0.52, \"Proanthocyanins\": 2.01, \"Color intensity\": 1.9, \"Hue\": 1.71, \"OD280/OD315 of diluted wines\": 2.87, \"Proline\": 407}, {\"Type\": 2, \"Alcohol\": 11.82, \"Malic acid\": 1.47, \"Ash\": 1.99, \"Alcalinity of ash\": 20.8, \"Magnesium\": 86, \"Total phenols\": 1.98, \"Flavanoids\": 1.6, \"Nonflavanoid phenols\": 0.3, \"Proanthocyanins\": 1.53, \"Color intensity\": 1.95, \"Hue\": 0.95, \"OD280/OD315 of diluted wines\": 3.33, \"Proline\": 495}, {\"Type\": 2, \"Alcohol\": 12.42, \"Malic acid\": 1.61, \"Ash\": 2.19, \"Alcalinity of ash\": 22.5, \"Magnesium\": 108, \"Total phenols\": 2.0, \"Flavanoids\": 2.09, \"Nonflavanoid phenols\": 0.34, \"Proanthocyanins\": 1.61, \"Color intensity\": 2.06, \"Hue\": 1.06, \"OD280/OD315 of diluted wines\": 2.96, \"Proline\": 345}, {\"Type\": 2, \"Alcohol\": 12.77, \"Malic acid\": 3.43, \"Ash\": 1.98, \"Alcalinity of ash\": 16.0, \"Magnesium\": 80, \"Total phenols\": 1.63, \"Flavanoids\": 1.25, \"Nonflavanoid phenols\": 0.43, \"Proanthocyanins\": 0.83, \"Color intensity\": 3.4, \"Hue\": 0.7, \"OD280/OD315 of diluted wines\": 2.12, \"Proline\": 372}, {\"Type\": 2, \"Alcohol\": 12.0, \"Malic acid\": 3.43, \"Ash\": 2.0, \"Alcalinity of ash\": 19.0, \"Magnesium\": 87, \"Total phenols\": 2.0, \"Flavanoids\": 1.64, \"Nonflavanoid phenols\": 0.37, \"Proanthocyanins\": 1.87, \"Color intensity\": 1.28, \"Hue\": 0.93, \"OD280/OD315 of diluted wines\": 3.05, \"Proline\": 564}, {\"Type\": 2, \"Alcohol\": 11.45, \"Malic acid\": 2.4, \"Ash\": 2.42, \"Alcalinity of ash\": 20.0, \"Magnesium\": 96, \"Total phenols\": 2.9, \"Flavanoids\": 2.79, \"Nonflavanoid phenols\": 0.32, \"Proanthocyanins\": 1.83, \"Color intensity\": 3.25, \"Hue\": 0.8, \"OD280/OD315 of diluted wines\": 3.39, \"Proline\": 625}, {\"Type\": 2, \"Alcohol\": 11.56, \"Malic acid\": 2.05, \"Ash\": 3.23, \"Alcalinity of ash\": 28.5, \"Magnesium\": 119, \"Total phenols\": 3.18, \"Flavanoids\": 5.08, \"Nonflavanoid phenols\": 0.47, \"Proanthocyanins\": 1.87, \"Color intensity\": 6.0, \"Hue\": 0.93, \"OD280/OD315 of diluted wines\": 3.69, \"Proline\": 465}, {\"Type\": 2, \"Alcohol\": 12.42, \"Malic acid\": 4.43, \"Ash\": 2.73, \"Alcalinity of ash\": 26.5, \"Magnesium\": 102, \"Total phenols\": 2.2, \"Flavanoids\": 2.13, \"Nonflavanoid phenols\": 0.43, \"Proanthocyanins\": 1.71, \"Color intensity\": 2.08, \"Hue\": 0.92, \"OD280/OD315 of diluted wines\": 3.12, \"Proline\": 365}, {\"Type\": 2, \"Alcohol\": 13.05, \"Malic acid\": 5.8, \"Ash\": 2.13, \"Alcalinity of ash\": 21.5, \"Magnesium\": 86, \"Total phenols\": 2.62, \"Flavanoids\": 2.65, \"Nonflavanoid phenols\": 0.3, \"Proanthocyanins\": 2.01, \"Color intensity\": 2.6, \"Hue\": 0.73, \"OD280/OD315 of diluted wines\": 3.1, \"Proline\": 380}, {\"Type\": 2, \"Alcohol\": 11.87, \"Malic acid\": 4.31, \"Ash\": 2.39, \"Alcalinity of ash\": 21.0, \"Magnesium\": 82, \"Total phenols\": 2.86, \"Flavanoids\": 3.03, \"Nonflavanoid phenols\": 0.21, \"Proanthocyanins\": 2.91, \"Color intensity\": 2.8, \"Hue\": 0.75, \"OD280/OD315 of diluted wines\": 3.64, \"Proline\": 380}, {\"Type\": 2, \"Alcohol\": 12.07, \"Malic acid\": 2.16, \"Ash\": 2.17, \"Alcalinity of ash\": 21.0, \"Magnesium\": 85, \"Total phenols\": 2.6, \"Flavanoids\": 2.65, \"Nonflavanoid phenols\": 0.37, \"Proanthocyanins\": 1.35, \"Color intensity\": 2.76, \"Hue\": 0.86, \"OD280/OD315 of diluted wines\": 3.28, \"Proline\": 378}, {\"Type\": 2, \"Alcohol\": 12.43, \"Malic acid\": 1.53, \"Ash\": 2.29, \"Alcalinity of ash\": 21.5, \"Magnesium\": 86, \"Total phenols\": 2.74, \"Flavanoids\": 3.15, \"Nonflavanoid phenols\": 0.39, \"Proanthocyanins\": 1.77, \"Color intensity\": 3.94, \"Hue\": 0.69, \"OD280/OD315 of diluted wines\": 2.84, \"Proline\": 352}, {\"Type\": 2, \"Alcohol\": 11.79, \"Malic acid\": 2.13, \"Ash\": 2.78, \"Alcalinity of ash\": 28.5, \"Magnesium\": 92, \"Total phenols\": 2.13, \"Flavanoids\": 2.24, \"Nonflavanoid phenols\": 0.58, \"Proanthocyanins\": 1.76, \"Color intensity\": 3.0, \"Hue\": 0.97, \"OD280/OD315 of diluted wines\": 2.44, \"Proline\": 466}, {\"Type\": 2, \"Alcohol\": 12.37, \"Malic acid\": 1.63, \"Ash\": 2.3, \"Alcalinity of ash\": 24.5, \"Magnesium\": 88, \"Total phenols\": 2.22, \"Flavanoids\": 2.45, \"Nonflavanoid phenols\": 0.4, \"Proanthocyanins\": 1.9, \"Color intensity\": 2.12, \"Hue\": 0.89, \"OD280/OD315 of diluted wines\": 2.78, \"Proline\": 342}, {\"Type\": 2, \"Alcohol\": 12.04, \"Malic acid\": 4.3, \"Ash\": 2.38, \"Alcalinity of ash\": 22.0, \"Magnesium\": 80, \"Total phenols\": 2.1, \"Flavanoids\": 1.75, \"Nonflavanoid phenols\": 0.42, \"Proanthocyanins\": 1.35, \"Color intensity\": 2.6, \"Hue\": 0.79, \"OD280/OD315 of diluted wines\": 2.57, \"Proline\": 580}, {\"Type\": 3, \"Alcohol\": 12.86, \"Malic acid\": 1.35, \"Ash\": 2.32, \"Alcalinity of ash\": 18.0, \"Magnesium\": 122, \"Total phenols\": 1.51, \"Flavanoids\": 1.25, \"Nonflavanoid phenols\": 0.21, \"Proanthocyanins\": 0.94, \"Color intensity\": 4.1, \"Hue\": 0.76, \"OD280/OD315 of diluted wines\": 1.29, \"Proline\": 630}, {\"Type\": 3, \"Alcohol\": 12.88, \"Malic acid\": 2.99, \"Ash\": 2.4, \"Alcalinity of ash\": 20.0, \"Magnesium\": 104, \"Total phenols\": 1.3, \"Flavanoids\": 1.22, \"Nonflavanoid phenols\": 0.24, \"Proanthocyanins\": 0.83, \"Color intensity\": 5.4, \"Hue\": 0.74, \"OD280/OD315 of diluted wines\": 1.42, \"Proline\": 530}, {\"Type\": 3, \"Alcohol\": 12.81, \"Malic acid\": 2.31, \"Ash\": 2.4, \"Alcalinity of ash\": 24.0, \"Magnesium\": 98, \"Total phenols\": 1.15, \"Flavanoids\": 1.09, \"Nonflavanoid phenols\": 0.27, \"Proanthocyanins\": 0.83, \"Color intensity\": 5.7, \"Hue\": 0.66, \"OD280/OD315 of diluted wines\": 1.36, \"Proline\": 560}, {\"Type\": 3, \"Alcohol\": 12.7, \"Malic acid\": 3.55, \"Ash\": 2.36, \"Alcalinity of ash\": 21.5, \"Magnesium\": 106, \"Total phenols\": 1.7, \"Flavanoids\": 1.2, \"Nonflavanoid phenols\": 0.17, \"Proanthocyanins\": 0.84, \"Color intensity\": 5.0, \"Hue\": 0.78, \"OD280/OD315 of diluted wines\": 1.29, \"Proline\": 600}, {\"Type\": 3, \"Alcohol\": 12.51, \"Malic acid\": 1.24, \"Ash\": 2.25, \"Alcalinity of ash\": 17.5, \"Magnesium\": 85, \"Total phenols\": 2.0, \"Flavanoids\": 0.58, \"Nonflavanoid phenols\": 0.6, \"Proanthocyanins\": 1.25, \"Color intensity\": 5.45, \"Hue\": 0.75, \"OD280/OD315 of diluted wines\": 1.51, \"Proline\": 650}, {\"Type\": 3, \"Alcohol\": 12.6, \"Malic acid\": 2.46, \"Ash\": 2.2, \"Alcalinity of ash\": 18.5, \"Magnesium\": 94, \"Total phenols\": 1.62, \"Flavanoids\": 0.66, \"Nonflavanoid phenols\": 0.63, \"Proanthocyanins\": 0.94, \"Color intensity\": 7.1, \"Hue\": 0.73, \"OD280/OD315 of diluted wines\": 1.58, \"Proline\": 695}, {\"Type\": 3, \"Alcohol\": 12.25, \"Malic acid\": 4.72, \"Ash\": 2.54, \"Alcalinity of ash\": 21.0, \"Magnesium\": 89, \"Total phenols\": 1.38, \"Flavanoids\": 0.47, \"Nonflavanoid phenols\": 0.53, \"Proanthocyanins\": 0.8, \"Color intensity\": 3.85, \"Hue\": 0.75, \"OD280/OD315 of diluted wines\": 1.27, \"Proline\": 720}, {\"Type\": 3, \"Alcohol\": 12.53, \"Malic acid\": 5.51, \"Ash\": 2.64, \"Alcalinity of ash\": 25.0, \"Magnesium\": 96, \"Total phenols\": 1.79, \"Flavanoids\": 0.6, \"Nonflavanoid phenols\": 0.63, \"Proanthocyanins\": 1.1, \"Color intensity\": 5.0, \"Hue\": 0.82, \"OD280/OD315 of diluted wines\": 1.69, \"Proline\": 515}, {\"Type\": 3, \"Alcohol\": 13.49, \"Malic acid\": 3.59, \"Ash\": 2.19, \"Alcalinity of ash\": 19.5, \"Magnesium\": 88, \"Total phenols\": 1.62, \"Flavanoids\": 0.48, \"Nonflavanoid phenols\": 0.58, \"Proanthocyanins\": 0.88, \"Color intensity\": 5.7, \"Hue\": 0.81, \"OD280/OD315 of diluted wines\": 1.82, \"Proline\": 580}, {\"Type\": 3, \"Alcohol\": 12.84, \"Malic acid\": 2.96, \"Ash\": 2.61, \"Alcalinity of ash\": 24.0, \"Magnesium\": 101, \"Total phenols\": 2.32, \"Flavanoids\": 0.6, \"Nonflavanoid phenols\": 0.53, \"Proanthocyanins\": 0.81, \"Color intensity\": 4.92, \"Hue\": 0.89, \"OD280/OD315 of diluted wines\": 2.15, \"Proline\": 590}, {\"Type\": 3, \"Alcohol\": 12.93, \"Malic acid\": 2.81, \"Ash\": 2.7, \"Alcalinity of ash\": 21.0, \"Magnesium\": 96, \"Total phenols\": 1.54, \"Flavanoids\": 0.5, \"Nonflavanoid phenols\": 0.53, \"Proanthocyanins\": 0.75, \"Color intensity\": 4.6, \"Hue\": 0.77, \"OD280/OD315 of diluted wines\": 2.31, \"Proline\": 600}, {\"Type\": 3, \"Alcohol\": 13.36, \"Malic acid\": 2.56, \"Ash\": 2.35, \"Alcalinity of ash\": 20.0, \"Magnesium\": 89, \"Total phenols\": 1.4, \"Flavanoids\": 0.5, \"Nonflavanoid phenols\": 0.37, \"Proanthocyanins\": 0.64, \"Color intensity\": 5.6, \"Hue\": 0.7, \"OD280/OD315 of diluted wines\": 2.47, \"Proline\": 780}, {\"Type\": 3, \"Alcohol\": 13.52, \"Malic acid\": 3.17, \"Ash\": 2.72, \"Alcalinity of ash\": 23.5, \"Magnesium\": 97, \"Total phenols\": 1.55, \"Flavanoids\": 0.52, \"Nonflavanoid phenols\": 0.5, \"Proanthocyanins\": 0.55, \"Color intensity\": 4.35, \"Hue\": 0.89, \"OD280/OD315 of diluted wines\": 2.06, \"Proline\": 520}, {\"Type\": 3, \"Alcohol\": 13.62, \"Malic acid\": 4.95, \"Ash\": 2.35, \"Alcalinity of ash\": 20.0, \"Magnesium\": 92, \"Total phenols\": 2.0, \"Flavanoids\": 0.8, \"Nonflavanoid phenols\": 0.47, \"Proanthocyanins\": 1.02, \"Color intensity\": 4.4, \"Hue\": 0.91, \"OD280/OD315 of diluted wines\": 2.05, \"Proline\": 550}, {\"Type\": 3, \"Alcohol\": 12.25, \"Malic acid\": 3.88, \"Ash\": 2.2, \"Alcalinity of ash\": 18.5, \"Magnesium\": 112, \"Total phenols\": 1.38, \"Flavanoids\": 0.78, \"Nonflavanoid phenols\": 0.29, \"Proanthocyanins\": 1.14, \"Color intensity\": 8.21, \"Hue\": 0.65, \"OD280/OD315 of diluted wines\": 2.0, \"Proline\": 855}, {\"Type\": 3, \"Alcohol\": 13.16, \"Malic acid\": 3.57, \"Ash\": 2.15, \"Alcalinity of ash\": 21.0, \"Magnesium\": 102, \"Total phenols\": 1.5, \"Flavanoids\": 0.55, \"Nonflavanoid phenols\": 0.43, \"Proanthocyanins\": 1.3, \"Color intensity\": 4.0, \"Hue\": 0.6, \"OD280/OD315 of diluted wines\": 1.68, \"Proline\": 830}, {\"Type\": 3, \"Alcohol\": 13.88, \"Malic acid\": 5.04, \"Ash\": 2.23, \"Alcalinity of ash\": 20.0, \"Magnesium\": 80, \"Total phenols\": 0.98, \"Flavanoids\": 0.34, \"Nonflavanoid phenols\": 0.4, \"Proanthocyanins\": 0.68, \"Color intensity\": 4.9, \"Hue\": 0.58, \"OD280/OD315 of diluted wines\": 1.33, \"Proline\": 415}, {\"Type\": 3, \"Alcohol\": 12.87, \"Malic acid\": 4.61, \"Ash\": 2.48, \"Alcalinity of ash\": 21.5, \"Magnesium\": 86, \"Total phenols\": 1.7, \"Flavanoids\": 0.65, \"Nonflavanoid phenols\": 0.47, \"Proanthocyanins\": 0.86, \"Color intensity\": 7.65, \"Hue\": 0.54, \"OD280/OD315 of diluted wines\": 1.86, \"Proline\": 625}, {\"Type\": 3, \"Alcohol\": 13.32, \"Malic acid\": 3.24, \"Ash\": 2.38, \"Alcalinity of ash\": 21.5, \"Magnesium\": 92, \"Total phenols\": 1.93, \"Flavanoids\": 0.76, \"Nonflavanoid phenols\": 0.45, \"Proanthocyanins\": 1.25, \"Color intensity\": 8.42, \"Hue\": 0.55, \"OD280/OD315 of diluted wines\": 1.62, \"Proline\": 650}, {\"Type\": 3, \"Alcohol\": 13.08, \"Malic acid\": 3.9, \"Ash\": 2.36, \"Alcalinity of ash\": 21.5, \"Magnesium\": 113, \"Total phenols\": 1.41, \"Flavanoids\": 1.39, \"Nonflavanoid phenols\": 0.34, \"Proanthocyanins\": 1.14, \"Color intensity\": 9.4, \"Hue\": 0.57, \"OD280/OD315 of diluted wines\": 1.33, \"Proline\": 550}, {\"Type\": 3, \"Alcohol\": 13.5, \"Malic acid\": 3.12, \"Ash\": 2.62, \"Alcalinity of ash\": 24.0, \"Magnesium\": 123, \"Total phenols\": 1.4, \"Flavanoids\": 1.57, \"Nonflavanoid phenols\": 0.22, \"Proanthocyanins\": 1.25, \"Color intensity\": 8.6, \"Hue\": 0.59, \"OD280/OD315 of diluted wines\": 1.3, \"Proline\": 500}, {\"Type\": 3, \"Alcohol\": 12.79, \"Malic acid\": 2.67, \"Ash\": 2.48, \"Alcalinity of ash\": 22.0, \"Magnesium\": 112, \"Total phenols\": 1.48, \"Flavanoids\": 1.36, \"Nonflavanoid phenols\": 0.24, \"Proanthocyanins\": 1.26, \"Color intensity\": 10.8, \"Hue\": 0.48, \"OD280/OD315 of diluted wines\": 1.47, \"Proline\": 480}, {\"Type\": 3, \"Alcohol\": 13.11, \"Malic acid\": 1.9, \"Ash\": 2.75, \"Alcalinity of ash\": 25.5, \"Magnesium\": 116, \"Total phenols\": 2.2, \"Flavanoids\": 1.28, \"Nonflavanoid phenols\": 0.26, \"Proanthocyanins\": 1.56, \"Color intensity\": 7.1, \"Hue\": 0.61, \"OD280/OD315 of diluted wines\": 1.33, \"Proline\": 425}, {\"Type\": 3, \"Alcohol\": 13.23, \"Malic acid\": 3.3, \"Ash\": 2.28, \"Alcalinity of ash\": 18.5, \"Magnesium\": 98, \"Total phenols\": 1.8, \"Flavanoids\": 0.83, \"Nonflavanoid phenols\": 0.61, \"Proanthocyanins\": 1.87, \"Color intensity\": 10.52, \"Hue\": 0.56, \"OD280/OD315 of diluted wines\": 1.51, \"Proline\": 675}, {\"Type\": 3, \"Alcohol\": 12.58, \"Malic acid\": 1.29, \"Ash\": 2.1, \"Alcalinity of ash\": 20.0, \"Magnesium\": 103, \"Total phenols\": 1.48, \"Flavanoids\": 0.58, \"Nonflavanoid phenols\": 0.53, \"Proanthocyanins\": 1.4, \"Color intensity\": 7.6, \"Hue\": 0.58, \"OD280/OD315 of diluted wines\": 1.55, \"Proline\": 640}, {\"Type\": 3, \"Alcohol\": 13.17, \"Malic acid\": 5.19, \"Ash\": 2.32, \"Alcalinity of ash\": 22.0, \"Magnesium\": 93, \"Total phenols\": 1.74, \"Flavanoids\": 0.63, \"Nonflavanoid phenols\": 0.61, \"Proanthocyanins\": 1.55, \"Color intensity\": 7.9, \"Hue\": 0.6, \"OD280/OD315 of diluted wines\": 1.48, \"Proline\": 725}, {\"Type\": 3, \"Alcohol\": 13.84, \"Malic acid\": 4.12, \"Ash\": 2.38, \"Alcalinity of ash\": 19.5, \"Magnesium\": 89, \"Total phenols\": 1.8, \"Flavanoids\": 0.83, \"Nonflavanoid phenols\": 0.48, \"Proanthocyanins\": 1.56, \"Color intensity\": 9.01, \"Hue\": 0.57, \"OD280/OD315 of diluted wines\": 1.64, \"Proline\": 480}, {\"Type\": 3, \"Alcohol\": 12.45, \"Malic acid\": 3.03, \"Ash\": 2.64, \"Alcalinity of ash\": 27.0, \"Magnesium\": 97, \"Total phenols\": 1.9, \"Flavanoids\": 0.58, \"Nonflavanoid phenols\": 0.63, \"Proanthocyanins\": 1.14, \"Color intensity\": 7.5, \"Hue\": 0.67, \"OD280/OD315 of diluted wines\": 1.73, \"Proline\": 880}, {\"Type\": 3, \"Alcohol\": 14.34, \"Malic acid\": 1.68, \"Ash\": 2.7, \"Alcalinity of ash\": 25.0, \"Magnesium\": 98, \"Total phenols\": 2.8, \"Flavanoids\": 1.31, \"Nonflavanoid phenols\": 0.53, \"Proanthocyanins\": 2.7, \"Color intensity\": 13.0, \"Hue\": 0.57, \"OD280/OD315 of diluted wines\": 1.96, \"Proline\": 660}, {\"Type\": 3, \"Alcohol\": 13.48, \"Malic acid\": 1.67, \"Ash\": 2.64, \"Alcalinity of ash\": 22.5, \"Magnesium\": 89, \"Total phenols\": 2.6, \"Flavanoids\": 1.1, \"Nonflavanoid phenols\": 0.52, \"Proanthocyanins\": 2.29, \"Color intensity\": 11.75, \"Hue\": 0.57, \"OD280/OD315 of diluted wines\": 1.78, \"Proline\": 620}, {\"Type\": 3, \"Alcohol\": 12.36, \"Malic acid\": 3.83, \"Ash\": 2.38, \"Alcalinity of ash\": 21.0, \"Magnesium\": 88, \"Total phenols\": 2.3, \"Flavanoids\": 0.92, \"Nonflavanoid phenols\": 0.5, \"Proanthocyanins\": 1.04, \"Color intensity\": 7.65, \"Hue\": 0.56, \"OD280/OD315 of diluted wines\": 1.58, \"Proline\": 520}, {\"Type\": 3, \"Alcohol\": 13.69, \"Malic acid\": 3.26, \"Ash\": 2.54, \"Alcalinity of ash\": 20.0, \"Magnesium\": 107, \"Total phenols\": 1.83, \"Flavanoids\": 0.56, \"Nonflavanoid phenols\": 0.5, \"Proanthocyanins\": 0.8, \"Color intensity\": 5.88, \"Hue\": 0.96, \"OD280/OD315 of diluted wines\": 1.82, \"Proline\": 680}, {\"Type\": 3, \"Alcohol\": 12.85, \"Malic acid\": 3.27, \"Ash\": 2.58, \"Alcalinity of ash\": 22.0, \"Magnesium\": 106, \"Total phenols\": 1.65, \"Flavanoids\": 0.6, \"Nonflavanoid phenols\": 0.6, \"Proanthocyanins\": 0.96, \"Color intensity\": 5.58, \"Hue\": 0.87, \"OD280/OD315 of diluted wines\": 2.11, \"Proline\": 570}, {\"Type\": 3, \"Alcohol\": 12.96, \"Malic acid\": 3.45, \"Ash\": 2.35, \"Alcalinity of ash\": 18.5, \"Magnesium\": 106, \"Total phenols\": 1.39, \"Flavanoids\": 0.7, \"Nonflavanoid phenols\": 0.4, \"Proanthocyanins\": 0.94, \"Color intensity\": 5.28, \"Hue\": 0.68, \"OD280/OD315 of diluted wines\": 1.75, \"Proline\": 675}, {\"Type\": 3, \"Alcohol\": 13.78, \"Malic acid\": 2.76, \"Ash\": 2.3, \"Alcalinity of ash\": 22.0, \"Magnesium\": 90, \"Total phenols\": 1.35, \"Flavanoids\": 0.68, \"Nonflavanoid phenols\": 0.41, \"Proanthocyanins\": 1.03, \"Color intensity\": 9.58, \"Hue\": 0.7, \"OD280/OD315 of diluted wines\": 1.68, \"Proline\": 615}, {\"Type\": 3, \"Alcohol\": 13.73, \"Malic acid\": 4.36, \"Ash\": 2.26, \"Alcalinity of ash\": 22.5, \"Magnesium\": 88, \"Total phenols\": 1.28, \"Flavanoids\": 0.47, \"Nonflavanoid phenols\": 0.52, \"Proanthocyanins\": 1.15, \"Color intensity\": 6.62, \"Hue\": 0.78, \"OD280/OD315 of diluted wines\": 1.75, \"Proline\": 520}, {\"Type\": 3, \"Alcohol\": 13.45, \"Malic acid\": 3.7, \"Ash\": 2.6, \"Alcalinity of ash\": 23.0, \"Magnesium\": 111, \"Total phenols\": 1.7, \"Flavanoids\": 0.92, \"Nonflavanoid phenols\": 0.43, \"Proanthocyanins\": 1.46, \"Color intensity\": 10.68, \"Hue\": 0.85, \"OD280/OD315 of diluted wines\": 1.56, \"Proline\": 695}, {\"Type\": 3, \"Alcohol\": 12.82, \"Malic acid\": 3.37, \"Ash\": 2.3, \"Alcalinity of ash\": 19.5, \"Magnesium\": 88, \"Total phenols\": 1.48, \"Flavanoids\": 0.66, \"Nonflavanoid phenols\": 0.4, \"Proanthocyanins\": 0.97, \"Color intensity\": 10.26, \"Hue\": 0.72, \"OD280/OD315 of diluted wines\": 1.75, \"Proline\": 685}, {\"Type\": 3, \"Alcohol\": 13.58, \"Malic acid\": 2.58, \"Ash\": 2.69, \"Alcalinity of ash\": 24.5, \"Magnesium\": 105, \"Total phenols\": 1.55, \"Flavanoids\": 0.84, \"Nonflavanoid phenols\": 0.39, \"Proanthocyanins\": 1.54, \"Color intensity\": 8.66, \"Hue\": 0.74, \"OD280/OD315 of diluted wines\": 1.8, \"Proline\": 750}, {\"Type\": 3, \"Alcohol\": 13.4, \"Malic acid\": 4.6, \"Ash\": 2.86, \"Alcalinity of ash\": 25.0, \"Magnesium\": 112, \"Total phenols\": 1.98, \"Flavanoids\": 0.96, \"Nonflavanoid phenols\": 0.27, \"Proanthocyanins\": 1.11, \"Color intensity\": 8.5, \"Hue\": 0.67, \"OD280/OD315 of diluted wines\": 1.92, \"Proline\": 630}, {\"Type\": 3, \"Alcohol\": 12.2, \"Malic acid\": 3.03, \"Ash\": 2.32, \"Alcalinity of ash\": 19.0, \"Magnesium\": 96, \"Total phenols\": 1.25, \"Flavanoids\": 0.49, \"Nonflavanoid phenols\": 0.4, \"Proanthocyanins\": 0.73, \"Color intensity\": 5.5, \"Hue\": 0.66, \"OD280/OD315 of diluted wines\": 1.83, \"Proline\": 510}, {\"Type\": 3, \"Alcohol\": 12.77, \"Malic acid\": 2.39, \"Ash\": 2.28, \"Alcalinity of ash\": 19.5, \"Magnesium\": 86, \"Total phenols\": 1.39, \"Flavanoids\": 0.51, \"Nonflavanoid phenols\": 0.48, \"Proanthocyanins\": 0.64, \"Color intensity\": 9.899999000000001, \"Hue\": 0.57, \"OD280/OD315 of diluted wines\": 1.63, \"Proline\": 470}, {\"Type\": 3, \"Alcohol\": 14.16, \"Malic acid\": 2.51, \"Ash\": 2.48, \"Alcalinity of ash\": 20.0, \"Magnesium\": 91, \"Total phenols\": 1.68, \"Flavanoids\": 0.7, \"Nonflavanoid phenols\": 0.44, \"Proanthocyanins\": 1.24, \"Color intensity\": 9.7, \"Hue\": 0.62, \"OD280/OD315 of diluted wines\": 1.71, \"Proline\": 660}, {\"Type\": 3, \"Alcohol\": 13.71, \"Malic acid\": 5.65, \"Ash\": 2.45, \"Alcalinity of ash\": 20.5, \"Magnesium\": 95, \"Total phenols\": 1.68, \"Flavanoids\": 0.61, \"Nonflavanoid phenols\": 0.52, \"Proanthocyanins\": 1.06, \"Color intensity\": 7.7, \"Hue\": 0.64, \"OD280/OD315 of diluted wines\": 1.74, \"Proline\": 740}, {\"Type\": 3, \"Alcohol\": 13.4, \"Malic acid\": 3.91, \"Ash\": 2.48, \"Alcalinity of ash\": 23.0, \"Magnesium\": 102, \"Total phenols\": 1.8, \"Flavanoids\": 0.75, \"Nonflavanoid phenols\": 0.43, \"Proanthocyanins\": 1.41, \"Color intensity\": 7.3, \"Hue\": 0.7, \"OD280/OD315 of diluted wines\": 1.56, \"Proline\": 750}, {\"Type\": 3, \"Alcohol\": 13.27, \"Malic acid\": 4.28, \"Ash\": 2.26, \"Alcalinity of ash\": 20.0, \"Magnesium\": 120, \"Total phenols\": 1.59, \"Flavanoids\": 0.69, \"Nonflavanoid phenols\": 0.43, \"Proanthocyanins\": 1.35, \"Color intensity\": 10.2, \"Hue\": 0.59, \"OD280/OD315 of diluted wines\": 1.56, \"Proline\": 835}, {\"Type\": 3, \"Alcohol\": 13.17, \"Malic acid\": 2.59, \"Ash\": 2.37, \"Alcalinity of ash\": 20.0, \"Magnesium\": 120, \"Total phenols\": 1.65, \"Flavanoids\": 0.68, \"Nonflavanoid phenols\": 0.53, \"Proanthocyanins\": 1.46, \"Color intensity\": 9.3, \"Hue\": 0.6, \"OD280/OD315 of diluted wines\": 1.62, \"Proline\": 840}, {\"Type\": 3, \"Alcohol\": 14.13, \"Malic acid\": 4.1, \"Ash\": 2.74, \"Alcalinity of ash\": 24.5, \"Magnesium\": 96, \"Total phenols\": 2.05, \"Flavanoids\": 0.76, \"Nonflavanoid phenols\": 0.56, \"Proanthocyanins\": 1.35, \"Color intensity\": 9.2, \"Hue\": 0.61, \"OD280/OD315 of diluted wines\": 1.6, \"Proline\": 560}]}, \"mark\": \"point\", \"encoding\": {\"color\": {\"type\": \"nominal\", \"field\": \"Type\"}, \"x\": {\"type\": \"quantitative\", \"field\": \"Flavanoids\"}, \"y\": {\"type\": \"quantitative\", \"field\": \"Proline\"}}, \"$schema\": \"https://vega.github.io/schema/vega-lite/v2.4.3.json\"};\n",
       "var opt = {};\n",
       "var selector = \"#5e21b58b-6feb-43eb-94ba-383c2ef0112e\";\n",
       "var type = \"vega-lite\";\n",
       "\n",
       "var output_area = this;\n",
       "\n",
       "require(['nbextensions/jupyter-vega/index'], function(vega) {\n",
       "  vega.render(selector, spec, type, opt, output_area);\n",
       "}, function (err) {\n",
       "  if (err.requireType !== 'scripterror') {\n",
       "    throw(err);\n",
       "  }\n",
       "});\n"
      ]
     },
     "metadata": {
      "jupyter-vega": "#5e21b58b-6feb-43eb-94ba-383c2ef0112e"
     },
     "output_type": "display_data"
    },
    {
     "data": {
      "text/plain": []
     },
     "execution_count": 49,
     "metadata": {},
     "output_type": "execute_result"
    },
    {
     "data": {
      "image/png": "[encoded data removed]"
     },
     "metadata": {
      "jupyter-vega": "#5e21b58b-6feb-43eb-94ba-383c2ef0112e"
     },
     "output_type": "display_data"
    },
    {
     "data": {
      "image/png": "[encoded data removed]"
     },
     "metadata": {
      "jupyter-vega": "#5e21b58b-6feb-43eb-94ba-383c2ef0112e"
     },
     "output_type": "display_data"
    }
   ],
   "source": [
    "alt.renderers.enable('notebook')\n",
    "\n",
    "alt.Chart(df).mark_point().encode(\n",
    "    x = 'Flavanoids',\n",
    "    y = 'Proline',\n",
    "    color = 'Type:N'\n",
    ")"
   ]
  },
  {
   "cell_type": "code",
   "execution_count": 30,
   "metadata": {},
   "outputs": [],
   "source": [
    "from sklearn.neural_network import MLPClassifier, MLPRegressor"
   ]
  },
  {
   "cell_type": "code",
   "execution_count": 43,
   "metadata": {},
   "outputs": [
    {
     "name": "stderr",
     "output_type": "stream",
     "text": [
      "C:\\Users\\b.smarsaro.bazelato\\AppData\\Local\\Continuum\\anaconda3\\lib\\site-packages\\sklearn\\neural_network\\multilayer_perceptron.py:564: ConvergenceWarning: Stochastic Optimizer: Maximum iterations (200) reached and the optimization hasn't converged yet.\n",
      "  % self.max_iter, ConvergenceWarning)\n"
     ]
    }
   ],
   "source": [
    "from sklearn.preprocessing import MinMaxScaler, StandardScaler\n",
    "scaler = StandardScaler()\n",
    "\n",
    "kf = StratifiedKFold(n_splits=4)\n",
    "score = []\n",
    "for train_index, test_index in kf.split(x,y):\n",
    "    x_train, x_test = x.values[train_index], x.values[test_index]\n",
    "    y_train, y_test = y.values[train_index], y.values[test_index]\n",
    "    scaler.fit(x_train)\n",
    "    x_train = scaler.transform(x_train)\n",
    "    x_test = scaler.transform(x_test)\n",
    "    clf = MLPClassifier(hidden_layer_sizes=(20,10))\n",
    "    clf.fit(x_train, y_train)\n",
    "    y_pred = clf.predict(x_test)\n",
    "    score.append(accuracy_score(y_pred, y_test))"
   ]
  },
  {
   "cell_type": "code",
   "execution_count": 44,
   "metadata": {},
   "outputs": [
    {
     "data": {
      "text/plain": [
       "count    4.000000\n",
       "mean     0.932817\n",
       "std      0.030953\n",
       "min      0.888889\n",
       "25%      0.922222\n",
       "50%      0.943411\n",
       "75%      0.954005\n",
       "max      0.955556\n",
       "dtype: float64"
      ]
     },
     "execution_count": 44,
     "metadata": {},
     "output_type": "execute_result"
    }
   ],
   "source": [
    "pd.Series(score).describe()"
   ]
  },
  {
   "cell_type": "markdown",
   "metadata": {},
   "source": [
    "# Exemplo Prático - Regressão"
   ]
  },
  {
   "cell_type": "markdown",
   "metadata": {},
   "source": [
    "- Documentação:\n",
    "__[Regressão Linear](http://scikit-learn.org/stable/modules/generated/sklearn.linear_model.LinearRegression.html#sklearn.linear_model.LinearRegression)__\n",
    "__[MinMaxScaler](http://scikit-learn.org/stable/modules/generated/sklearn.preprocessing.MinMaxScaler.html#sklearn.preprocessing.MinMaxScaler)__"
   ]
  },
  {
   "cell_type": "code",
   "execution_count": 56,
   "metadata": {},
   "outputs": [],
   "source": [
    "from sklearn.linear_model import LinearRegression,LogisticRegression\n",
    "from sklearn.preprocessing import MinMaxScaler\n",
    "\n",
    "def mape(y_pred, y_test):\n",
    "    return np.mean(np.abs(y_test-y_pred) / y_test) * 100"
   ]
  },
  {
   "cell_type": "code",
   "execution_count": 52,
   "metadata": {},
   "outputs": [
    {
     "data": {
      "text/html": [
       "<div>\n",
       "<style scoped>\n",
       "    .dataframe tbody tr th:only-of-type {\n",
       "        vertical-align: middle;\n",
       "    }\n",
       "\n",
       "    .dataframe tbody tr th {\n",
       "        vertical-align: top;\n",
       "    }\n",
       "\n",
       "    .dataframe thead th {\n",
       "        text-align: right;\n",
       "    }\n",
       "</style>\n",
       "<table border=\"1\" class=\"dataframe\">\n",
       "  <thead>\n",
       "    <tr style=\"text-align: right;\">\n",
       "      <th></th>\n",
       "      <th>fixed acidity</th>\n",
       "      <th>volatile acidity</th>\n",
       "      <th>citric acid</th>\n",
       "      <th>residual sugar</th>\n",
       "      <th>chlorides</th>\n",
       "      <th>free sulfur dioxide</th>\n",
       "      <th>total sulfur dioxide</th>\n",
       "      <th>density</th>\n",
       "      <th>pH</th>\n",
       "      <th>sulphates</th>\n",
       "      <th>alcohol</th>\n",
       "      <th>quality</th>\n",
       "    </tr>\n",
       "  </thead>\n",
       "  <tbody>\n",
       "    <tr>\n",
       "      <th>0</th>\n",
       "      <td>7.0</td>\n",
       "      <td>0.27</td>\n",
       "      <td>0.36</td>\n",
       "      <td>20.7</td>\n",
       "      <td>0.045</td>\n",
       "      <td>45.0</td>\n",
       "      <td>170.0</td>\n",
       "      <td>1.0010</td>\n",
       "      <td>3.00</td>\n",
       "      <td>0.45</td>\n",
       "      <td>8.8</td>\n",
       "      <td>6</td>\n",
       "    </tr>\n",
       "    <tr>\n",
       "      <th>1</th>\n",
       "      <td>6.3</td>\n",
       "      <td>0.30</td>\n",
       "      <td>0.34</td>\n",
       "      <td>1.6</td>\n",
       "      <td>0.049</td>\n",
       "      <td>14.0</td>\n",
       "      <td>132.0</td>\n",
       "      <td>0.9940</td>\n",
       "      <td>3.30</td>\n",
       "      <td>0.49</td>\n",
       "      <td>9.5</td>\n",
       "      <td>6</td>\n",
       "    </tr>\n",
       "    <tr>\n",
       "      <th>2</th>\n",
       "      <td>8.1</td>\n",
       "      <td>0.28</td>\n",
       "      <td>0.40</td>\n",
       "      <td>6.9</td>\n",
       "      <td>0.050</td>\n",
       "      <td>30.0</td>\n",
       "      <td>97.0</td>\n",
       "      <td>0.9951</td>\n",
       "      <td>3.26</td>\n",
       "      <td>0.44</td>\n",
       "      <td>10.1</td>\n",
       "      <td>6</td>\n",
       "    </tr>\n",
       "    <tr>\n",
       "      <th>3</th>\n",
       "      <td>7.2</td>\n",
       "      <td>0.23</td>\n",
       "      <td>0.32</td>\n",
       "      <td>8.5</td>\n",
       "      <td>0.058</td>\n",
       "      <td>47.0</td>\n",
       "      <td>186.0</td>\n",
       "      <td>0.9956</td>\n",
       "      <td>3.19</td>\n",
       "      <td>0.40</td>\n",
       "      <td>9.9</td>\n",
       "      <td>6</td>\n",
       "    </tr>\n",
       "    <tr>\n",
       "      <th>4</th>\n",
       "      <td>7.2</td>\n",
       "      <td>0.23</td>\n",
       "      <td>0.32</td>\n",
       "      <td>8.5</td>\n",
       "      <td>0.058</td>\n",
       "      <td>47.0</td>\n",
       "      <td>186.0</td>\n",
       "      <td>0.9956</td>\n",
       "      <td>3.19</td>\n",
       "      <td>0.40</td>\n",
       "      <td>9.9</td>\n",
       "      <td>6</td>\n",
       "    </tr>\n",
       "  </tbody>\n",
       "</table>\n",
       "</div>"
      ],
      "text/plain": [
       "   fixed acidity  volatile acidity  citric acid  residual sugar  chlorides  \\\n",
       "0            7.0              0.27         0.36            20.7      0.045   \n",
       "1            6.3              0.30         0.34             1.6      0.049   \n",
       "2            8.1              0.28         0.40             6.9      0.050   \n",
       "3            7.2              0.23         0.32             8.5      0.058   \n",
       "4            7.2              0.23         0.32             8.5      0.058   \n",
       "\n",
       "   free sulfur dioxide  total sulfur dioxide  density    pH  sulphates  \\\n",
       "0                 45.0                 170.0   1.0010  3.00       0.45   \n",
       "1                 14.0                 132.0   0.9940  3.30       0.49   \n",
       "2                 30.0                  97.0   0.9951  3.26       0.44   \n",
       "3                 47.0                 186.0   0.9956  3.19       0.40   \n",
       "4                 47.0                 186.0   0.9956  3.19       0.40   \n",
       "\n",
       "   alcohol  quality  \n",
       "0      8.8        6  \n",
       "1      9.5        6  \n",
       "2     10.1        6  \n",
       "3      9.9        6  \n",
       "4      9.9        6  "
      ]
     },
     "execution_count": 52,
     "metadata": {},
     "output_type": "execute_result"
    }
   ],
   "source": [
    "df = pd.read_csv('https://archive.ics.uci.edu/ml/machine-learning-databases/wine-quality/winequality-white.csv', sep=';').append(pd.read_csv('https://archive.ics.uci.edu/ml/machine-learning-databases/wine-quality/winequality-red.csv', sep=';'), ignore_index=True)\n",
    "df.head()"
   ]
  },
  {
   "cell_type": "code",
   "execution_count": 59,
   "metadata": {},
   "outputs": [],
   "source": [
    "x = df[df.columns[:-1]].values\n",
    "y = df['quality'].values\n",
    "\n",
    "scaler = MinMaxScaler()\n",
    "x = scaler.fit_transform(x)"
   ]
  },
  {
   "cell_type": "code",
   "execution_count": 60,
   "metadata": {},
   "outputs": [],
   "source": [
    "kf = KFold(n_splits=4)\n",
    "score = []\n",
    "for train_index, test_index in kf.split(x, y):\n",
    "    x_train, x_test = x[train_index], x[test_index]\n",
    "    y_train, y_test = y[train_index], y[test_index]\n",
    "    reg = LogisticRegression()\n",
    "    reg.fit(x_train, y_train)\n",
    "    y_pred = reg.predict(x_test)\n",
    "    score.append(mape(y_pred, y_test))"
   ]
  },
  {
   "cell_type": "code",
   "execution_count": 61,
   "metadata": {},
   "outputs": [
    {
     "data": {
      "text/plain": [
       "9.423613009527418"
      ]
     },
     "execution_count": 61,
     "metadata": {},
     "output_type": "execute_result"
    }
   ],
   "source": [
    "np.mean(score)"
   ]
  },
  {
   "cell_type": "code",
   "execution_count": 63,
   "metadata": {},
   "outputs": [
    {
     "data": {
      "text/plain": [
       "array([-4.22483469, -2.08281318,  0.64381485, -0.03190444, -2.91062047,\n",
       "       -4.24232437, -4.48771605])"
      ]
     },
     "execution_count": 63,
     "metadata": {},
     "output_type": "execute_result"
    }
   ],
   "source": [
    "reg.intercept_"
   ]
  },
  {
   "cell_type": "markdown",
   "metadata": {},
   "source": [
    "# Desafio"
   ]
  },
  {
   "cell_type": "markdown",
   "metadata": {},
   "source": [
    " - Link para a base de dados: https://s3.amazonaws.com/assets.datacamp.com/blog_assets/Employee+Churn+in+Python/HR_comma_sep.csv\n",
    " - Coluna target: 'left'"
   ]
  },
  {
   "cell_type": "code",
   "execution_count": 64,
   "metadata": {},
   "outputs": [],
   "source": [
    "df = pd.read_csv('https://s3.amazonaws.com/assets.datacamp.com/blog_assets/Employee+Churn+in+Python/HR_comma_sep.csv')"
   ]
  },
  {
   "cell_type": "code",
   "execution_count": 65,
   "metadata": {},
   "outputs": [
    {
     "data": {
      "text/html": [
       "<div>\n",
       "<style scoped>\n",
       "    .dataframe tbody tr th:only-of-type {\n",
       "        vertical-align: middle;\n",
       "    }\n",
       "\n",
       "    .dataframe tbody tr th {\n",
       "        vertical-align: top;\n",
       "    }\n",
       "\n",
       "    .dataframe thead th {\n",
       "        text-align: right;\n",
       "    }\n",
       "</style>\n",
       "<table border=\"1\" class=\"dataframe\">\n",
       "  <thead>\n",
       "    <tr style=\"text-align: right;\">\n",
       "      <th></th>\n",
       "      <th>satisfaction_level</th>\n",
       "      <th>last_evaluation</th>\n",
       "      <th>number_project</th>\n",
       "      <th>average_montly_hours</th>\n",
       "      <th>time_spend_company</th>\n",
       "      <th>Work_accident</th>\n",
       "      <th>left</th>\n",
       "      <th>promotion_last_5years</th>\n",
       "      <th>Departments</th>\n",
       "      <th>salary</th>\n",
       "    </tr>\n",
       "  </thead>\n",
       "  <tbody>\n",
       "    <tr>\n",
       "      <th>0</th>\n",
       "      <td>0.38</td>\n",
       "      <td>0.53</td>\n",
       "      <td>2</td>\n",
       "      <td>157</td>\n",
       "      <td>3</td>\n",
       "      <td>0</td>\n",
       "      <td>1</td>\n",
       "      <td>0</td>\n",
       "      <td>sales</td>\n",
       "      <td>low</td>\n",
       "    </tr>\n",
       "    <tr>\n",
       "      <th>1</th>\n",
       "      <td>0.80</td>\n",
       "      <td>0.86</td>\n",
       "      <td>5</td>\n",
       "      <td>262</td>\n",
       "      <td>6</td>\n",
       "      <td>0</td>\n",
       "      <td>1</td>\n",
       "      <td>0</td>\n",
       "      <td>sales</td>\n",
       "      <td>medium</td>\n",
       "    </tr>\n",
       "    <tr>\n",
       "      <th>2</th>\n",
       "      <td>0.11</td>\n",
       "      <td>0.88</td>\n",
       "      <td>7</td>\n",
       "      <td>272</td>\n",
       "      <td>4</td>\n",
       "      <td>0</td>\n",
       "      <td>1</td>\n",
       "      <td>0</td>\n",
       "      <td>sales</td>\n",
       "      <td>medium</td>\n",
       "    </tr>\n",
       "    <tr>\n",
       "      <th>3</th>\n",
       "      <td>0.72</td>\n",
       "      <td>0.87</td>\n",
       "      <td>5</td>\n",
       "      <td>223</td>\n",
       "      <td>5</td>\n",
       "      <td>0</td>\n",
       "      <td>1</td>\n",
       "      <td>0</td>\n",
       "      <td>sales</td>\n",
       "      <td>low</td>\n",
       "    </tr>\n",
       "    <tr>\n",
       "      <th>4</th>\n",
       "      <td>0.37</td>\n",
       "      <td>0.52</td>\n",
       "      <td>2</td>\n",
       "      <td>159</td>\n",
       "      <td>3</td>\n",
       "      <td>0</td>\n",
       "      <td>1</td>\n",
       "      <td>0</td>\n",
       "      <td>sales</td>\n",
       "      <td>low</td>\n",
       "    </tr>\n",
       "  </tbody>\n",
       "</table>\n",
       "</div>"
      ],
      "text/plain": [
       "   satisfaction_level  last_evaluation  number_project  average_montly_hours  \\\n",
       "0                0.38             0.53               2                   157   \n",
       "1                0.80             0.86               5                   262   \n",
       "2                0.11             0.88               7                   272   \n",
       "3                0.72             0.87               5                   223   \n",
       "4                0.37             0.52               2                   159   \n",
       "\n",
       "   time_spend_company  Work_accident  left  promotion_last_5years  \\\n",
       "0                   3              0     1                      0   \n",
       "1                   6              0     1                      0   \n",
       "2                   4              0     1                      0   \n",
       "3                   5              0     1                      0   \n",
       "4                   3              0     1                      0   \n",
       "\n",
       "  Departments   salary  \n",
       "0        sales     low  \n",
       "1        sales  medium  \n",
       "2        sales  medium  \n",
       "3        sales     low  \n",
       "4        sales     low  "
      ]
     },
     "execution_count": 65,
     "metadata": {},
     "output_type": "execute_result"
    }
   ],
   "source": [
    "df.head()"
   ]
  },
  {
   "cell_type": "code",
   "execution_count": 69,
   "metadata": {},
   "outputs": [],
   "source": [
    "from sklearn import preprocessing\n",
    "\n",
    "le = preprocessing.LabelEncoder()\n",
    "\n",
    "df['Departments '] = le.fit_transform(df['Departments '])\n",
    "df['salary'] = le.fit_transform(df['salary'])"
   ]
  },
  {
   "cell_type": "code",
   "execution_count": 70,
   "metadata": {},
   "outputs": [
    {
     "data": {
      "text/html": [
       "<div>\n",
       "<style scoped>\n",
       "    .dataframe tbody tr th:only-of-type {\n",
       "        vertical-align: middle;\n",
       "    }\n",
       "\n",
       "    .dataframe tbody tr th {\n",
       "        vertical-align: top;\n",
       "    }\n",
       "\n",
       "    .dataframe thead th {\n",
       "        text-align: right;\n",
       "    }\n",
       "</style>\n",
       "<table border=\"1\" class=\"dataframe\">\n",
       "  <thead>\n",
       "    <tr style=\"text-align: right;\">\n",
       "      <th></th>\n",
       "      <th>satisfaction_level</th>\n",
       "      <th>last_evaluation</th>\n",
       "      <th>number_project</th>\n",
       "      <th>average_montly_hours</th>\n",
       "      <th>time_spend_company</th>\n",
       "      <th>Work_accident</th>\n",
       "      <th>left</th>\n",
       "      <th>promotion_last_5years</th>\n",
       "      <th>Departments</th>\n",
       "      <th>salary</th>\n",
       "    </tr>\n",
       "  </thead>\n",
       "  <tbody>\n",
       "    <tr>\n",
       "      <th>0</th>\n",
       "      <td>0.38</td>\n",
       "      <td>0.53</td>\n",
       "      <td>2</td>\n",
       "      <td>157</td>\n",
       "      <td>3</td>\n",
       "      <td>0</td>\n",
       "      <td>1</td>\n",
       "      <td>0</td>\n",
       "      <td>7</td>\n",
       "      <td>1</td>\n",
       "    </tr>\n",
       "    <tr>\n",
       "      <th>1</th>\n",
       "      <td>0.80</td>\n",
       "      <td>0.86</td>\n",
       "      <td>5</td>\n",
       "      <td>262</td>\n",
       "      <td>6</td>\n",
       "      <td>0</td>\n",
       "      <td>1</td>\n",
       "      <td>0</td>\n",
       "      <td>7</td>\n",
       "      <td>2</td>\n",
       "    </tr>\n",
       "    <tr>\n",
       "      <th>2</th>\n",
       "      <td>0.11</td>\n",
       "      <td>0.88</td>\n",
       "      <td>7</td>\n",
       "      <td>272</td>\n",
       "      <td>4</td>\n",
       "      <td>0</td>\n",
       "      <td>1</td>\n",
       "      <td>0</td>\n",
       "      <td>7</td>\n",
       "      <td>2</td>\n",
       "    </tr>\n",
       "    <tr>\n",
       "      <th>3</th>\n",
       "      <td>0.72</td>\n",
       "      <td>0.87</td>\n",
       "      <td>5</td>\n",
       "      <td>223</td>\n",
       "      <td>5</td>\n",
       "      <td>0</td>\n",
       "      <td>1</td>\n",
       "      <td>0</td>\n",
       "      <td>7</td>\n",
       "      <td>1</td>\n",
       "    </tr>\n",
       "    <tr>\n",
       "      <th>4</th>\n",
       "      <td>0.37</td>\n",
       "      <td>0.52</td>\n",
       "      <td>2</td>\n",
       "      <td>159</td>\n",
       "      <td>3</td>\n",
       "      <td>0</td>\n",
       "      <td>1</td>\n",
       "      <td>0</td>\n",
       "      <td>7</td>\n",
       "      <td>1</td>\n",
       "    </tr>\n",
       "  </tbody>\n",
       "</table>\n",
       "</div>"
      ],
      "text/plain": [
       "   satisfaction_level  last_evaluation  number_project  average_montly_hours  \\\n",
       "0                0.38             0.53               2                   157   \n",
       "1                0.80             0.86               5                   262   \n",
       "2                0.11             0.88               7                   272   \n",
       "3                0.72             0.87               5                   223   \n",
       "4                0.37             0.52               2                   159   \n",
       "\n",
       "   time_spend_company  Work_accident  left  promotion_last_5years  \\\n",
       "0                   3              0     1                      0   \n",
       "1                   6              0     1                      0   \n",
       "2                   4              0     1                      0   \n",
       "3                   5              0     1                      0   \n",
       "4                   3              0     1                      0   \n",
       "\n",
       "   Departments   salary  \n",
       "0             7       1  \n",
       "1             7       2  \n",
       "2             7       2  \n",
       "3             7       1  \n",
       "4             7       1  "
      ]
     },
     "execution_count": 70,
     "metadata": {},
     "output_type": "execute_result"
    }
   ],
   "source": [
    "df.head()"
   ]
  },
  {
   "cell_type": "code",
   "execution_count": 73,
   "metadata": {},
   "outputs": [],
   "source": [
    "import tensorflow as tf"
   ]
  },
  {
   "cell_type": "code",
   "execution_count": 74,
   "metadata": {},
   "outputs": [
    {
     "ename": "AttributeError",
     "evalue": "module 'pandas' has no attribute 'rolling_count'",
     "output_type": "error",
     "traceback": [
      "\u001b[1;31m---------------------------------------------------------------------------\u001b[0m",
      "\u001b[1;31mAttributeError\u001b[0m                            Traceback (most recent call last)",
      "\u001b[1;32m<ipython-input-74-892c01f1599f>\u001b[0m in \u001b[0;36m<module>\u001b[1;34m()\u001b[0m\n\u001b[1;32m----> 1\u001b[1;33m \u001b[0mlearn\u001b[0m \u001b[1;33m=\u001b[0m \u001b[0mtf\u001b[0m\u001b[1;33m.\u001b[0m\u001b[0mcontrib\u001b[0m\u001b[1;33m.\u001b[0m\u001b[0mlearn\u001b[0m\u001b[1;33m\u001b[0m\u001b[0m\n\u001b[0m",
      "\u001b[1;32m~\\AppData\\Local\\Continuum\\anaconda3\\lib\\site-packages\\tensorflow\\python\\util\\lazy_loader.py\u001b[0m in \u001b[0;36m__getattr__\u001b[1;34m(self, item)\u001b[0m\n\u001b[0;32m     51\u001b[0m \u001b[1;33m\u001b[0m\u001b[0m\n\u001b[0;32m     52\u001b[0m   \u001b[1;32mdef\u001b[0m \u001b[0m__getattr__\u001b[0m\u001b[1;33m(\u001b[0m\u001b[0mself\u001b[0m\u001b[1;33m,\u001b[0m \u001b[0mitem\u001b[0m\u001b[1;33m)\u001b[0m\u001b[1;33m:\u001b[0m\u001b[1;33m\u001b[0m\u001b[0m\n\u001b[1;32m---> 53\u001b[1;33m     \u001b[0mmodule\u001b[0m \u001b[1;33m=\u001b[0m \u001b[0mself\u001b[0m\u001b[1;33m.\u001b[0m\u001b[0m_load\u001b[0m\u001b[1;33m(\u001b[0m\u001b[1;33m)\u001b[0m\u001b[1;33m\u001b[0m\u001b[0m\n\u001b[0m\u001b[0;32m     54\u001b[0m     \u001b[1;32mreturn\u001b[0m \u001b[0mgetattr\u001b[0m\u001b[1;33m(\u001b[0m\u001b[0mmodule\u001b[0m\u001b[1;33m,\u001b[0m \u001b[0mitem\u001b[0m\u001b[1;33m)\u001b[0m\u001b[1;33m\u001b[0m\u001b[0m\n\u001b[0;32m     55\u001b[0m \u001b[1;33m\u001b[0m\u001b[0m\n",
      "\u001b[1;32m~\\AppData\\Local\\Continuum\\anaconda3\\lib\\site-packages\\tensorflow\\python\\util\\lazy_loader.py\u001b[0m in \u001b[0;36m_load\u001b[1;34m(self)\u001b[0m\n\u001b[0;32m     40\u001b[0m   \u001b[1;32mdef\u001b[0m \u001b[0m_load\u001b[0m\u001b[1;33m(\u001b[0m\u001b[0mself\u001b[0m\u001b[1;33m)\u001b[0m\u001b[1;33m:\u001b[0m\u001b[1;33m\u001b[0m\u001b[0m\n\u001b[0;32m     41\u001b[0m     \u001b[1;31m# Import the target module and insert it into the parent's namespace\u001b[0m\u001b[1;33m\u001b[0m\u001b[1;33m\u001b[0m\u001b[0m\n\u001b[1;32m---> 42\u001b[1;33m     \u001b[0mmodule\u001b[0m \u001b[1;33m=\u001b[0m \u001b[0mimportlib\u001b[0m\u001b[1;33m.\u001b[0m\u001b[0mimport_module\u001b[0m\u001b[1;33m(\u001b[0m\u001b[0mself\u001b[0m\u001b[1;33m.\u001b[0m\u001b[0m__name__\u001b[0m\u001b[1;33m)\u001b[0m\u001b[1;33m\u001b[0m\u001b[0m\n\u001b[0m\u001b[0;32m     43\u001b[0m     \u001b[0mself\u001b[0m\u001b[1;33m.\u001b[0m\u001b[0m_parent_module_globals\u001b[0m\u001b[1;33m[\u001b[0m\u001b[0mself\u001b[0m\u001b[1;33m.\u001b[0m\u001b[0m_local_name\u001b[0m\u001b[1;33m]\u001b[0m \u001b[1;33m=\u001b[0m \u001b[0mmodule\u001b[0m\u001b[1;33m\u001b[0m\u001b[0m\n\u001b[0;32m     44\u001b[0m \u001b[1;33m\u001b[0m\u001b[0m\n",
      "\u001b[1;32m~\\AppData\\Local\\Continuum\\anaconda3\\lib\\importlib\\__init__.py\u001b[0m in \u001b[0;36mimport_module\u001b[1;34m(name, package)\u001b[0m\n\u001b[0;32m    124\u001b[0m                 \u001b[1;32mbreak\u001b[0m\u001b[1;33m\u001b[0m\u001b[0m\n\u001b[0;32m    125\u001b[0m             \u001b[0mlevel\u001b[0m \u001b[1;33m+=\u001b[0m \u001b[1;36m1\u001b[0m\u001b[1;33m\u001b[0m\u001b[0m\n\u001b[1;32m--> 126\u001b[1;33m     \u001b[1;32mreturn\u001b[0m \u001b[0m_bootstrap\u001b[0m\u001b[1;33m.\u001b[0m\u001b[0m_gcd_import\u001b[0m\u001b[1;33m(\u001b[0m\u001b[0mname\u001b[0m\u001b[1;33m[\u001b[0m\u001b[0mlevel\u001b[0m\u001b[1;33m:\u001b[0m\u001b[1;33m]\u001b[0m\u001b[1;33m,\u001b[0m \u001b[0mpackage\u001b[0m\u001b[1;33m,\u001b[0m \u001b[0mlevel\u001b[0m\u001b[1;33m)\u001b[0m\u001b[1;33m\u001b[0m\u001b[0m\n\u001b[0m\u001b[0;32m    127\u001b[0m \u001b[1;33m\u001b[0m\u001b[0m\n\u001b[0;32m    128\u001b[0m \u001b[1;33m\u001b[0m\u001b[0m\n",
      "\u001b[1;32m~\\AppData\\Local\\Continuum\\anaconda3\\lib\\importlib\\_bootstrap.py\u001b[0m in \u001b[0;36m_gcd_import\u001b[1;34m(name, package, level)\u001b[0m\n",
      "\u001b[1;32m~\\AppData\\Local\\Continuum\\anaconda3\\lib\\importlib\\_bootstrap.py\u001b[0m in \u001b[0;36m_find_and_load\u001b[1;34m(name, import_)\u001b[0m\n",
      "\u001b[1;32m~\\AppData\\Local\\Continuum\\anaconda3\\lib\\importlib\\_bootstrap.py\u001b[0m in \u001b[0;36m_find_and_load_unlocked\u001b[1;34m(name, import_)\u001b[0m\n",
      "\u001b[1;32m~\\AppData\\Local\\Continuum\\anaconda3\\lib\\importlib\\_bootstrap.py\u001b[0m in \u001b[0;36m_load_unlocked\u001b[1;34m(spec)\u001b[0m\n",
      "\u001b[1;32m~\\AppData\\Local\\Continuum\\anaconda3\\lib\\importlib\\_bootstrap_external.py\u001b[0m in \u001b[0;36mexec_module\u001b[1;34m(self, module)\u001b[0m\n",
      "\u001b[1;32m~\\AppData\\Local\\Continuum\\anaconda3\\lib\\importlib\\_bootstrap.py\u001b[0m in \u001b[0;36m_call_with_frames_removed\u001b[1;34m(f, *args, **kwds)\u001b[0m\n",
      "\u001b[1;32m~\\AppData\\Local\\Continuum\\anaconda3\\lib\\site-packages\\tensorflow\\contrib\\__init__.py\u001b[0m in \u001b[0;36m<module>\u001b[1;34m()\u001b[0m\n\u001b[0;32m     35\u001b[0m \u001b[1;32mfrom\u001b[0m \u001b[0mtensorflow\u001b[0m\u001b[1;33m.\u001b[0m\u001b[0mcontrib\u001b[0m \u001b[1;32mimport\u001b[0m \u001b[0mdeprecated\u001b[0m\u001b[1;33m\u001b[0m\u001b[0m\n\u001b[0;32m     36\u001b[0m \u001b[1;32mfrom\u001b[0m \u001b[0mtensorflow\u001b[0m\u001b[1;33m.\u001b[0m\u001b[0mcontrib\u001b[0m \u001b[1;32mimport\u001b[0m \u001b[0mdistribute\u001b[0m\u001b[1;33m\u001b[0m\u001b[0m\n\u001b[1;32m---> 37\u001b[1;33m \u001b[1;32mfrom\u001b[0m \u001b[0mtensorflow\u001b[0m\u001b[1;33m.\u001b[0m\u001b[0mcontrib\u001b[0m \u001b[1;32mimport\u001b[0m \u001b[0mdistributions\u001b[0m\u001b[1;33m\u001b[0m\u001b[0m\n\u001b[0m\u001b[0;32m     38\u001b[0m \u001b[1;32mfrom\u001b[0m \u001b[0mtensorflow\u001b[0m\u001b[1;33m.\u001b[0m\u001b[0mcontrib\u001b[0m \u001b[1;32mimport\u001b[0m \u001b[0mestimator\u001b[0m\u001b[1;33m\u001b[0m\u001b[0m\n\u001b[0;32m     39\u001b[0m \u001b[1;32mfrom\u001b[0m \u001b[0mtensorflow\u001b[0m\u001b[1;33m.\u001b[0m\u001b[0mcontrib\u001b[0m \u001b[1;32mimport\u001b[0m \u001b[0mfactorization\u001b[0m\u001b[1;33m\u001b[0m\u001b[0m\n",
      "\u001b[1;32m~\\AppData\\Local\\Continuum\\anaconda3\\lib\\site-packages\\tensorflow\\contrib\\distributions\\__init__.py\u001b[0m in \u001b[0;36m<module>\u001b[1;34m()\u001b[0m\n\u001b[0;32m     37\u001b[0m \u001b[1;32mfrom\u001b[0m \u001b[0mtensorflow\u001b[0m\u001b[1;33m.\u001b[0m\u001b[0mcontrib\u001b[0m\u001b[1;33m.\u001b[0m\u001b[0mdistributions\u001b[0m\u001b[1;33m.\u001b[0m\u001b[0mpython\u001b[0m\u001b[1;33m.\u001b[0m\u001b[0mops\u001b[0m\u001b[1;33m.\u001b[0m\u001b[0mdistribution_util\u001b[0m \u001b[1;32mimport\u001b[0m \u001b[0msoftplus_inverse\u001b[0m\u001b[1;33m\u001b[0m\u001b[0m\n\u001b[0;32m     38\u001b[0m \u001b[1;32mfrom\u001b[0m \u001b[0mtensorflow\u001b[0m\u001b[1;33m.\u001b[0m\u001b[0mcontrib\u001b[0m\u001b[1;33m.\u001b[0m\u001b[0mdistributions\u001b[0m\u001b[1;33m.\u001b[0m\u001b[0mpython\u001b[0m\u001b[1;33m.\u001b[0m\u001b[0mops\u001b[0m\u001b[1;33m.\u001b[0m\u001b[0mdistribution_util\u001b[0m \u001b[1;32mimport\u001b[0m \u001b[0mtridiag\u001b[0m\u001b[1;33m\u001b[0m\u001b[0m\n\u001b[1;32m---> 39\u001b[1;33m \u001b[1;32mfrom\u001b[0m \u001b[0mtensorflow\u001b[0m\u001b[1;33m.\u001b[0m\u001b[0mcontrib\u001b[0m\u001b[1;33m.\u001b[0m\u001b[0mdistributions\u001b[0m\u001b[1;33m.\u001b[0m\u001b[0mpython\u001b[0m\u001b[1;33m.\u001b[0m\u001b[0mops\u001b[0m\u001b[1;33m.\u001b[0m\u001b[0mestimator\u001b[0m \u001b[1;32mimport\u001b[0m \u001b[1;33m*\u001b[0m\u001b[1;33m\u001b[0m\u001b[0m\n\u001b[0m\u001b[0;32m     40\u001b[0m \u001b[1;32mfrom\u001b[0m \u001b[0mtensorflow\u001b[0m\u001b[1;33m.\u001b[0m\u001b[0mcontrib\u001b[0m\u001b[1;33m.\u001b[0m\u001b[0mdistributions\u001b[0m\u001b[1;33m.\u001b[0m\u001b[0mpython\u001b[0m\u001b[1;33m.\u001b[0m\u001b[0mops\u001b[0m\u001b[1;33m.\u001b[0m\u001b[0mgeometric\u001b[0m \u001b[1;32mimport\u001b[0m \u001b[1;33m*\u001b[0m\u001b[1;33m\u001b[0m\u001b[0m\n\u001b[0;32m     41\u001b[0m \u001b[1;32mfrom\u001b[0m \u001b[0mtensorflow\u001b[0m\u001b[1;33m.\u001b[0m\u001b[0mcontrib\u001b[0m\u001b[1;33m.\u001b[0m\u001b[0mdistributions\u001b[0m\u001b[1;33m.\u001b[0m\u001b[0mpython\u001b[0m\u001b[1;33m.\u001b[0m\u001b[0mops\u001b[0m\u001b[1;33m.\u001b[0m\u001b[0mhalf_normal\u001b[0m \u001b[1;32mimport\u001b[0m \u001b[1;33m*\u001b[0m\u001b[1;33m\u001b[0m\u001b[0m\n",
      "\u001b[1;32m~\\AppData\\Local\\Continuum\\anaconda3\\lib\\site-packages\\tensorflow\\contrib\\distributions\\python\\ops\\estimator.py\u001b[0m in \u001b[0;36m<module>\u001b[1;34m()\u001b[0m\n\u001b[0;32m     19\u001b[0m \u001b[1;32mfrom\u001b[0m \u001b[0m__future__\u001b[0m \u001b[1;32mimport\u001b[0m \u001b[0mprint_function\u001b[0m\u001b[1;33m\u001b[0m\u001b[0m\n\u001b[0;32m     20\u001b[0m \u001b[1;33m\u001b[0m\u001b[0m\n\u001b[1;32m---> 21\u001b[1;33m \u001b[1;32mfrom\u001b[0m \u001b[0mtensorflow\u001b[0m\u001b[1;33m.\u001b[0m\u001b[0mcontrib\u001b[0m\u001b[1;33m.\u001b[0m\u001b[0mlearn\u001b[0m\u001b[1;33m.\u001b[0m\u001b[0mpython\u001b[0m\u001b[1;33m.\u001b[0m\u001b[0mlearn\u001b[0m\u001b[1;33m.\u001b[0m\u001b[0mestimators\u001b[0m\u001b[1;33m.\u001b[0m\u001b[0mhead\u001b[0m \u001b[1;32mimport\u001b[0m \u001b[0m_compute_weighted_loss\u001b[0m\u001b[1;33m\u001b[0m\u001b[0m\n\u001b[0m\u001b[0;32m     22\u001b[0m \u001b[1;32mfrom\u001b[0m \u001b[0mtensorflow\u001b[0m\u001b[1;33m.\u001b[0m\u001b[0mcontrib\u001b[0m\u001b[1;33m.\u001b[0m\u001b[0mlearn\u001b[0m\u001b[1;33m.\u001b[0m\u001b[0mpython\u001b[0m\u001b[1;33m.\u001b[0m\u001b[0mlearn\u001b[0m\u001b[1;33m.\u001b[0m\u001b[0mestimators\u001b[0m\u001b[1;33m.\u001b[0m\u001b[0mhead\u001b[0m \u001b[1;32mimport\u001b[0m \u001b[0m_RegressionHead\u001b[0m\u001b[1;33m\u001b[0m\u001b[0m\n\u001b[0;32m     23\u001b[0m \u001b[1;32mfrom\u001b[0m \u001b[0mtensorflow\u001b[0m\u001b[1;33m.\u001b[0m\u001b[0mpython\u001b[0m\u001b[1;33m.\u001b[0m\u001b[0mframework\u001b[0m \u001b[1;32mimport\u001b[0m \u001b[0mops\u001b[0m\u001b[1;33m\u001b[0m\u001b[0m\n",
      "\u001b[1;32m~\\AppData\\Local\\Continuum\\anaconda3\\lib\\site-packages\\tensorflow\\contrib\\learn\\__init__.py\u001b[0m in \u001b[0;36m<module>\u001b[1;34m()\u001b[0m\n\u001b[0;32m     93\u001b[0m \u001b[1;33m\u001b[0m\u001b[0m\n\u001b[0;32m     94\u001b[0m \u001b[1;31m# pylint: disable=wildcard-import\u001b[0m\u001b[1;33m\u001b[0m\u001b[1;33m\u001b[0m\u001b[0m\n\u001b[1;32m---> 95\u001b[1;33m \u001b[1;32mfrom\u001b[0m \u001b[0mtensorflow\u001b[0m\u001b[1;33m.\u001b[0m\u001b[0mcontrib\u001b[0m\u001b[1;33m.\u001b[0m\u001b[0mlearn\u001b[0m\u001b[1;33m.\u001b[0m\u001b[0mpython\u001b[0m\u001b[1;33m.\u001b[0m\u001b[0mlearn\u001b[0m \u001b[1;32mimport\u001b[0m \u001b[1;33m*\u001b[0m\u001b[1;33m\u001b[0m\u001b[0m\n\u001b[0m\u001b[0;32m     96\u001b[0m \u001b[1;31m# pylint: enable=wildcard-import\u001b[0m\u001b[1;33m\u001b[0m\u001b[1;33m\u001b[0m\u001b[0m\n\u001b[0;32m     97\u001b[0m \u001b[1;33m\u001b[0m\u001b[0m\n",
      "\u001b[1;32m~\\AppData\\Local\\Continuum\\anaconda3\\lib\\site-packages\\tensorflow\\contrib\\learn\\python\\__init__.py\u001b[0m in \u001b[0;36m<module>\u001b[1;34m()\u001b[0m\n\u001b[0;32m     26\u001b[0m \u001b[1;33m\u001b[0m\u001b[0m\n\u001b[0;32m     27\u001b[0m \u001b[1;31m# pylint: disable=wildcard-import\u001b[0m\u001b[1;33m\u001b[0m\u001b[1;33m\u001b[0m\u001b[0m\n\u001b[1;32m---> 28\u001b[1;33m \u001b[1;32mfrom\u001b[0m \u001b[0mtensorflow\u001b[0m\u001b[1;33m.\u001b[0m\u001b[0mcontrib\u001b[0m\u001b[1;33m.\u001b[0m\u001b[0mlearn\u001b[0m\u001b[1;33m.\u001b[0m\u001b[0mpython\u001b[0m\u001b[1;33m.\u001b[0m\u001b[0mlearn\u001b[0m \u001b[1;32mimport\u001b[0m \u001b[1;33m*\u001b[0m\u001b[1;33m\u001b[0m\u001b[0m\n\u001b[0m\u001b[0;32m     29\u001b[0m \u001b[1;31m# pylint: enable=wildcard-import\u001b[0m\u001b[1;33m\u001b[0m\u001b[1;33m\u001b[0m\u001b[0m\n",
      "\u001b[1;32m~\\AppData\\Local\\Continuum\\anaconda3\\lib\\site-packages\\tensorflow\\contrib\\learn\\python\\learn\\__init__.py\u001b[0m in \u001b[0;36m<module>\u001b[1;34m()\u001b[0m\n\u001b[0;32m     28\u001b[0m \u001b[1;32mfrom\u001b[0m \u001b[0mtensorflow\u001b[0m\u001b[1;33m.\u001b[0m\u001b[0mcontrib\u001b[0m\u001b[1;33m.\u001b[0m\u001b[0mlearn\u001b[0m\u001b[1;33m.\u001b[0m\u001b[0mpython\u001b[0m\u001b[1;33m.\u001b[0m\u001b[0mlearn\u001b[0m \u001b[1;32mimport\u001b[0m \u001b[0mbasic_session_run_hooks\u001b[0m\u001b[1;33m\u001b[0m\u001b[0m\n\u001b[0;32m     29\u001b[0m \u001b[1;32mfrom\u001b[0m \u001b[0mtensorflow\u001b[0m\u001b[1;33m.\u001b[0m\u001b[0mcontrib\u001b[0m\u001b[1;33m.\u001b[0m\u001b[0mlearn\u001b[0m\u001b[1;33m.\u001b[0m\u001b[0mpython\u001b[0m\u001b[1;33m.\u001b[0m\u001b[0mlearn\u001b[0m \u001b[1;32mimport\u001b[0m \u001b[0mdatasets\u001b[0m\u001b[1;33m\u001b[0m\u001b[0m\n\u001b[1;32m---> 30\u001b[1;33m \u001b[1;32mfrom\u001b[0m \u001b[0mtensorflow\u001b[0m\u001b[1;33m.\u001b[0m\u001b[0mcontrib\u001b[0m\u001b[1;33m.\u001b[0m\u001b[0mlearn\u001b[0m\u001b[1;33m.\u001b[0m\u001b[0mpython\u001b[0m\u001b[1;33m.\u001b[0m\u001b[0mlearn\u001b[0m \u001b[1;32mimport\u001b[0m \u001b[0mestimators\u001b[0m\u001b[1;33m\u001b[0m\u001b[0m\n\u001b[0m\u001b[0;32m     31\u001b[0m \u001b[1;32mfrom\u001b[0m \u001b[0mtensorflow\u001b[0m\u001b[1;33m.\u001b[0m\u001b[0mcontrib\u001b[0m\u001b[1;33m.\u001b[0m\u001b[0mlearn\u001b[0m\u001b[1;33m.\u001b[0m\u001b[0mpython\u001b[0m\u001b[1;33m.\u001b[0m\u001b[0mlearn\u001b[0m \u001b[1;32mimport\u001b[0m \u001b[0mgraph_actions\u001b[0m\u001b[1;33m\u001b[0m\u001b[0m\n\u001b[0;32m     32\u001b[0m \u001b[1;32mfrom\u001b[0m \u001b[0mtensorflow\u001b[0m\u001b[1;33m.\u001b[0m\u001b[0mcontrib\u001b[0m\u001b[1;33m.\u001b[0m\u001b[0mlearn\u001b[0m\u001b[1;33m.\u001b[0m\u001b[0mpython\u001b[0m\u001b[1;33m.\u001b[0m\u001b[0mlearn\u001b[0m \u001b[1;32mimport\u001b[0m \u001b[0mlearn_io\u001b[0m \u001b[1;32mas\u001b[0m \u001b[0mio\u001b[0m\u001b[1;33m\u001b[0m\u001b[0m\n",
      "\u001b[1;32m~\\AppData\\Local\\Continuum\\anaconda3\\lib\\site-packages\\tensorflow\\contrib\\learn\\python\\learn\\estimators\\__init__.py\u001b[0m in \u001b[0;36m<module>\u001b[1;34m()\u001b[0m\n\u001b[0;32m    300\u001b[0m \u001b[1;32mfrom\u001b[0m \u001b[0mtensorflow\u001b[0m\u001b[1;33m.\u001b[0m\u001b[0mcontrib\u001b[0m\u001b[1;33m.\u001b[0m\u001b[0mlearn\u001b[0m\u001b[1;33m.\u001b[0m\u001b[0mpython\u001b[0m\u001b[1;33m.\u001b[0m\u001b[0mlearn\u001b[0m\u001b[1;33m.\u001b[0m\u001b[0mestimators\u001b[0m\u001b[1;33m.\u001b[0m\u001b[0m_sklearn\u001b[0m \u001b[1;32mimport\u001b[0m \u001b[0mNotFittedError\u001b[0m\u001b[1;33m\u001b[0m\u001b[0m\n\u001b[0;32m    301\u001b[0m \u001b[1;32mfrom\u001b[0m \u001b[0mtensorflow\u001b[0m\u001b[1;33m.\u001b[0m\u001b[0mcontrib\u001b[0m\u001b[1;33m.\u001b[0m\u001b[0mlearn\u001b[0m\u001b[1;33m.\u001b[0m\u001b[0mpython\u001b[0m\u001b[1;33m.\u001b[0m\u001b[0mlearn\u001b[0m\u001b[1;33m.\u001b[0m\u001b[0mestimators\u001b[0m\u001b[1;33m.\u001b[0m\u001b[0mconstants\u001b[0m \u001b[1;32mimport\u001b[0m \u001b[0mProblemType\u001b[0m\u001b[1;33m\u001b[0m\u001b[0m\n\u001b[1;32m--> 302\u001b[1;33m \u001b[1;32mfrom\u001b[0m \u001b[0mtensorflow\u001b[0m\u001b[1;33m.\u001b[0m\u001b[0mcontrib\u001b[0m\u001b[1;33m.\u001b[0m\u001b[0mlearn\u001b[0m\u001b[1;33m.\u001b[0m\u001b[0mpython\u001b[0m\u001b[1;33m.\u001b[0m\u001b[0mlearn\u001b[0m\u001b[1;33m.\u001b[0m\u001b[0mestimators\u001b[0m\u001b[1;33m.\u001b[0m\u001b[0mdnn\u001b[0m \u001b[1;32mimport\u001b[0m \u001b[0mDNNClassifier\u001b[0m\u001b[1;33m\u001b[0m\u001b[0m\n\u001b[0m\u001b[0;32m    303\u001b[0m \u001b[1;32mfrom\u001b[0m \u001b[0mtensorflow\u001b[0m\u001b[1;33m.\u001b[0m\u001b[0mcontrib\u001b[0m\u001b[1;33m.\u001b[0m\u001b[0mlearn\u001b[0m\u001b[1;33m.\u001b[0m\u001b[0mpython\u001b[0m\u001b[1;33m.\u001b[0m\u001b[0mlearn\u001b[0m\u001b[1;33m.\u001b[0m\u001b[0mestimators\u001b[0m\u001b[1;33m.\u001b[0m\u001b[0mdnn\u001b[0m \u001b[1;32mimport\u001b[0m \u001b[0mDNNEstimator\u001b[0m\u001b[1;33m\u001b[0m\u001b[0m\n\u001b[0;32m    304\u001b[0m \u001b[1;32mfrom\u001b[0m \u001b[0mtensorflow\u001b[0m\u001b[1;33m.\u001b[0m\u001b[0mcontrib\u001b[0m\u001b[1;33m.\u001b[0m\u001b[0mlearn\u001b[0m\u001b[1;33m.\u001b[0m\u001b[0mpython\u001b[0m\u001b[1;33m.\u001b[0m\u001b[0mlearn\u001b[0m\u001b[1;33m.\u001b[0m\u001b[0mestimators\u001b[0m\u001b[1;33m.\u001b[0m\u001b[0mdnn\u001b[0m \u001b[1;32mimport\u001b[0m \u001b[0mDNNRegressor\u001b[0m\u001b[1;33m\u001b[0m\u001b[0m\n",
      "\u001b[1;32m~\\AppData\\Local\\Continuum\\anaconda3\\lib\\site-packages\\tensorflow\\contrib\\learn\\python\\learn\\estimators\\dnn.py\u001b[0m in \u001b[0;36m<module>\u001b[1;34m()\u001b[0m\n\u001b[0;32m     33\u001b[0m \u001b[1;32mfrom\u001b[0m \u001b[0mtensorflow\u001b[0m\u001b[1;33m.\u001b[0m\u001b[0mcontrib\u001b[0m\u001b[1;33m.\u001b[0m\u001b[0mlayers\u001b[0m\u001b[1;33m.\u001b[0m\u001b[0mpython\u001b[0m\u001b[1;33m.\u001b[0m\u001b[0mlayers\u001b[0m \u001b[1;32mimport\u001b[0m \u001b[0moptimizers\u001b[0m\u001b[1;33m\u001b[0m\u001b[0m\n\u001b[0;32m     34\u001b[0m \u001b[1;32mfrom\u001b[0m \u001b[0mtensorflow\u001b[0m\u001b[1;33m.\u001b[0m\u001b[0mcontrib\u001b[0m\u001b[1;33m.\u001b[0m\u001b[0mlearn\u001b[0m\u001b[1;33m.\u001b[0m\u001b[0mpython\u001b[0m\u001b[1;33m.\u001b[0m\u001b[0mlearn\u001b[0m \u001b[1;32mimport\u001b[0m \u001b[0mmetric_spec\u001b[0m\u001b[1;33m\u001b[0m\u001b[0m\n\u001b[1;32m---> 35\u001b[1;33m \u001b[1;32mfrom\u001b[0m \u001b[0mtensorflow\u001b[0m\u001b[1;33m.\u001b[0m\u001b[0mcontrib\u001b[0m\u001b[1;33m.\u001b[0m\u001b[0mlearn\u001b[0m\u001b[1;33m.\u001b[0m\u001b[0mpython\u001b[0m\u001b[1;33m.\u001b[0m\u001b[0mlearn\u001b[0m\u001b[1;33m.\u001b[0m\u001b[0mestimators\u001b[0m \u001b[1;32mimport\u001b[0m \u001b[0mdnn_linear_combined\u001b[0m\u001b[1;33m\u001b[0m\u001b[0m\n\u001b[0m\u001b[0;32m     36\u001b[0m \u001b[1;32mfrom\u001b[0m \u001b[0mtensorflow\u001b[0m\u001b[1;33m.\u001b[0m\u001b[0mcontrib\u001b[0m\u001b[1;33m.\u001b[0m\u001b[0mlearn\u001b[0m\u001b[1;33m.\u001b[0m\u001b[0mpython\u001b[0m\u001b[1;33m.\u001b[0m\u001b[0mlearn\u001b[0m\u001b[1;33m.\u001b[0m\u001b[0mestimators\u001b[0m \u001b[1;32mimport\u001b[0m \u001b[0mestimator\u001b[0m\u001b[1;33m\u001b[0m\u001b[0m\n\u001b[0;32m     37\u001b[0m \u001b[1;32mfrom\u001b[0m \u001b[0mtensorflow\u001b[0m\u001b[1;33m.\u001b[0m\u001b[0mcontrib\u001b[0m\u001b[1;33m.\u001b[0m\u001b[0mlearn\u001b[0m\u001b[1;33m.\u001b[0m\u001b[0mpython\u001b[0m\u001b[1;33m.\u001b[0m\u001b[0mlearn\u001b[0m\u001b[1;33m.\u001b[0m\u001b[0mestimators\u001b[0m \u001b[1;32mimport\u001b[0m \u001b[0mhead\u001b[0m \u001b[1;32mas\u001b[0m \u001b[0mhead_lib\u001b[0m\u001b[1;33m\u001b[0m\u001b[0m\n",
      "\u001b[1;32m~\\AppData\\Local\\Continuum\\anaconda3\\lib\\site-packages\\tensorflow\\contrib\\learn\\python\\learn\\estimators\\dnn_linear_combined.py\u001b[0m in \u001b[0;36m<module>\u001b[1;34m()\u001b[0m\n\u001b[0;32m     34\u001b[0m \u001b[1;32mfrom\u001b[0m \u001b[0mtensorflow\u001b[0m\u001b[1;33m.\u001b[0m\u001b[0mcontrib\u001b[0m\u001b[1;33m.\u001b[0m\u001b[0mlayers\u001b[0m\u001b[1;33m.\u001b[0m\u001b[0mpython\u001b[0m\u001b[1;33m.\u001b[0m\u001b[0mlayers\u001b[0m \u001b[1;32mimport\u001b[0m \u001b[0moptimizers\u001b[0m\u001b[1;33m\u001b[0m\u001b[0m\n\u001b[0;32m     35\u001b[0m \u001b[1;32mfrom\u001b[0m \u001b[0mtensorflow\u001b[0m\u001b[1;33m.\u001b[0m\u001b[0mcontrib\u001b[0m\u001b[1;33m.\u001b[0m\u001b[0mlearn\u001b[0m\u001b[1;33m.\u001b[0m\u001b[0mpython\u001b[0m\u001b[1;33m.\u001b[0m\u001b[0mlearn\u001b[0m \u001b[1;32mimport\u001b[0m \u001b[0mmetric_spec\u001b[0m\u001b[1;33m\u001b[0m\u001b[0m\n\u001b[1;32m---> 36\u001b[1;33m \u001b[1;32mfrom\u001b[0m \u001b[0mtensorflow\u001b[0m\u001b[1;33m.\u001b[0m\u001b[0mcontrib\u001b[0m\u001b[1;33m.\u001b[0m\u001b[0mlearn\u001b[0m\u001b[1;33m.\u001b[0m\u001b[0mpython\u001b[0m\u001b[1;33m.\u001b[0m\u001b[0mlearn\u001b[0m\u001b[1;33m.\u001b[0m\u001b[0mestimators\u001b[0m \u001b[1;32mimport\u001b[0m \u001b[0mestimator\u001b[0m\u001b[1;33m\u001b[0m\u001b[0m\n\u001b[0m\u001b[0;32m     37\u001b[0m \u001b[1;32mfrom\u001b[0m \u001b[0mtensorflow\u001b[0m\u001b[1;33m.\u001b[0m\u001b[0mcontrib\u001b[0m\u001b[1;33m.\u001b[0m\u001b[0mlearn\u001b[0m\u001b[1;33m.\u001b[0m\u001b[0mpython\u001b[0m\u001b[1;33m.\u001b[0m\u001b[0mlearn\u001b[0m\u001b[1;33m.\u001b[0m\u001b[0mestimators\u001b[0m \u001b[1;32mimport\u001b[0m \u001b[0mhead\u001b[0m \u001b[1;32mas\u001b[0m \u001b[0mhead_lib\u001b[0m\u001b[1;33m\u001b[0m\u001b[0m\n\u001b[0;32m     38\u001b[0m \u001b[1;32mfrom\u001b[0m \u001b[0mtensorflow\u001b[0m\u001b[1;33m.\u001b[0m\u001b[0mcontrib\u001b[0m\u001b[1;33m.\u001b[0m\u001b[0mlearn\u001b[0m\u001b[1;33m.\u001b[0m\u001b[0mpython\u001b[0m\u001b[1;33m.\u001b[0m\u001b[0mlearn\u001b[0m\u001b[1;33m.\u001b[0m\u001b[0mestimators\u001b[0m \u001b[1;32mimport\u001b[0m \u001b[0mmodel_fn\u001b[0m\u001b[1;33m\u001b[0m\u001b[0m\n",
      "\u001b[1;32m~\\AppData\\Local\\Continuum\\anaconda3\\lib\\site-packages\\tensorflow\\contrib\\learn\\python\\learn\\estimators\\estimator.py\u001b[0m in \u001b[0;36m<module>\u001b[1;34m()\u001b[0m\n\u001b[0;32m     50\u001b[0m \u001b[1;32mfrom\u001b[0m \u001b[0mtensorflow\u001b[0m\u001b[1;33m.\u001b[0m\u001b[0mcontrib\u001b[0m\u001b[1;33m.\u001b[0m\u001b[0mlearn\u001b[0m\u001b[1;33m.\u001b[0m\u001b[0mpython\u001b[0m\u001b[1;33m.\u001b[0m\u001b[0mlearn\u001b[0m\u001b[1;33m.\u001b[0m\u001b[0mestimators\u001b[0m \u001b[1;32mimport\u001b[0m \u001b[0mtensor_signature\u001b[0m\u001b[1;33m\u001b[0m\u001b[0m\n\u001b[0;32m     51\u001b[0m \u001b[1;32mfrom\u001b[0m \u001b[0mtensorflow\u001b[0m\u001b[1;33m.\u001b[0m\u001b[0mcontrib\u001b[0m\u001b[1;33m.\u001b[0m\u001b[0mlearn\u001b[0m\u001b[1;33m.\u001b[0m\u001b[0mpython\u001b[0m\u001b[1;33m.\u001b[0m\u001b[0mlearn\u001b[0m\u001b[1;33m.\u001b[0m\u001b[0mestimators\u001b[0m\u001b[1;33m.\u001b[0m\u001b[0m_sklearn\u001b[0m \u001b[1;32mimport\u001b[0m \u001b[0mNotFittedError\u001b[0m\u001b[1;33m\u001b[0m\u001b[0m\n\u001b[1;32m---> 52\u001b[1;33m \u001b[1;32mfrom\u001b[0m \u001b[0mtensorflow\u001b[0m\u001b[1;33m.\u001b[0m\u001b[0mcontrib\u001b[0m\u001b[1;33m.\u001b[0m\u001b[0mlearn\u001b[0m\u001b[1;33m.\u001b[0m\u001b[0mpython\u001b[0m\u001b[1;33m.\u001b[0m\u001b[0mlearn\u001b[0m\u001b[1;33m.\u001b[0m\u001b[0mlearn_io\u001b[0m \u001b[1;32mimport\u001b[0m \u001b[0mdata_feeder\u001b[0m\u001b[1;33m\u001b[0m\u001b[0m\n\u001b[0m\u001b[0;32m     53\u001b[0m \u001b[1;32mfrom\u001b[0m \u001b[0mtensorflow\u001b[0m\u001b[1;33m.\u001b[0m\u001b[0mcontrib\u001b[0m\u001b[1;33m.\u001b[0m\u001b[0mlearn\u001b[0m\u001b[1;33m.\u001b[0m\u001b[0mpython\u001b[0m\u001b[1;33m.\u001b[0m\u001b[0mlearn\u001b[0m\u001b[1;33m.\u001b[0m\u001b[0mutils\u001b[0m \u001b[1;32mimport\u001b[0m \u001b[0mexport\u001b[0m\u001b[1;33m\u001b[0m\u001b[0m\n\u001b[0;32m     54\u001b[0m \u001b[1;32mfrom\u001b[0m \u001b[0mtensorflow\u001b[0m\u001b[1;33m.\u001b[0m\u001b[0mcontrib\u001b[0m\u001b[1;33m.\u001b[0m\u001b[0mlearn\u001b[0m\u001b[1;33m.\u001b[0m\u001b[0mpython\u001b[0m\u001b[1;33m.\u001b[0m\u001b[0mlearn\u001b[0m\u001b[1;33m.\u001b[0m\u001b[0mutils\u001b[0m \u001b[1;32mimport\u001b[0m \u001b[0msaved_model_export_utils\u001b[0m\u001b[1;33m\u001b[0m\u001b[0m\n",
      "\u001b[1;32m~\\AppData\\Local\\Continuum\\anaconda3\\lib\\site-packages\\tensorflow\\contrib\\learn\\python\\learn\\learn_io\\__init__.py\u001b[0m in \u001b[0;36m<module>\u001b[1;34m()\u001b[0m\n\u001b[0;32m     24\u001b[0m \u001b[1;32mfrom\u001b[0m \u001b[0m__future__\u001b[0m \u001b[1;32mimport\u001b[0m \u001b[0mprint_function\u001b[0m\u001b[1;33m\u001b[0m\u001b[0m\n\u001b[0;32m     25\u001b[0m \u001b[1;33m\u001b[0m\u001b[0m\n\u001b[1;32m---> 26\u001b[1;33m \u001b[1;32mfrom\u001b[0m \u001b[0mtensorflow\u001b[0m\u001b[1;33m.\u001b[0m\u001b[0mcontrib\u001b[0m\u001b[1;33m.\u001b[0m\u001b[0mlearn\u001b[0m\u001b[1;33m.\u001b[0m\u001b[0mpython\u001b[0m\u001b[1;33m.\u001b[0m\u001b[0mlearn\u001b[0m\u001b[1;33m.\u001b[0m\u001b[0mlearn_io\u001b[0m\u001b[1;33m.\u001b[0m\u001b[0mdask_io\u001b[0m \u001b[1;32mimport\u001b[0m \u001b[0mextract_dask_data\u001b[0m\u001b[1;33m\u001b[0m\u001b[0m\n\u001b[0m\u001b[0;32m     27\u001b[0m \u001b[1;32mfrom\u001b[0m \u001b[0mtensorflow\u001b[0m\u001b[1;33m.\u001b[0m\u001b[0mcontrib\u001b[0m\u001b[1;33m.\u001b[0m\u001b[0mlearn\u001b[0m\u001b[1;33m.\u001b[0m\u001b[0mpython\u001b[0m\u001b[1;33m.\u001b[0m\u001b[0mlearn\u001b[0m\u001b[1;33m.\u001b[0m\u001b[0mlearn_io\u001b[0m\u001b[1;33m.\u001b[0m\u001b[0mdask_io\u001b[0m \u001b[1;32mimport\u001b[0m \u001b[0mextract_dask_labels\u001b[0m\u001b[1;33m\u001b[0m\u001b[0m\n\u001b[0;32m     28\u001b[0m \u001b[1;32mfrom\u001b[0m \u001b[0mtensorflow\u001b[0m\u001b[1;33m.\u001b[0m\u001b[0mcontrib\u001b[0m\u001b[1;33m.\u001b[0m\u001b[0mlearn\u001b[0m\u001b[1;33m.\u001b[0m\u001b[0mpython\u001b[0m\u001b[1;33m.\u001b[0m\u001b[0mlearn\u001b[0m\u001b[1;33m.\u001b[0m\u001b[0mlearn_io\u001b[0m\u001b[1;33m.\u001b[0m\u001b[0mdask_io\u001b[0m \u001b[1;32mimport\u001b[0m \u001b[0mHAS_DASK\u001b[0m\u001b[1;33m\u001b[0m\u001b[0m\n",
      "\u001b[1;32m~\\AppData\\Local\\Continuum\\anaconda3\\lib\\site-packages\\tensorflow\\contrib\\learn\\python\\learn\\learn_io\\dask_io.py\u001b[0m in \u001b[0;36m<module>\u001b[1;34m()\u001b[0m\n\u001b[0;32m     31\u001b[0m \u001b[1;32mtry\u001b[0m\u001b[1;33m:\u001b[0m\u001b[1;33m\u001b[0m\u001b[0m\n\u001b[0;32m     32\u001b[0m   \u001b[1;31m# pylint: disable=g-import-not-at-top\u001b[0m\u001b[1;33m\u001b[0m\u001b[1;33m\u001b[0m\u001b[0m\n\u001b[1;32m---> 33\u001b[1;33m   \u001b[1;32mimport\u001b[0m \u001b[0mdask\u001b[0m\u001b[1;33m.\u001b[0m\u001b[0mdataframe\u001b[0m \u001b[1;32mas\u001b[0m \u001b[0mdd\u001b[0m\u001b[1;33m\u001b[0m\u001b[0m\n\u001b[0m\u001b[0;32m     34\u001b[0m   \u001b[0mallowed_classes\u001b[0m \u001b[1;33m=\u001b[0m \u001b[1;33m(\u001b[0m\u001b[0mdd\u001b[0m\u001b[1;33m.\u001b[0m\u001b[0mSeries\u001b[0m\u001b[1;33m,\u001b[0m \u001b[0mdd\u001b[0m\u001b[1;33m.\u001b[0m\u001b[0mDataFrame\u001b[0m\u001b[1;33m)\u001b[0m\u001b[1;33m\u001b[0m\u001b[0m\n\u001b[0;32m     35\u001b[0m   \u001b[0mHAS_DASK\u001b[0m \u001b[1;33m=\u001b[0m \u001b[1;32mTrue\u001b[0m\u001b[1;33m\u001b[0m\u001b[0m\n",
      "\u001b[1;32m~\\AppData\\Local\\Continuum\\anaconda3\\lib\\site-packages\\dask\\dataframe\\__init__.py\u001b[0m in \u001b[0;36m<module>\u001b[1;34m()\u001b[0m\n\u001b[0;32m     10\u001b[0m \u001b[1;32mfrom\u001b[0m \u001b[1;33m.\u001b[0m\u001b[0moptimize\u001b[0m \u001b[1;32mimport\u001b[0m \u001b[0moptimize\u001b[0m\u001b[1;33m\u001b[0m\u001b[0m\n\u001b[0;32m     11\u001b[0m \u001b[1;32mfrom\u001b[0m \u001b[1;33m.\u001b[0m\u001b[0mmulti\u001b[0m \u001b[1;32mimport\u001b[0m \u001b[0mmerge\u001b[0m\u001b[1;33m,\u001b[0m \u001b[0mconcat\u001b[0m\u001b[1;33m\u001b[0m\u001b[0m\n\u001b[1;32m---> 12\u001b[1;33m from .rolling import (rolling_count, rolling_sum, rolling_mean, rolling_median,\n\u001b[0m\u001b[0;32m     13\u001b[0m                       \u001b[0mrolling_min\u001b[0m\u001b[1;33m,\u001b[0m \u001b[0mrolling_max\u001b[0m\u001b[1;33m,\u001b[0m \u001b[0mrolling_std\u001b[0m\u001b[1;33m,\u001b[0m \u001b[0mrolling_var\u001b[0m\u001b[1;33m,\u001b[0m\u001b[1;33m\u001b[0m\u001b[0m\n\u001b[0;32m     14\u001b[0m                       \u001b[0mrolling_skew\u001b[0m\u001b[1;33m,\u001b[0m \u001b[0mrolling_kurt\u001b[0m\u001b[1;33m,\u001b[0m \u001b[0mrolling_quantile\u001b[0m\u001b[1;33m,\u001b[0m \u001b[0mrolling_apply\u001b[0m\u001b[1;33m,\u001b[0m\u001b[1;33m\u001b[0m\u001b[0m\n",
      "\u001b[1;32m~\\AppData\\Local\\Continuum\\anaconda3\\lib\\site-packages\\dask\\dataframe\\rolling.py\u001b[0m in \u001b[0;36m<module>\u001b[1;34m()\u001b[0m\n\u001b[0;32m    198\u001b[0m \u001b[1;33m\u001b[0m\u001b[0m\n\u001b[0;32m    199\u001b[0m \u001b[1;33m\u001b[0m\u001b[0m\n\u001b[1;32m--> 200\u001b[1;33m \u001b[0mrolling_count\u001b[0m \u001b[1;33m=\u001b[0m \u001b[0mwrap_rolling\u001b[0m\u001b[1;33m(\u001b[0m\u001b[0mpd\u001b[0m\u001b[1;33m.\u001b[0m\u001b[0mrolling_count\u001b[0m\u001b[1;33m,\u001b[0m \u001b[1;34m'count'\u001b[0m\u001b[1;33m)\u001b[0m\u001b[1;33m\u001b[0m\u001b[0m\n\u001b[0m\u001b[0;32m    201\u001b[0m \u001b[0mrolling_sum\u001b[0m \u001b[1;33m=\u001b[0m \u001b[0mwrap_rolling\u001b[0m\u001b[1;33m(\u001b[0m\u001b[0mpd\u001b[0m\u001b[1;33m.\u001b[0m\u001b[0mrolling_sum\u001b[0m\u001b[1;33m,\u001b[0m \u001b[1;34m'sum'\u001b[0m\u001b[1;33m)\u001b[0m\u001b[1;33m\u001b[0m\u001b[0m\n\u001b[0;32m    202\u001b[0m \u001b[0mrolling_mean\u001b[0m \u001b[1;33m=\u001b[0m \u001b[0mwrap_rolling\u001b[0m\u001b[1;33m(\u001b[0m\u001b[0mpd\u001b[0m\u001b[1;33m.\u001b[0m\u001b[0mrolling_mean\u001b[0m\u001b[1;33m,\u001b[0m \u001b[1;34m'mean'\u001b[0m\u001b[1;33m)\u001b[0m\u001b[1;33m\u001b[0m\u001b[0m\n",
      "\u001b[1;31mAttributeError\u001b[0m: module 'pandas' has no attribute 'rolling_count'"
     ]
    }
   ],
   "source": [
    "learn = tf.contrib.learn"
   ]
  }
 ],
 "metadata": {
  "kernelspec": {
   "display_name": "Python 3",
   "language": "python",
   "name": "python3"
  },
  "language_info": {
   "codemirror_mode": {
    "name": "ipython",
    "version": 3
   },
   "file_extension": ".py",
   "mimetype": "text/x-python",
   "name": "python",
   "nbconvert_exporter": "python",
   "pygments_lexer": "ipython3",
   "version": "3.6.6"
  }
 },
 "nbformat": 4,
 "nbformat_minor": 2
}
