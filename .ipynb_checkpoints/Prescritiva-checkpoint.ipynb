{
 "cells": [
  {
   "cell_type": "markdown",
   "metadata": {},
   "source": [
    "# 1. Introdução"
   ]
  },
  {
   "cell_type": "markdown",
   "metadata": {},
   "source": [
    "Anteriormente, a principal preocupação do desenhista era conceber e construir um sistema com uma capacidade previamente especificada, enquanto a eficiência e o custo eram de secundária importância."
   ]
  },
  {
   "cell_type": "markdown",
   "metadata": {},
   "source": [
    "Atualmente, a tarefa é muito mais demandante e consiste em atingir o objetivo principal (capacidade), porém com o máximo possível de efeitos positivos (eficiência, réditos, benefícios sociais e ambientais) e/ou o mínimo possível de efeitos adversos (consumo de combustível, custos, degradação ambiental)"
   ]
  },
  {
   "cell_type": "markdown",
   "metadata": {},
   "source": [
    "__Otimização:__ estudo de problemas em que se busca minimizar ou maximizar uma função através da escolha sistemática dos valores de variáveis reais ou inteiras dentro de um conjunto viável."
   ]
  },
  {
   "cell_type": "markdown",
   "metadata": {},
   "source": [
    "# 2. Problema de Otimização"
   ]
  },
  {
   "cell_type": "markdown",
   "metadata": {},
   "source": [
    "Um problema de __programação otimização__ pode ser definido como o problema de maximizar ou minimizar uma função linear sujeita a restrições lineares. \n",
    "Restrições podem ser igualdades ou desigualdades."
   ]
  },
  {
   "cell_type": "markdown",
   "metadata": {},
   "source": [
    "\\\\(min (x^2 + 1)\\\\)"
   ]
  },
  {
   "cell_type": "markdown",
   "metadata": {},
   "source": [
    "\\\\(max(2x)\\\\)"
   ]
  },
  {
   "cell_type": "markdown",
   "metadata": {},
   "source": [
    "### Exemplo:\n",
    "Encontrar os números \\\\(x_1\\\\) e \\\\(x_2\\\\) que maximizam a soma \\\\(x_1 + x_2\\\\) sujeita às restrições \\\\(x_1 \\geq 0\\\\), \\\\(x_2 \\geq 0\\\\) e <br>\n",
    ">    \\\\(x_1 + 2x_2 \\leq 4\\\\) <br>\n",
    ">    \\\\(4x_1 + 2x_2 \\leq 12\\\\) <br>\n",
    ">    \\\\(-x_1 + x_2 \\leq 1\\\\) <br>\n",
    "\n",
    "Neste problema temos 2 variáveis e 5 restrições.\n",
    "- restrições não negatividade\n",
    "- restrições principais\n",
    "- função objetivo"
   ]
  },
  {
   "attachments": {
    "Capture7.PNG": {
     "image/png": "[encoded data removed]"
    }
   },
   "cell_type": "markdown",
   "metadata": {},
   "source": [
    "![Capture7.PNG](attachment:Capture7.PNG)"
   ]
  },
  {
   "cell_type": "code",
   "execution_count": 2,
   "metadata": {},
   "outputs": [],
   "source": [
    "import pulp"
   ]
  },
  {
   "cell_type": "code",
   "execution_count": 7,
   "metadata": {},
   "outputs": [],
   "source": [
    "vars = {'x1', 'x2'}\n",
    "\n",
    "lp = pulp.LpProblem(sense=pulp.LpMinimize)\n",
    "lp_vars = pulp.LpVariable.dicts('vars', vars)\n",
    "\n"
   ]
  },
  {
   "cell_type": "code",
   "execution_count": 8,
   "metadata": {},
   "outputs": [
    {
     "data": {
      "text/plain": [
       "{'x2': vars_x2, 'x1': vars_x1}"
      ]
     },
     "execution_count": 8,
     "metadata": {},
     "output_type": "execute_result"
    }
   ],
   "source": [
    "lp_vars"
   ]
  },
  {
   "cell_type": "code",
   "execution_count": 9,
   "metadata": {},
   "outputs": [
    {
     "data": {
      "text/plain": [
       "[0.33333333, 2.3333333]"
      ]
     },
     "execution_count": 9,
     "metadata": {},
     "output_type": "execute_result"
    }
   ],
   "source": [
    "# funcao objetivo\n",
    "lp += lp_vars['x1'] + lp_vars['x2']\n",
    "\n",
    "# restrições\n",
    "lp += lp_vars['x1'] + 2*lp_vars['x2'] >= 3\n",
    "lp += 2*lp_vars['x1'] + lp_vars['x2'] >= 5\n",
    "\n",
    "#lp += lp_vars['x1'] >= 0\n",
    "lp += lp_vars['x2'] >= 0\n",
    "\n",
    "status = lp.solve()\n",
    "[lp_vars[v].value() for v in vars]"
   ]
  },
  {
   "cell_type": "code",
   "execution_count": 6,
   "metadata": {},
   "outputs": [
    {
     "data": {
      "text/plain": [
       "NoName:\n",
       "MAXIMIZE\n",
       "1*vars_x1 + 1*vars_x2 + 0\n",
       "SUBJECT TO\n",
       "_C1: 4 vars_x1 + 2 vars_x2 <= 12\n",
       "\n",
       "_C2: vars_x1 + 2 vars_x2 <= 4\n",
       "\n",
       "_C3: - vars_x1 + vars_x2 <= 1\n",
       "\n",
       "_C4: vars_x1 >= 0\n",
       "\n",
       "_C5: vars_x2 >= 0\n",
       "\n",
       "VARIABLES\n",
       "vars_x1 free Continuous\n",
       "vars_x2 free Continuous"
      ]
     },
     "execution_count": 6,
     "metadata": {},
     "output_type": "execute_result"
    }
   ],
   "source": [
    "lp"
   ]
  },
  {
   "cell_type": "markdown",
   "metadata": {},
   "source": [
    "### Outros exemplos"
   ]
  },
  {
   "cell_type": "markdown",
   "metadata": {},
   "source": [
    "Problema: Minimização <br>\n",
    "Função objetivo: \\\\(y_1 + y_2\\\\) <br>\n",
    "Restrições:\n",
    "> \\\\(y_1 + 2y_2 \\geq 3\\\\) <br>\n",
    "> \\\\(2y_1 + y_2 \\geq 5\\\\) <br>\n",
    "> \\\\(y_2 \\geq 0\\\\) <br>"
   ]
  },
  {
   "cell_type": "markdown",
   "metadata": {},
   "source": [
    "Problema: Maximização <br>\n",
    "Função objetivo: \\\\(x_1 + 2x_2 + 3x_3 + 4x_4 + 5\\\\) <br>\n",
    "Restrições: <br>\n",
    "> \\\\(4x_1 + 3x_2 + 2x_3 + x_4 \\leq 10\\\\) <br>\n",
    "> \\\\(x_1 - x_3 + 2x_4 = 2\\\\) <br>\n",
    "> \\\\(x_1 + x_2 + x_3 + x_4 \\geq 1\\\\) <br>\n",
    "> \\\\(x_1 \\geq 0\\\\) <br>\n",
    "> \\\\(x_3 \\geq 0\\\\) <br>\n",
    "> \\\\(x_4 \\geq 0\\\\) <br>\n"
   ]
  },
  {
   "cell_type": "markdown",
   "metadata": {},
   "source": [
    "# 3. Exercício Prático"
   ]
  },
  {
   "cell_type": "markdown",
   "metadata": {},
   "source": [
    "A ração de gatos Whiscas é produzida pela Uncle Ben's. Uncle Ben's quer produzir a sua ração de gatos o mais barato possível e ao mesmo tempo garantir que os valores nutricionais sejam obedecidos. Assim, eles querem variar a quantidade de cada ingrediente usado (os principais ingredientes são frango, carne, carneiro, arroz, trigo e gel) mantendo os padrões nutricionais. <br>\n",
    "\n",
    "Os custos do frango, carne e carneiro são R\\$ 0,013, R\\$ 0,008 e R\\$ 0,010 respectivamente, enquanto os custos do arroz, trigo e gel são R\\$ 0,002, R\\$ 0,005 e R\\$ 0,001 respectivamente. Todos os custos são por grama!\n",
    "\n",
    "Cada ingrediente contribui para o peso total de proteína, gordura, fibra e sal no produto final. As contribuições (em gramas) por grama de ingrediente são dadas na tabela abaixo: <br>"
   ]
  },
  {
   "cell_type": "markdown",
   "metadata": {},
   "source": [
    "| Ingrediente | Proteína   | Gordura | Fibra |  Sal  |\n",
    "|-------------|------------|---------|-------|-------|\n",
    "|   Frango    |    0,100   |  0,080  | 0,001 | 0,002 |\n",
    "|    Carne    |    0,200   |  0,100  | 0,005 | 0,005 |\n",
    "|   Carneiro  |    0,150   |  0,110  | 0,003 | 0,007 |\n",
    "|    Arroz    |    0,000   |  0,010  | 0,100 | 0,002 |\n",
    "|    Trigo    |    0,040   |  0,010  | 0,150 | 0,008 |\n",
    "|     Gel     |    0,000   |  0,000  | 0,000 | 0,000 |"
   ]
  },
  {
   "cell_type": "markdown",
   "metadata": {},
   "source": [
    "A embalagem de Whiskas tem 100g, onde pelo menos 8g são de proteína e 6g de gordura, e no máximo 2g de fibra e 0,4g de sal. <br>\n",
    "\n",
    "__Problema proposto:__ Obter as porcentagens de ingredientes para criar uma ração com apenas frango e carne obdecendo as restrições nutricionais. <br>\n",
    "\n",
    "1. Identificar as variáveis de decisão <br>\n",
    "\\\\(x_1\\\\) = porcentagem de carne de frango em uma lata de ração de gatos <br>\n",
    "\\\\(x_2\\\\) = porcentagem de carne de boi em uma lata de ração de gatos <br>\n",
    "\n",
    "2. Formular a função objetivo <br>\n",
    "__min__ (0,013\\\\(x_1\\\\) + 0,008\\\\(x_2\\\\)) <br>\n",
    "\n",
    "3. Restrições <br>\n",
    "> 1,000\\\\(x_1\\\\) + 1,000\\\\(x_2\\\\) = 100,0 <br>\n",
    "> 0,100\\\\(x_1\\\\) + 0,200\\\\(x_2 \\geq \\\\) 8,0 <br> \n",
    "> 0,080\\\\(x_1\\\\) + 0,100\\\\(x_2 \\geq \\\\) 6,0 <br> \n",
    "> 0,001\\\\(x_1\\\\) + 0,005\\\\(x_2 \\leq \\\\) 2,0 <br> \n",
    "> 0,002\\\\(x_1\\\\) + 0,005\\\\(x_2 \\leq \\\\) 0,4 <br> \n",
    "\n",
    "__Solução__:"
   ]
  },
  {
   "cell_type": "code",
   "execution_count": 1,
   "metadata": {},
   "outputs": [],
   "source": [
    "from pulp import *"
   ]
  },
  {
   "cell_type": "code",
   "execution_count": 2,
   "metadata": {},
   "outputs": [],
   "source": [
    "prob = LpProblem(\"Problema da Racao\",LpMinimize)"
   ]
  },
  {
   "cell_type": "code",
   "execution_count": 3,
   "metadata": {},
   "outputs": [],
   "source": [
    "x1 = LpVariable(\"PorcentagemFrango\",0,)\n",
    "x2 = LpVariable(\"PorcentagemBoi\",0)\n",
    "x3 = LpVariable(\"PorcentagemGel\",0)"
   ]
  },
  {
   "cell_type": "code",
   "execution_count": 4,
   "metadata": {},
   "outputs": [],
   "source": [
    "prob += 0.013*x1 + 0.008*x2 + 0.001*x3"
   ]
  },
  {
   "cell_type": "code",
   "execution_count": 5,
   "metadata": {},
   "outputs": [],
   "source": [
    "prob += x1 + x2 + x3 == 100\n",
    "prob += 0.100*x1 + 0.200*x2 >= 8.0\n",
    "prob += 0.080*x1 + 0.100*x2 >= 6.0\n",
    "prob += 0.001*x1 + 0.005*x2 <= 2.0\n",
    "prob += 0.002*x1 + 0.005*x2 <= 0.4"
   ]
  },
  {
   "cell_type": "code",
   "execution_count": 6,
   "metadata": {},
   "outputs": [
    {
     "data": {
      "text/plain": [
       "1"
      ]
     },
     "execution_count": 6,
     "metadata": {},
     "output_type": "execute_result"
    }
   ],
   "source": [
    "prob.writeLP(\"WhiskasModel.lp\")\n",
    "prob.solve(CPLEX())"
   ]
  },
  {
   "cell_type": "code",
   "execution_count": 7,
   "metadata": {},
   "outputs": [
    {
     "name": "stdout",
     "output_type": "stream",
     "text": [
      "Status: Optimal\n",
      "PorcentagemBoi = 60.0\n",
      "PorcentagemFrango = 0.0\n",
      "PorcentagemGel = 40.0\n"
     ]
    }
   ],
   "source": [
    "print(\"Status:\", LpStatus[prob.status])\n",
    "for v in prob.variables():\n",
    "    print(v.name, \"=\", v.varValue)"
   ]
  },
  {
   "cell_type": "code",
   "execution_count": 8,
   "metadata": {},
   "outputs": [
    {
     "name": "stdout",
     "output_type": "stream",
     "text": [
      "Custo total de ingredientes por lata = 0.52\n"
     ]
    }
   ],
   "source": [
    "print(\"Custo total de ingredientes por lata =\", value(prob.objective))"
   ]
  },
  {
   "cell_type": "code",
   "execution_count": 11,
   "metadata": {},
   "outputs": [
    {
     "data": {
      "text/plain": [
       "{'PorcentagemFrango': PorcentagemFrango,\n",
       " 'PorcentagemBoi': PorcentagemBoi,\n",
       " 'PorcentagemGel': PorcentagemGel}"
      ]
     },
     "execution_count": 11,
     "metadata": {},
     "output_type": "execute_result"
    }
   ],
   "source": [
    "prob.variablesDict()"
   ]
  }
 ],
 "metadata": {
  "kernelspec": {
   "display_name": "Python 3",
   "language": "python",
   "name": "python3"
  },
  "language_info": {
   "codemirror_mode": {
    "name": "ipython",
    "version": 3
   },
   "file_extension": ".py",
   "mimetype": "text/x-python",
   "name": "python",
   "nbconvert_exporter": "python",
   "pygments_lexer": "ipython3",
   "version": "3.6.6"
  }
 },
 "nbformat": 4,
 "nbformat_minor": 2
}
