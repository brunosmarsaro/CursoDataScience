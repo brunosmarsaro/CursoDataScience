{
 "cells": [
  {
   "cell_type": "markdown",
   "metadata": {},
   "source": [
    "# Deep learning"
   ]
  },
  {
   "cell_type": "markdown",
   "metadata": {},
   "source": [
    "## Prática "
   ]
  },
  {
   "cell_type": "markdown",
   "metadata": {},
   "source": [
    "* https://keras.io/\n",
    "* https://pandas.pydata.org/pandas-docs/stable/10min.html"
   ]
  },
  {
   "cell_type": "code",
   "execution_count": 1,
   "metadata": {
    "ExecuteTime": {
     "end_time": "2019-01-10T11:14:38.477149Z",
     "start_time": "2019-01-10T11:14:36.757425Z"
    }
   },
   "outputs": [],
   "source": [
    "import pandas as pd              # estrutura de dados: dataframes\n",
    "\n",
    "dados = pd.read_csv('HR_comma_sep.csv', sep=',')\n",
    "dados.columns = [coluna.strip() for coluna in dados.columns] "
   ]
  },
  {
   "cell_type": "markdown",
   "metadata": {},
   "source": [
    "# One hot encoding/Criação de Dummies "
   ]
  },
  {
   "cell_type": "code",
   "execution_count": 2,
   "metadata": {
    "ExecuteTime": {
     "end_time": "2019-01-10T11:14:41.006728Z",
     "start_time": "2019-01-10T11:14:40.353262Z"
    }
   },
   "outputs": [
    {
     "data": {
      "text/plain": [
       "0          sales\n",
       "1          sales\n",
       "2          sales\n",
       "14996    support\n",
       "14997    support\n",
       "14998    support\n",
       "Name: Departments, dtype: object"
      ]
     },
     "execution_count": 2,
     "metadata": {},
     "output_type": "execute_result"
    }
   ],
   "source": [
    "from sklearn.preprocessing import LabelEncoder\n",
    "le = LabelEncoder()\n",
    "departments_encoded = le.fit_transform(dados.Departments)\n",
    "\n",
    "dados.Departments.head(3).append(dados.Departments.tail(3))"
   ]
  },
  {
   "cell_type": "code",
   "execution_count": 3,
   "metadata": {
    "ExecuteTime": {
     "end_time": "2019-01-10T11:14:41.281549Z",
     "start_time": "2019-01-10T11:14:41.274554Z"
    }
   },
   "outputs": [
    {
     "data": {
      "text/plain": [
       "array([7, 7, 7, ..., 8, 8, 8], dtype=int64)"
      ]
     },
     "execution_count": 3,
     "metadata": {},
     "output_type": "execute_result"
    }
   ],
   "source": [
    "departments_encoded"
   ]
  },
  {
   "cell_type": "code",
   "execution_count": 4,
   "metadata": {
    "ExecuteTime": {
     "end_time": "2019-01-10T11:14:41.601368Z",
     "start_time": "2019-01-10T11:14:41.592372Z"
    }
   },
   "outputs": [
    {
     "data": {
      "text/plain": [
       "True"
      ]
     },
     "execution_count": 4,
     "metadata": {},
     "output_type": "execute_result"
    }
   ],
   "source": [
    "8 > 7"
   ]
  },
  {
   "cell_type": "code",
   "execution_count": 5,
   "metadata": {
    "ExecuteTime": {
     "end_time": "2019-01-10T11:14:43.233300Z",
     "start_time": "2019-01-10T11:14:43.222306Z"
    },
    "scrolled": true
   },
   "outputs": [
    {
     "data": {
      "text/plain": [
       "0       low\n",
       "1    medium\n",
       "2    medium\n",
       "3       low\n",
       "4       low\n",
       "Name: salary, dtype: object"
      ]
     },
     "execution_count": 5,
     "metadata": {},
     "output_type": "execute_result"
    }
   ],
   "source": [
    "dados.salary.head()"
   ]
  },
  {
   "cell_type": "code",
   "execution_count": 7,
   "metadata": {
    "ExecuteTime": {
     "end_time": "2019-01-10T11:14:47.727429Z",
     "start_time": "2019-01-10T11:14:47.707440Z"
    }
   },
   "outputs": [
    {
     "data": {
      "text/plain": [
       "array([1, 2, 2, ..., 1, 1, 1], dtype=int64)"
      ]
     },
     "execution_count": 7,
     "metadata": {},
     "output_type": "execute_result"
    }
   ],
   "source": [
    "le = LabelEncoder()\n",
    "salary_encoded = le.fit_transform(dados.salary)\n",
    "salary_encoded"
   ]
  },
  {
   "cell_type": "code",
   "execution_count": 8,
   "metadata": {
    "ExecuteTime": {
     "end_time": "2019-01-10T11:14:48.365060Z",
     "start_time": "2019-01-10T11:14:48.359079Z"
    }
   },
   "outputs": [
    {
     "data": {
      "text/plain": [
       "0"
      ]
     },
     "execution_count": 8,
     "metadata": {},
     "output_type": "execute_result"
    }
   ],
   "source": [
    "salary_encoded[72]"
   ]
  },
  {
   "cell_type": "markdown",
   "metadata": {},
   "source": [
    "<img src=\"imagens/onehot.png\" width = 500 height=300>"
   ]
  },
  {
   "cell_type": "code",
   "execution_count": 9,
   "metadata": {
    "ExecuteTime": {
     "end_time": "2019-01-10T11:16:02.471658Z",
     "start_time": "2019-01-10T11:16:02.438678Z"
    }
   },
   "outputs": [
    {
     "data": {
      "text/html": [
       "<div>\n",
       "<style scoped>\n",
       "    .dataframe tbody tr th:only-of-type {\n",
       "        vertical-align: middle;\n",
       "    }\n",
       "\n",
       "    .dataframe tbody tr th {\n",
       "        vertical-align: top;\n",
       "    }\n",
       "\n",
       "    .dataframe thead th {\n",
       "        text-align: right;\n",
       "    }\n",
       "</style>\n",
       "<table border=\"1\" class=\"dataframe\">\n",
       "  <thead>\n",
       "    <tr style=\"text-align: right;\">\n",
       "      <th></th>\n",
       "      <th>Dept_IT</th>\n",
       "      <th>Dept_RandD</th>\n",
       "      <th>Dept_accounting</th>\n",
       "      <th>Dept_hr</th>\n",
       "      <th>Dept_management</th>\n",
       "      <th>Dept_marketing</th>\n",
       "      <th>Dept_product_mng</th>\n",
       "      <th>Dept_sales</th>\n",
       "      <th>Dept_support</th>\n",
       "      <th>Dept_technical</th>\n",
       "    </tr>\n",
       "  </thead>\n",
       "  <tbody>\n",
       "    <tr>\n",
       "      <th>0</th>\n",
       "      <td>0</td>\n",
       "      <td>0</td>\n",
       "      <td>0</td>\n",
       "      <td>0</td>\n",
       "      <td>0</td>\n",
       "      <td>0</td>\n",
       "      <td>0</td>\n",
       "      <td>1</td>\n",
       "      <td>0</td>\n",
       "      <td>0</td>\n",
       "    </tr>\n",
       "    <tr>\n",
       "      <th>1</th>\n",
       "      <td>0</td>\n",
       "      <td>0</td>\n",
       "      <td>0</td>\n",
       "      <td>0</td>\n",
       "      <td>0</td>\n",
       "      <td>0</td>\n",
       "      <td>0</td>\n",
       "      <td>1</td>\n",
       "      <td>0</td>\n",
       "      <td>0</td>\n",
       "    </tr>\n",
       "    <tr>\n",
       "      <th>2</th>\n",
       "      <td>0</td>\n",
       "      <td>0</td>\n",
       "      <td>0</td>\n",
       "      <td>0</td>\n",
       "      <td>0</td>\n",
       "      <td>0</td>\n",
       "      <td>0</td>\n",
       "      <td>1</td>\n",
       "      <td>0</td>\n",
       "      <td>0</td>\n",
       "    </tr>\n",
       "    <tr>\n",
       "      <th>3</th>\n",
       "      <td>0</td>\n",
       "      <td>0</td>\n",
       "      <td>0</td>\n",
       "      <td>0</td>\n",
       "      <td>0</td>\n",
       "      <td>0</td>\n",
       "      <td>0</td>\n",
       "      <td>1</td>\n",
       "      <td>0</td>\n",
       "      <td>0</td>\n",
       "    </tr>\n",
       "    <tr>\n",
       "      <th>4</th>\n",
       "      <td>0</td>\n",
       "      <td>0</td>\n",
       "      <td>0</td>\n",
       "      <td>0</td>\n",
       "      <td>0</td>\n",
       "      <td>0</td>\n",
       "      <td>0</td>\n",
       "      <td>1</td>\n",
       "      <td>0</td>\n",
       "      <td>0</td>\n",
       "    </tr>\n",
       "  </tbody>\n",
       "</table>\n",
       "</div>"
      ],
      "text/plain": [
       "   Dept_IT  Dept_RandD  Dept_accounting  Dept_hr  Dept_management  \\\n",
       "0        0           0                0        0                0   \n",
       "1        0           0                0        0                0   \n",
       "2        0           0                0        0                0   \n",
       "3        0           0                0        0                0   \n",
       "4        0           0                0        0                0   \n",
       "\n",
       "   Dept_marketing  Dept_product_mng  Dept_sales  Dept_support  Dept_technical  \n",
       "0               0                 0           1             0               0  \n",
       "1               0                 0           1             0               0  \n",
       "2               0                 0           1             0               0  \n",
       "3               0                 0           1             0               0  \n",
       "4               0                 0           1             0               0  "
      ]
     },
     "execution_count": 9,
     "metadata": {},
     "output_type": "execute_result"
    }
   ],
   "source": [
    "departamentos = pd.get_dummies(dados.Departments, prefix='Dept')\n",
    "salario = pd.get_dummies(dados.salary, prefix='Salary')\n",
    "\n",
    "departamentos.head()"
   ]
  },
  {
   "cell_type": "code",
   "execution_count": 10,
   "metadata": {
    "ExecuteTime": {
     "end_time": "2019-01-10T11:16:03.223307Z",
     "start_time": "2019-01-10T11:16:03.211313Z"
    }
   },
   "outputs": [
    {
     "data": {
      "text/html": [
       "<div>\n",
       "<style scoped>\n",
       "    .dataframe tbody tr th:only-of-type {\n",
       "        vertical-align: middle;\n",
       "    }\n",
       "\n",
       "    .dataframe tbody tr th {\n",
       "        vertical-align: top;\n",
       "    }\n",
       "\n",
       "    .dataframe thead th {\n",
       "        text-align: right;\n",
       "    }\n",
       "</style>\n",
       "<table border=\"1\" class=\"dataframe\">\n",
       "  <thead>\n",
       "    <tr style=\"text-align: right;\">\n",
       "      <th></th>\n",
       "      <th>Salary_high</th>\n",
       "      <th>Salary_low</th>\n",
       "      <th>Salary_medium</th>\n",
       "    </tr>\n",
       "  </thead>\n",
       "  <tbody>\n",
       "    <tr>\n",
       "      <th>0</th>\n",
       "      <td>0</td>\n",
       "      <td>1</td>\n",
       "      <td>0</td>\n",
       "    </tr>\n",
       "    <tr>\n",
       "      <th>1</th>\n",
       "      <td>0</td>\n",
       "      <td>0</td>\n",
       "      <td>1</td>\n",
       "    </tr>\n",
       "    <tr>\n",
       "      <th>2</th>\n",
       "      <td>0</td>\n",
       "      <td>0</td>\n",
       "      <td>1</td>\n",
       "    </tr>\n",
       "    <tr>\n",
       "      <th>3</th>\n",
       "      <td>0</td>\n",
       "      <td>1</td>\n",
       "      <td>0</td>\n",
       "    </tr>\n",
       "    <tr>\n",
       "      <th>4</th>\n",
       "      <td>0</td>\n",
       "      <td>1</td>\n",
       "      <td>0</td>\n",
       "    </tr>\n",
       "  </tbody>\n",
       "</table>\n",
       "</div>"
      ],
      "text/plain": [
       "   Salary_high  Salary_low  Salary_medium\n",
       "0            0           1              0\n",
       "1            0           0              1\n",
       "2            0           0              1\n",
       "3            0           1              0\n",
       "4            0           1              0"
      ]
     },
     "execution_count": 10,
     "metadata": {},
     "output_type": "execute_result"
    }
   ],
   "source": [
    "salario.head()"
   ]
  },
  {
   "cell_type": "markdown",
   "metadata": {},
   "source": [
    "# Concatenar colunas na base de dados"
   ]
  },
  {
   "cell_type": "markdown",
   "metadata": {},
   "source": [
    "<img src=\"imagens/colwise.png\" width = 500 height=300>"
   ]
  },
  {
   "cell_type": "code",
   "execution_count": 11,
   "metadata": {
    "ExecuteTime": {
     "end_time": "2019-01-10T11:16:05.299185Z",
     "start_time": "2019-01-10T11:16:05.257207Z"
    }
   },
   "outputs": [],
   "source": [
    "import pandas as pd              # estrutura de dados: dataframes\n",
    "\n",
    "dados = pd.read_csv('HR_comma_sep.csv', sep=',')\n",
    "dados.columns = [coluna.strip() for coluna in dados.columns]\n",
    "\n",
    "departamentos = pd.get_dummies(dados.Departments, prefix='Dept')\n",
    "salario = pd.get_dummies(dados.salary, prefix='Salary')\n",
    "\n",
    "dados = pd.concat([dados, salario, departamentos], axis=1)"
   ]
  },
  {
   "cell_type": "code",
   "execution_count": 12,
   "metadata": {
    "ExecuteTime": {
     "end_time": "2019-01-10T11:16:05.969908Z",
     "start_time": "2019-01-10T11:16:05.962893Z"
    }
   },
   "outputs": [],
   "source": [
    "X = dados.drop(['salary', 'Departments', 'left'], axis=1)\n",
    "y = dados.left"
   ]
  },
  {
   "cell_type": "code",
   "execution_count": 13,
   "metadata": {
    "ExecuteTime": {
     "end_time": "2019-01-10T11:16:06.434213Z",
     "start_time": "2019-01-10T11:16:06.423214Z"
    }
   },
   "outputs": [
    {
     "data": {
      "text/plain": [
       "((14999, 23), (14999, 20))"
      ]
     },
     "execution_count": 13,
     "metadata": {},
     "output_type": "execute_result"
    }
   ],
   "source": [
    "dados.shape, X.shape"
   ]
  },
  {
   "cell_type": "code",
   "execution_count": 14,
   "metadata": {
    "ExecuteTime": {
     "end_time": "2019-01-10T11:16:06.867833Z",
     "start_time": "2019-01-10T11:16:06.859838Z"
    }
   },
   "outputs": [],
   "source": [
    "pd.set_option('max_columns', 50)"
   ]
  },
  {
   "cell_type": "code",
   "execution_count": 17,
   "metadata": {
    "ExecuteTime": {
     "end_time": "2019-01-10T11:17:09.343519Z",
     "start_time": "2019-01-10T11:17:09.304541Z"
    }
   },
   "outputs": [
    {
     "name": "stdout",
     "output_type": "stream",
     "text": [
      "tf.estimator package not installed.\n"
     ]
    },
    {
     "ename": "ModuleNotFoundError",
     "evalue": "No module named 'tensorflow.python.compat'",
     "output_type": "error",
     "traceback": [
      "\u001b[1;31m---------------------------------------------------------------------------\u001b[0m",
      "\u001b[1;31mModuleNotFoundError\u001b[0m                       Traceback (most recent call last)",
      "\u001b[1;32m<ipython-input-17-2c6ed031ad52>\u001b[0m in \u001b[0;36m<module>\u001b[1;34m()\u001b[0m\n\u001b[1;32m----> 1\u001b[1;33m \u001b[1;32mfrom\u001b[0m \u001b[0mtensorflow\u001b[0m\u001b[1;33m.\u001b[0m\u001b[0mkeras\u001b[0m\u001b[1;33m.\u001b[0m\u001b[0mmodels\u001b[0m \u001b[1;32mimport\u001b[0m \u001b[0mSequential\u001b[0m\u001b[1;33m\u001b[0m\u001b[0m\n\u001b[0m\u001b[0;32m      2\u001b[0m \u001b[1;32mfrom\u001b[0m \u001b[0mtensorflow\u001b[0m\u001b[1;33m.\u001b[0m\u001b[0mkeras\u001b[0m\u001b[1;33m.\u001b[0m\u001b[0mlayers\u001b[0m \u001b[1;32mimport\u001b[0m \u001b[0mDense\u001b[0m\u001b[1;33m\u001b[0m\u001b[0m\n\u001b[0;32m      3\u001b[0m \u001b[1;33m\u001b[0m\u001b[0m\n\u001b[0;32m      4\u001b[0m \u001b[1;32mfrom\u001b[0m \u001b[0msklearn\u001b[0m\u001b[1;33m.\u001b[0m\u001b[0mcross_validation\u001b[0m \u001b[1;32mimport\u001b[0m \u001b[0mtrain_test_split\u001b[0m\u001b[1;33m\u001b[0m\u001b[0m\n\u001b[0;32m      5\u001b[0m \u001b[1;32mfrom\u001b[0m \u001b[0msklearn\u001b[0m\u001b[1;33m.\u001b[0m\u001b[0mpreprocessing\u001b[0m \u001b[1;32mimport\u001b[0m \u001b[0mStandardScaler\u001b[0m\u001b[1;33m\u001b[0m\u001b[0m\n",
      "\u001b[1;32m~\\AppData\\Local\\Continuum\\anaconda3\\lib\\site-packages\\tensorflow\\__init__.py\u001b[0m in \u001b[0;36m<module>\u001b[1;34m()\u001b[0m\n\u001b[0;32m     39\u001b[0m \u001b[1;32mfrom\u001b[0m \u001b[0mtensorflow\u001b[0m \u001b[1;32mimport\u001b[0m \u001b[0mapp\u001b[0m\u001b[1;33m\u001b[0m\u001b[0m\n\u001b[0;32m     40\u001b[0m \u001b[1;32mfrom\u001b[0m \u001b[0mtensorflow\u001b[0m \u001b[1;32mimport\u001b[0m \u001b[0mbitwise\u001b[0m\u001b[1;33m\u001b[0m\u001b[0m\n\u001b[1;32m---> 41\u001b[1;33m \u001b[1;32mfrom\u001b[0m \u001b[0mtensorflow\u001b[0m \u001b[1;32mimport\u001b[0m \u001b[0mcompat\u001b[0m\u001b[1;33m\u001b[0m\u001b[0m\n\u001b[0m\u001b[0;32m     42\u001b[0m \u001b[1;32mfrom\u001b[0m \u001b[0mtensorflow\u001b[0m \u001b[1;32mimport\u001b[0m \u001b[0mdata\u001b[0m\u001b[1;33m\u001b[0m\u001b[0m\n\u001b[0;32m     43\u001b[0m \u001b[1;32mfrom\u001b[0m \u001b[0mtensorflow\u001b[0m \u001b[1;32mimport\u001b[0m \u001b[0mdebugging\u001b[0m\u001b[1;33m\u001b[0m\u001b[0m\n",
      "\u001b[1;32m~\\AppData\\Local\\Continuum\\anaconda3\\lib\\site-packages\\tensorflow\\compat\\__init__.py\u001b[0m in \u001b[0;36m<module>\u001b[1;34m()\u001b[0m\n\u001b[0;32m     19\u001b[0m \u001b[1;32mfrom\u001b[0m \u001b[0m__future__\u001b[0m \u001b[1;32mimport\u001b[0m \u001b[0mprint_function\u001b[0m\u001b[1;33m\u001b[0m\u001b[0m\n\u001b[0;32m     20\u001b[0m \u001b[1;33m\u001b[0m\u001b[0m\n\u001b[1;32m---> 21\u001b[1;33m \u001b[1;32mfrom\u001b[0m \u001b[0mtensorflow\u001b[0m\u001b[1;33m.\u001b[0m\u001b[0mpython\u001b[0m\u001b[1;33m.\u001b[0m\u001b[0mcompat\u001b[0m\u001b[1;33m.\u001b[0m\u001b[0mcompat\u001b[0m \u001b[1;32mimport\u001b[0m \u001b[0mforward_compatibility_horizon\u001b[0m\u001b[1;33m\u001b[0m\u001b[0m\n\u001b[0m\u001b[0;32m     22\u001b[0m \u001b[1;32mfrom\u001b[0m \u001b[0mtensorflow\u001b[0m\u001b[1;33m.\u001b[0m\u001b[0mpython\u001b[0m\u001b[1;33m.\u001b[0m\u001b[0mcompat\u001b[0m\u001b[1;33m.\u001b[0m\u001b[0mcompat\u001b[0m \u001b[1;32mimport\u001b[0m \u001b[0mforward_compatible\u001b[0m\u001b[1;33m\u001b[0m\u001b[0m\n\u001b[0;32m     23\u001b[0m \u001b[1;32mfrom\u001b[0m \u001b[0mtensorflow\u001b[0m\u001b[1;33m.\u001b[0m\u001b[0mpython\u001b[0m\u001b[1;33m.\u001b[0m\u001b[0mutil\u001b[0m\u001b[1;33m.\u001b[0m\u001b[0mcompat\u001b[0m \u001b[1;32mimport\u001b[0m \u001b[0mas_bytes\u001b[0m\u001b[1;33m\u001b[0m\u001b[0m\n",
      "\u001b[1;31mModuleNotFoundError\u001b[0m: No module named 'tensorflow.python.compat'"
     ]
    }
   ],
   "source": [
    "from tensorflow.keras.models import Sequential\n",
    "from tensorflow.keras.layers import Dense\n",
    "\n",
    "from sklearn.cross_validation import train_test_split\n",
    "from sklearn.preprocessing import StandardScaler"
   ]
  },
  {
   "cell_type": "code",
   "execution_count": null,
   "metadata": {
    "ExecuteTime": {
     "end_time": "2019-01-10T11:16:15.446605Z",
     "start_time": "2019-01-10T11:16:08.240Z"
    }
   },
   "outputs": [],
   "source": [
    "def get_model_v1(input_dim):\n",
    "    model = Sequential()\n",
    "    model.add(Dense(units=64, activation='relu', input_dim=input_dim))\n",
    "    model.add(Dense(units=1, activation='sigmoid'))\n",
    "    model.compile(loss='binary_crossentropy',\n",
    "                  optimizer='adam',\n",
    "                  metrics=['accuracy'])\n",
    "    return model\n",
    "m = get_model_v1(3)"
   ]
  },
  {
   "cell_type": "code",
   "execution_count": null,
   "metadata": {
    "ExecuteTime": {
     "end_time": "2019-01-10T11:16:15.450603Z",
     "start_time": "2019-01-10T11:16:08.808Z"
    }
   },
   "outputs": [],
   "source": [
    "ss = StandardScaler()\n",
    "X = ss.fit_transform(X)"
   ]
  },
  {
   "cell_type": "markdown",
   "metadata": {},
   "source": [
    "# Treinamento de modelo de rede neural "
   ]
  },
  {
   "cell_type": "code",
   "execution_count": null,
   "metadata": {
    "ExecuteTime": {
     "end_time": "2019-01-10T11:16:15.454601Z",
     "start_time": "2019-01-10T11:16:10.050Z"
    }
   },
   "outputs": [],
   "source": [
    "scores = []\n",
    "for i in range(10):\n",
    "    X_train, X_test, y_train, y_test = train_test_split(X, y, stratify=y)\n",
    "    \n",
    "    model = get_model_v1(X.shape[1])\n",
    "    model.fit(X_train, y_train, epochs=10, verbose=1, validation_split=.1)\n",
    "    score = model.evaluate(X_test, y_test)\n",
    "    scores.append(score[1])"
   ]
  },
  {
   "cell_type": "code",
   "execution_count": 19,
   "metadata": {
    "ExecuteTime": {
     "end_time": "2018-09-14T11:05:58.862610Z",
     "start_time": "2018-09-14T11:05:58.853127Z"
    }
   },
   "outputs": [
    {
     "data": {
      "text/plain": [
       "count    10.000000\n",
       "mean      0.955093\n",
       "std       0.003875\n",
       "min       0.949333\n",
       "25%       0.953000\n",
       "50%       0.955867\n",
       "75%       0.957467\n",
       "max       0.961333\n",
       "dtype: float64"
      ]
     },
     "execution_count": 19,
     "metadata": {},
     "output_type": "execute_result"
    }
   ],
   "source": [
    "pd.Series(scores).describe()   #python install nbextensions"
   ]
  },
  {
   "cell_type": "markdown",
   "metadata": {},
   "source": [
    "# V2"
   ]
  },
  {
   "cell_type": "code",
   "execution_count": 20,
   "metadata": {
    "ExecuteTime": {
     "end_time": "2018-09-14T11:08:41.137890Z",
     "start_time": "2018-09-14T11:08:41.132097Z"
    }
   },
   "outputs": [],
   "source": [
    "def get_model_v2(input_dim, neurons):\n",
    "    model = Sequential()\n",
    "    model.add(Dense(units=neurons, activation='relu', input_dim=input_dim))\n",
    "    model.add(Dense(units=1, activation='sigmoid'))\n",
    "    model.compile(loss='binary_crossentropy',\n",
    "                  optimizer='adam',\n",
    "                  metrics=['accuracy'])\n",
    "    return model"
   ]
  },
  {
   "cell_type": "code",
   "execution_count": 21,
   "metadata": {
    "ExecuteTime": {
     "end_time": "2018-09-14T11:09:08.876600Z",
     "start_time": "2018-09-14T11:08:41.776271Z"
    },
    "collapsed": true
   },
   "outputs": [
    {
     "name": "stdout",
     "output_type": "stream",
     "text": [
      "50\n",
      "100\n",
      "150\n",
      "200\n"
     ]
    }
   ],
   "source": [
    "scores = []\n",
    "for neuron in [50, 100, 150, 200]:\n",
    "    print(neuron)\n",
    "    for i in range(2):\n",
    "        X_train, X_test, y_train, y_test = train_test_split(X, y,\n",
    "                                                            stratify=y)\n",
    "        model = get_model_v2(X.shape[1], neuron)\n",
    "        model.fit(X_train, y_train, epochs=5, verbose=0, validation_split=.1)\n",
    "        score = model.evaluate(X_test, y_test, verbose=0)\n",
    "        scores.append((neuron, score[1]))"
   ]
  },
  {
   "cell_type": "code",
   "execution_count": 23,
   "metadata": {
    "ExecuteTime": {
     "end_time": "2018-09-14T11:11:10.330917Z",
     "start_time": "2018-09-14T11:11:10.315860Z"
    },
    "collapsed": true
   },
   "outputs": [
    {
     "data": {
      "text/html": [
       "<div>\n",
       "<style scoped>\n",
       "    .dataframe tbody tr th:only-of-type {\n",
       "        vertical-align: middle;\n",
       "    }\n",
       "\n",
       "    .dataframe tbody tr th {\n",
       "        vertical-align: top;\n",
       "    }\n",
       "\n",
       "    .dataframe thead th {\n",
       "        text-align: right;\n",
       "    }\n",
       "</style>\n",
       "<table border=\"1\" class=\"dataframe\">\n",
       "  <thead>\n",
       "    <tr style=\"text-align: right;\">\n",
       "      <th></th>\n",
       "      <th>Score</th>\n",
       "    </tr>\n",
       "    <tr>\n",
       "      <th>QtdNeurons</th>\n",
       "      <th></th>\n",
       "    </tr>\n",
       "  </thead>\n",
       "  <tbody>\n",
       "    <tr>\n",
       "      <th>150</th>\n",
       "      <td>0.949600</td>\n",
       "    </tr>\n",
       "    <tr>\n",
       "      <th>50</th>\n",
       "      <td>0.949600</td>\n",
       "    </tr>\n",
       "    <tr>\n",
       "      <th>100</th>\n",
       "      <td>0.951467</td>\n",
       "    </tr>\n",
       "    <tr>\n",
       "      <th>200</th>\n",
       "      <td>0.953867</td>\n",
       "    </tr>\n",
       "  </tbody>\n",
       "</table>\n",
       "</div>"
      ],
      "text/plain": [
       "               Score\n",
       "QtdNeurons          \n",
       "150         0.949600\n",
       "50          0.949600\n",
       "100         0.951467\n",
       "200         0.953867"
      ]
     },
     "execution_count": 23,
     "metadata": {},
     "output_type": "execute_result"
    }
   ],
   "source": [
    "scores_df = pd.DataFrame(scores, columns=['QtdNeurons', 'Score'])\n",
    "scores_df.groupby('QtdNeurons').mean().sort_values('Score')"
   ]
  },
  {
   "cell_type": "markdown",
   "metadata": {},
   "source": [
    "# Tensorboard"
   ]
  },
  {
   "cell_type": "markdown",
   "metadata": {},
   "source": [
    "* abrir terminal\n",
    "* cd pasta_do_projeto\n",
    "* tensorboard --logdir ./logs --host 0.0.0.0"
   ]
  },
  {
   "cell_type": "code",
   "execution_count": 24,
   "metadata": {
    "ExecuteTime": {
     "end_time": "2018-09-14T11:16:03.365693Z",
     "start_time": "2018-09-14T11:16:03.361454Z"
    }
   },
   "outputs": [],
   "source": [
    "from keras.callbacks import TensorBoard\n",
    "\n",
    "scores = []\n",
    "for neuron in [3000, 4000]:\n",
    "    print(neuron)\n",
    "    for i in range(1):\n",
    "        namespace = TensorBoard('logs/N{}_i{}'.format(neuron, i))\n",
    "        \n",
    "        X_train, X_test, y_train, y_test = train_test_split(X, y, stratify=y)\n",
    "        model = get_model_v2(X.shape[1], neuron)\n",
    "        model.fit(X_train, y_train, epochs=100, verbose=0,\n",
    "                  validation_split=.1, callbacks=[namespace])\n",
    "        \n",
    "        score = model.evaluate(X_test, y_test, verbose=0)\n",
    "        scores.append((neuron, score[1]))"
   ]
  },
  {
   "cell_type": "code",
   "execution_count": 30,
   "metadata": {
    "ExecuteTime": {
     "end_time": "2018-09-14T11:28:03.633037Z",
     "start_time": "2018-09-14T11:28:03.622106Z"
    }
   },
   "outputs": [
    {
     "data": {
      "text/html": [
       "<div>\n",
       "<style scoped>\n",
       "    .dataframe tbody tr th:only-of-type {\n",
       "        vertical-align: middle;\n",
       "    }\n",
       "\n",
       "    .dataframe tbody tr th {\n",
       "        vertical-align: top;\n",
       "    }\n",
       "\n",
       "    .dataframe thead th {\n",
       "        text-align: right;\n",
       "    }\n",
       "</style>\n",
       "<table border=\"1\" class=\"dataframe\">\n",
       "  <thead>\n",
       "    <tr style=\"text-align: right;\">\n",
       "      <th></th>\n",
       "      <th>Score</th>\n",
       "    </tr>\n",
       "    <tr>\n",
       "      <th>QtdNeurons</th>\n",
       "      <th></th>\n",
       "    </tr>\n",
       "  </thead>\n",
       "  <tbody>\n",
       "    <tr>\n",
       "      <th>150</th>\n",
       "      <td>0.949600</td>\n",
       "    </tr>\n",
       "    <tr>\n",
       "      <th>50</th>\n",
       "      <td>0.949600</td>\n",
       "    </tr>\n",
       "    <tr>\n",
       "      <th>100</th>\n",
       "      <td>0.951467</td>\n",
       "    </tr>\n",
       "    <tr>\n",
       "      <th>200</th>\n",
       "      <td>0.953867</td>\n",
       "    </tr>\n",
       "  </tbody>\n",
       "</table>\n",
       "</div>"
      ],
      "text/plain": [
       "               Score\n",
       "QtdNeurons          \n",
       "150         0.949600\n",
       "50          0.949600\n",
       "100         0.951467\n",
       "200         0.953867"
      ]
     },
     "execution_count": 30,
     "metadata": {},
     "output_type": "execute_result"
    }
   ],
   "source": [
    "scores_df.groupby('QtdNeurons').mean().sort_values('Score')"
   ]
  },
  {
   "cell_type": "code",
   "execution_count": 34,
   "metadata": {
    "ExecuteTime": {
     "end_time": "2018-09-14T08:38:01.180983Z",
     "start_time": "2018-09-14T08:38:01.168737Z"
    }
   },
   "outputs": [
    {
     "data": {
      "text/html": [
       "<div>\n",
       "<style scoped>\n",
       "    .dataframe tbody tr th:only-of-type {\n",
       "        vertical-align: middle;\n",
       "    }\n",
       "\n",
       "    .dataframe tbody tr th {\n",
       "        vertical-align: top;\n",
       "    }\n",
       "\n",
       "    .dataframe thead th {\n",
       "        text-align: right;\n",
       "    }\n",
       "</style>\n",
       "<table border=\"1\" class=\"dataframe\">\n",
       "  <thead>\n",
       "    <tr style=\"text-align: right;\">\n",
       "      <th></th>\n",
       "      <th>Score</th>\n",
       "    </tr>\n",
       "    <tr>\n",
       "      <th>QtdNeurons</th>\n",
       "      <th></th>\n",
       "    </tr>\n",
       "  </thead>\n",
       "  <tbody>\n",
       "    <tr>\n",
       "      <th>200</th>\n",
       "      <td>0.9568</td>\n",
       "    </tr>\n",
       "    <tr>\n",
       "      <th>250</th>\n",
       "      <td>0.9616</td>\n",
       "    </tr>\n",
       "  </tbody>\n",
       "</table>\n",
       "</div>"
      ],
      "text/plain": [
       "             Score\n",
       "QtdNeurons        \n",
       "200         0.9568\n",
       "250         0.9616"
      ]
     },
     "execution_count": 34,
     "metadata": {},
     "output_type": "execute_result"
    }
   ],
   "source": [
    "scores_df = pd.DataFrame(scores, columns=['QtdNeurons', 'Score'])\n",
    "scores_df.groupby('QtdNeurons').mean().sort_values('Score')"
   ]
  },
  {
   "cell_type": "markdown",
   "metadata": {},
   "source": [
    "# Melhorando ainda mais"
   ]
  },
  {
   "cell_type": "code",
   "execution_count": 35,
   "metadata": {
    "ExecuteTime": {
     "end_time": "2018-09-14T08:38:09.401594Z",
     "start_time": "2018-09-14T08:38:01.183272Z"
    }
   },
   "outputs": [
    {
     "name": "stdout",
     "output_type": "stream",
     "text": [
      "300\n"
     ]
    }
   ],
   "source": [
    "scores = []\n",
    "for neuron in [300]:\n",
    "    print(neuron)\n",
    "    for i in range(1):\n",
    "        namespace = TensorBoard('logs/N{}_i{}_v1'.format(neuron, i))\n",
    "        \n",
    "        X_train, X_test, y_train, y_test = train_test_split(X, y, stratify=y)\n",
    "        model = get_model_v2(X.shape[1], neuron)\n",
    "        model.fit(X_train, y_train, epochs=15, verbose=0,\n",
    "                  validation_split=.1, callbacks=[namespace])\n",
    "        \n",
    "        score = model.evaluate(X_test, y_test, verbose=0)\n",
    "        scores.append((neuron, score[1]))"
   ]
  },
  {
   "cell_type": "markdown",
   "metadata": {},
   "source": [
    "# Passou do ponto ótimo ou nao otimiza/melhora mais"
   ]
  },
  {
   "cell_type": "code",
   "execution_count": 36,
   "metadata": {
    "ExecuteTime": {
     "end_time": "2018-09-14T08:38:09.407947Z",
     "start_time": "2018-09-14T08:38:09.403670Z"
    }
   },
   "outputs": [],
   "source": [
    "from keras.callbacks import TensorBoard, EarlyStopping"
   ]
  },
  {
   "cell_type": "code",
   "execution_count": 37,
   "metadata": {
    "ExecuteTime": {
     "end_time": "2018-09-14T08:38:22.593178Z",
     "start_time": "2018-09-14T08:38:09.410315Z"
    }
   },
   "outputs": [
    {
     "name": "stdout",
     "output_type": "stream",
     "text": [
      "350\n"
     ]
    }
   ],
   "source": [
    "scores = []\n",
    "for neuron in [350]:\n",
    "    print(neuron)\n",
    "    for i in range(1):\n",
    "        namespace = TensorBoard('logs/N{}_i{}_v2'.format(neuron, i))\n",
    "        es = EarlyStopping(patience=2, monitor='val_loss')\n",
    "        \n",
    "        X_train, X_test, y_train, y_test = train_test_split(X, y, stratify=y)\n",
    "        model = get_model_v2(X.shape[1], neuron)\n",
    "        h = model.fit(X_train, y_train, epochs=500, verbose=0,\n",
    "                  validation_split=.15, callbacks=[namespace, es])\n",
    "        \n",
    "        score = model.evaluate(X_test, y_test, verbose=0)\n",
    "        scores.append((neuron, score[1]))"
   ]
  },
  {
   "cell_type": "code",
   "execution_count": 38,
   "metadata": {
    "ExecuteTime": {
     "end_time": "2018-09-14T08:38:22.607768Z",
     "start_time": "2018-09-14T08:38:22.595123Z"
    }
   },
   "outputs": [
    {
     "data": {
      "text/html": [
       "<div>\n",
       "<style scoped>\n",
       "    .dataframe tbody tr th:only-of-type {\n",
       "        vertical-align: middle;\n",
       "    }\n",
       "\n",
       "    .dataframe tbody tr th {\n",
       "        vertical-align: top;\n",
       "    }\n",
       "\n",
       "    .dataframe thead th {\n",
       "        text-align: right;\n",
       "    }\n",
       "</style>\n",
       "<table border=\"1\" class=\"dataframe\">\n",
       "  <thead>\n",
       "    <tr style=\"text-align: right;\">\n",
       "      <th></th>\n",
       "      <th>Score</th>\n",
       "    </tr>\n",
       "    <tr>\n",
       "      <th>QtdNeurons</th>\n",
       "      <th></th>\n",
       "    </tr>\n",
       "  </thead>\n",
       "  <tbody>\n",
       "    <tr>\n",
       "      <th>350</th>\n",
       "      <td>0.965333</td>\n",
       "    </tr>\n",
       "  </tbody>\n",
       "</table>\n",
       "</div>"
      ],
      "text/plain": [
       "               Score\n",
       "QtdNeurons          \n",
       "350         0.965333"
      ]
     },
     "execution_count": 38,
     "metadata": {},
     "output_type": "execute_result"
    }
   ],
   "source": [
    "scores_df = pd.DataFrame(scores, columns=['QtdNeurons', 'Score'])\n",
    "scores_df.groupby('QtdNeurons').mean().sort_values('Score')"
   ]
  },
  {
   "cell_type": "markdown",
   "metadata": {},
   "source": [
    "# Incluindo Dropout"
   ]
  },
  {
   "cell_type": "markdown",
   "metadata": {
    "ExecuteTime": {
     "end_time": "2018-09-14T00:39:26.096844Z",
     "start_time": "2018-09-14T00:39:26.091979Z"
    }
   },
   "source": [
    "Dropout é uma técnica de regularização de modelo que ajuda a combater o overfitting em redes neurais\n",
    "\n",
    "<img src=\"imagens/dropout.png\" width =300 height=100>\n",
    "Dos 6 neurônios presentes na camada escondida, apenas 6 foram \"ativados\""
   ]
  },
  {
   "cell_type": "code",
   "execution_count": 39,
   "metadata": {
    "ExecuteTime": {
     "end_time": "2018-09-14T08:38:22.613348Z",
     "start_time": "2018-09-14T08:38:22.609787Z"
    }
   },
   "outputs": [],
   "source": [
    "from keras.layers import Dropout"
   ]
  },
  {
   "cell_type": "code",
   "execution_count": 40,
   "metadata": {
    "ExecuteTime": {
     "end_time": "2018-09-14T08:38:22.621653Z",
     "start_time": "2018-09-14T08:38:22.615587Z"
    }
   },
   "outputs": [],
   "source": [
    "def get_model_v2(input_dim, neurons):\n",
    "    model = Sequential()\n",
    "    model.add(Dense(units=neurons, activation='relu', input_dim=input_dim))\n",
    "    model.add(Dropout(0.4))\n",
    "    model.add(Dense(units=1, activation='sigmoid'))\n",
    "    model.compile(loss='binary_crossentropy',\n",
    "                  optimizer='adam',\n",
    "                  metrics=['accuracy'])\n",
    "    return model"
   ]
  },
  {
   "cell_type": "code",
   "execution_count": 41,
   "metadata": {
    "ExecuteTime": {
     "end_time": "2018-09-14T08:38:44.827837Z",
     "start_time": "2018-09-14T08:38:22.623485Z"
    }
   },
   "outputs": [
    {
     "name": "stdout",
     "output_type": "stream",
     "text": [
      "350\n"
     ]
    }
   ],
   "source": [
    "scores = []\n",
    "for neuron in [350]:\n",
    "    print(neuron)\n",
    "    for i in range(1):\n",
    "        namespace = TensorBoard('logs/N{}_i{}_v3'.format(neuron, i))\n",
    "        es = EarlyStopping(patience=4, monitor='val_loss')\n",
    "        \n",
    "        X_train, X_test, y_train, y_test = train_test_split(X, y, stratify=y)\n",
    "        model = get_model_v2(X.shape[1], neuron)\n",
    "        h = model.fit(X_train, y_train, epochs=500, verbose=0,\n",
    "                  validation_split=.15, callbacks=[namespace, es])\n",
    "        \n",
    "        score = model.evaluate(X_test, y_test, verbose=0)\n",
    "        scores.append((neuron, score[1]))"
   ]
  },
  {
   "cell_type": "code",
   "execution_count": 42,
   "metadata": {
    "ExecuteTime": {
     "end_time": "2018-09-14T08:38:44.842152Z",
     "start_time": "2018-09-14T08:38:44.829951Z"
    }
   },
   "outputs": [
    {
     "data": {
      "text/html": [
       "<div>\n",
       "<style scoped>\n",
       "    .dataframe tbody tr th:only-of-type {\n",
       "        vertical-align: middle;\n",
       "    }\n",
       "\n",
       "    .dataframe tbody tr th {\n",
       "        vertical-align: top;\n",
       "    }\n",
       "\n",
       "    .dataframe thead th {\n",
       "        text-align: right;\n",
       "    }\n",
       "</style>\n",
       "<table border=\"1\" class=\"dataframe\">\n",
       "  <thead>\n",
       "    <tr style=\"text-align: right;\">\n",
       "      <th></th>\n",
       "      <th>Score</th>\n",
       "    </tr>\n",
       "    <tr>\n",
       "      <th>QtdNeurons</th>\n",
       "      <th></th>\n",
       "    </tr>\n",
       "  </thead>\n",
       "  <tbody>\n",
       "    <tr>\n",
       "      <th>350</th>\n",
       "      <td>0.957067</td>\n",
       "    </tr>\n",
       "  </tbody>\n",
       "</table>\n",
       "</div>"
      ],
      "text/plain": [
       "               Score\n",
       "QtdNeurons          \n",
       "350         0.957067"
      ]
     },
     "execution_count": 42,
     "metadata": {},
     "output_type": "execute_result"
    }
   ],
   "source": [
    "scores_df = pd.DataFrame(scores, columns=['QtdNeurons', 'Score'])\n",
    "scores_df.groupby('QtdNeurons').mean().sort_values('Score')"
   ]
  },
  {
   "cell_type": "markdown",
   "metadata": {},
   "source": [
    "# Adicionando BatchNormalization"
   ]
  },
  {
   "cell_type": "markdown",
   "metadata": {
    "ExecuteTime": {
     "end_time": "2018-09-14T06:38:23.985161Z",
     "start_time": "2018-09-14T06:38:23.980310Z"
    }
   },
   "source": [
    "Batch normalization é uma técnica para melhorar a performance e estabilidade de redes neurais\n",
    "\n",
    "Ela transforma o resultado de cada camada em inputs para a próxima cada com média zero e variância unitária\n",
    "<img src=\"imagens/bnorm.png\" width =300 height=100>"
   ]
  },
  {
   "cell_type": "code",
   "execution_count": 43,
   "metadata": {
    "ExecuteTime": {
     "end_time": "2018-09-14T08:38:44.847281Z",
     "start_time": "2018-09-14T08:38:44.844127Z"
    }
   },
   "outputs": [],
   "source": [
    "from keras.layers import BatchNormalization"
   ]
  },
  {
   "cell_type": "code",
   "execution_count": 44,
   "metadata": {
    "ExecuteTime": {
     "end_time": "2018-09-14T08:38:44.855425Z",
     "start_time": "2018-09-14T08:38:44.849388Z"
    }
   },
   "outputs": [],
   "source": [
    "def get_model_v2(input_dim, neurons):\n",
    "    model = Sequential()\n",
    "    model.add(Dense(units=neurons, activation='relu', input_dim=input_dim))\n",
    "    model.add(Dropout(0.4))\n",
    "    model.add(BatchNormalization())\n",
    "    model.add(Dense(units=1, activation='sigmoid'))\n",
    "    model.compile(loss='binary_crossentropy',\n",
    "                  optimizer='adam',\n",
    "                  metrics=['accuracy'])\n",
    "    return model"
   ]
  },
  {
   "cell_type": "code",
   "execution_count": 45,
   "metadata": {
    "ExecuteTime": {
     "end_time": "2018-09-14T08:38:44.862765Z",
     "start_time": "2018-09-14T08:38:44.857489Z"
    }
   },
   "outputs": [],
   "source": [
    "def viz_scores(lista_scores):\n",
    "    scores_df = pd.DataFrame(lista_scores, columns=['QtdNeurons', 'Score'])\n",
    "    return scores_df.groupby('QtdNeurons').mean().sort_values('Score')"
   ]
  },
  {
   "cell_type": "code",
   "execution_count": 46,
   "metadata": {
    "ExecuteTime": {
     "end_time": "2018-09-14T08:39:14.436755Z",
     "start_time": "2018-09-14T08:38:44.865152Z"
    }
   },
   "outputs": [
    {
     "name": "stdout",
     "output_type": "stream",
     "text": [
      "350\n"
     ]
    }
   ],
   "source": [
    "scores = []\n",
    "for neuron in [350]:\n",
    "    print(neuron)\n",
    "    for i in range(1):\n",
    "        namespace = TensorBoard('logs/N{}_i{}_v4'.format(neuron, i))\n",
    "        es = EarlyStopping(patience=5, monitor='val_loss')\n",
    "        \n",
    "        X_train, X_test, y_train, y_test = train_test_split(X, y, stratify=y)\n",
    "        model = get_model_v2(X.shape[1], neuron)\n",
    "        h = model.fit(X_train, y_train, epochs=500, verbose=0,\n",
    "                  validation_split=.15, callbacks=[namespace, es])\n",
    "        \n",
    "        score = model.evaluate(X_test, y_test, verbose=0)\n",
    "        scores.append((neuron, score[1]))"
   ]
  },
  {
   "cell_type": "code",
   "execution_count": 47,
   "metadata": {
    "ExecuteTime": {
     "end_time": "2018-09-14T08:39:14.455620Z",
     "start_time": "2018-09-14T08:39:14.438495Z"
    }
   },
   "outputs": [
    {
     "data": {
      "text/html": [
       "<div>\n",
       "<style scoped>\n",
       "    .dataframe tbody tr th:only-of-type {\n",
       "        vertical-align: middle;\n",
       "    }\n",
       "\n",
       "    .dataframe tbody tr th {\n",
       "        vertical-align: top;\n",
       "    }\n",
       "\n",
       "    .dataframe thead th {\n",
       "        text-align: right;\n",
       "    }\n",
       "</style>\n",
       "<table border=\"1\" class=\"dataframe\">\n",
       "  <thead>\n",
       "    <tr style=\"text-align: right;\">\n",
       "      <th></th>\n",
       "      <th>Score</th>\n",
       "    </tr>\n",
       "    <tr>\n",
       "      <th>QtdNeurons</th>\n",
       "      <th></th>\n",
       "    </tr>\n",
       "  </thead>\n",
       "  <tbody>\n",
       "    <tr>\n",
       "      <th>350</th>\n",
       "      <td>0.9568</td>\n",
       "    </tr>\n",
       "  </tbody>\n",
       "</table>\n",
       "</div>"
      ],
      "text/plain": [
       "             Score\n",
       "QtdNeurons        \n",
       "350         0.9568"
      ]
     },
     "execution_count": 47,
     "metadata": {},
     "output_type": "execute_result"
    }
   ],
   "source": [
    "viz_scores(scores)"
   ]
  },
  {
   "cell_type": "markdown",
   "metadata": {},
   "source": [
    "# Mais Camadas"
   ]
  },
  {
   "cell_type": "code",
   "execution_count": 48,
   "metadata": {
    "ExecuteTime": {
     "end_time": "2018-09-14T08:39:14.472020Z",
     "start_time": "2018-09-14T08:39:14.457935Z"
    }
   },
   "outputs": [],
   "source": [
    "def get_model_v3(input_dim, neurons, ncamadas):\n",
    "    model = Sequential()\n",
    "    model.add(Dense(units=neurons, activation='relu', input_dim=input_dim))\n",
    "    model.add(Dropout(0.4))\n",
    "    model.add(BatchNormalization())\n",
    "    \n",
    "    for camada in range(ncamadas-1):\n",
    "        model.add(Dense(units=neurons, activation='relu'))\n",
    "        model.add(Dropout(0.4))\n",
    "        model.add(BatchNormalization())\n",
    "        \n",
    "    model.add(Dense(units=1, activation='sigmoid'))\n",
    "    model.compile(loss='binary_crossentropy',\n",
    "                  optimizer='adam',\n",
    "                  metrics=['accuracy'])\n",
    "    return model"
   ]
  },
  {
   "cell_type": "code",
   "execution_count": 49,
   "metadata": {
    "ExecuteTime": {
     "end_time": "2018-09-14T08:42:57.869867Z",
     "start_time": "2018-09-14T08:39:14.475623Z"
    }
   },
   "outputs": [
    {
     "name": "stdout",
     "output_type": "stream",
     "text": [
      "50\n",
      "100\n"
     ]
    }
   ],
   "source": [
    "scores = []\n",
    "for neuron in [50, 100]:\n",
    "    print(neuron)\n",
    "    for ncam in [2, 3]:\n",
    "        for i in range(1):\n",
    "            namespace = TensorBoard('logs/N{}_Cam{}_i{}_v5'.format(neuron, ncam, i))\n",
    "            es = EarlyStopping(patience=4, monitor='val_loss')\n",
    "\n",
    "            X_train, X_test, y_train, y_test = train_test_split(X, y, stratify=y)\n",
    "            model = get_model_v3(X.shape[1], neuron, ncam)\n",
    "            h = model.fit(X_train, y_train, epochs=500, verbose=0,\n",
    "                      validation_split=.15, callbacks=[namespace, es])\n",
    "\n",
    "            score = model.evaluate(X_test, y_test, verbose=0)\n",
    "            scores.append((neuron, score[1]))"
   ]
  },
  {
   "cell_type": "code",
   "execution_count": 50,
   "metadata": {
    "ExecuteTime": {
     "end_time": "2018-09-14T08:42:57.876415Z",
     "start_time": "2018-09-14T08:42:57.871833Z"
    }
   },
   "outputs": [],
   "source": [
    "# from keras.callbacks import TensorBoard, EarlyStopping, ModelCheckpoint  #https://keras.io/callbacks/\n",
    "# model_checkpoints = ModelCheckpoint('.', monitor='val_loss', verbose=0, \n",
    "#                             save_best_only=True, save_weights_only=True, \n",
    "#                             mode='auto', period=1)\n",
    "\n"
   ]
  },
  {
   "cell_type": "markdown",
   "metadata": {},
   "source": [
    "# Treina com dados completos"
   ]
  },
  {
   "cell_type": "code",
   "execution_count": 31,
   "metadata": {
    "ExecuteTime": {
     "end_time": "2018-09-14T11:51:00.748214Z",
     "start_time": "2018-09-14T11:51:00.743586Z"
    }
   },
   "outputs": [],
   "source": [
    "newX = dados[['satisfaction_level', 'last_evaluation', 'number_project', 'average_montly_hours', 'time_spend_company']]"
   ]
  },
  {
   "cell_type": "code",
   "execution_count": 32,
   "metadata": {
    "ExecuteTime": {
     "end_time": "2018-09-14T11:51:01.467082Z",
     "start_time": "2018-09-14T11:51:01.447622Z"
    }
   },
   "outputs": [
    {
     "ename": "NameError",
     "evalue": "name 'get_model_v3' is not defined",
     "output_type": "error",
     "traceback": [
      "\u001b[0;31m---------------------------------------------------------------------------\u001b[0m",
      "\u001b[0;31mNameError\u001b[0m                                 Traceback (most recent call last)",
      "\u001b[0;32m<ipython-input-32-2a99b4b917ce>\u001b[0m in \u001b[0;36m<module>\u001b[0;34m()\u001b[0m\n\u001b[0;32m----> 1\u001b[0;31m \u001b[0mmodel\u001b[0m \u001b[0;34m=\u001b[0m \u001b[0mget_model_v3\u001b[0m\u001b[0;34m(\u001b[0m\u001b[0mnewX\u001b[0m\u001b[0;34m.\u001b[0m\u001b[0mshape\u001b[0m\u001b[0;34m[\u001b[0m\u001b[0;36m1\u001b[0m\u001b[0;34m]\u001b[0m\u001b[0;34m,\u001b[0m \u001b[0mneurons\u001b[0m\u001b[0;34m=\u001b[0m\u001b[0;36m50\u001b[0m\u001b[0;34m,\u001b[0m \u001b[0mncamadas\u001b[0m\u001b[0;34m=\u001b[0m\u001b[0;36m2\u001b[0m\u001b[0;34m)\u001b[0m\u001b[0;34m\u001b[0m\u001b[0m\n\u001b[0m\u001b[1;32m      2\u001b[0m \u001b[0;34m\u001b[0m\u001b[0m\n\u001b[1;32m      3\u001b[0m \u001b[0mh\u001b[0m \u001b[0;34m=\u001b[0m \u001b[0mmodel\u001b[0m\u001b[0;34m.\u001b[0m\u001b[0mfit\u001b[0m\u001b[0;34m(\u001b[0m\u001b[0mnewX\u001b[0m\u001b[0;34m,\u001b[0m \u001b[0my\u001b[0m\u001b[0;34m,\u001b[0m \u001b[0mepochs\u001b[0m\u001b[0;34m=\u001b[0m\u001b[0;36m20\u001b[0m\u001b[0;34m,\u001b[0m \u001b[0mverbose\u001b[0m\u001b[0;34m=\u001b[0m\u001b[0;36m2\u001b[0m\u001b[0;34m)\u001b[0m\u001b[0;34m\u001b[0m\u001b[0m\n",
      "\u001b[0;31mNameError\u001b[0m: name 'get_model_v3' is not defined"
     ]
    }
   ],
   "source": [
    "model = get_model_v3(newX.shape[1], neurons=50, ncamadas=2)\n",
    "\n",
    "h = model.fit(newX, y, epochs=20, verbose=2)"
   ]
  },
  {
   "cell_type": "markdown",
   "metadata": {},
   "source": [
    "# Save model"
   ]
  },
  {
   "cell_type": "code",
   "execution_count": 33,
   "metadata": {
    "ExecuteTime": {
     "end_time": "2018-09-14T11:51:04.074722Z",
     "start_time": "2018-09-14T11:51:04.071058Z"
    }
   },
   "outputs": [],
   "source": [
    "from keras.models import load_model"
   ]
  },
  {
   "cell_type": "code",
   "execution_count": 34,
   "metadata": {
    "ExecuteTime": {
     "end_time": "2018-09-14T11:51:20.919409Z",
     "start_time": "2018-09-14T11:51:20.010651Z"
    }
   },
   "outputs": [],
   "source": [
    "model.save('modelo_v5')"
   ]
  },
  {
   "cell_type": "code",
   "execution_count": 35,
   "metadata": {
    "ExecuteTime": {
     "end_time": "2018-09-14T11:51:23.778894Z",
     "start_time": "2018-09-14T11:51:21.074397Z"
    }
   },
   "outputs": [],
   "source": [
    "model2 = load_model('modelo_v5')"
   ]
  },
  {
   "cell_type": "code",
   "execution_count": 56,
   "metadata": {
    "ExecuteTime": {
     "end_time": "2018-09-14T08:45:59.079156Z",
     "start_time": "2018-09-14T08:45:58.377842Z"
    }
   },
   "outputs": [
    {
     "data": {
      "text/plain": [
       "array([[0.37532994],\n",
       "       [0.07186078],\n",
       "       [0.11460622],\n",
       "       [0.07155564],\n",
       "       [0.37532994]], dtype=float32)"
      ]
     },
     "execution_count": 56,
     "metadata": {},
     "output_type": "execute_result"
    }
   ],
   "source": [
    "model2.predict(newX[:5])"
   ]
  },
  {
   "cell_type": "code",
   "execution_count": 57,
   "metadata": {
    "ExecuteTime": {
     "end_time": "2018-09-14T08:45:59.087947Z",
     "start_time": "2018-09-14T08:45:59.081278Z"
    }
   },
   "outputs": [
    {
     "data": {
      "text/plain": [
       "0    1\n",
       "1    1\n",
       "2    1\n",
       "3    1\n",
       "4    1\n",
       "Name: left, dtype: int64"
      ]
     },
     "execution_count": 57,
     "metadata": {},
     "output_type": "execute_result"
    }
   ],
   "source": [
    "dados.left.head()"
   ]
  },
  {
   "cell_type": "markdown",
   "metadata": {},
   "source": [
    "# Flask web server"
   ]
  },
  {
   "cell_type": "code",
   "execution_count": 36,
   "metadata": {
    "ExecuteTime": {
     "end_time": "2018-09-14T11:51:31.701075Z",
     "start_time": "2018-09-14T11:51:31.569019Z"
    }
   },
   "outputs": [
    {
     "name": "stdout",
     "output_type": "stream",
     "text": [
      "from flask import Flask, jsonify, render_template, request\r\n",
      "from keras.models import load_model\r\n",
      "\r\n",
      "app = Flask(__name__)\r\n",
      "model = load_model('modelo_v5')\r\n",
      "\r\n",
      "@app.route('/')\r\n",
      "def index():\r\n",
      "    return render_template('index.html') \r\n",
      "\r\n",
      "@app.route('/formsubmit')\r\n",
      "def form():\r\n",
      "    print('recebi form')\r\n",
      "    resp = dict(request.args)\r\n",
      "     \r\n",
      "    resp['probabilidade'] = .3\r\n",
      "    return jsonify(resp)\r\n",
      "\r\n",
      "\r\n",
      "if __name__ == '__main__':\r\n",
      "    app.run(debug=True)\r\n"
     ]
    }
   ],
   "source": [
    "!cat serve_model.py"
   ]
  },
  {
   "cell_type": "code",
   "execution_count": null,
   "metadata": {
    "ExecuteTime": {
     "start_time": "2018-09-14T14:51:37.431Z"
    }
   },
   "outputs": [
    {
     "name": "stdout",
     "output_type": "stream",
     "text": [
      "Using TensorFlow backend.\n",
      "2018-09-14 11:51:40.021968: I tensorflow/core/platform/cpu_feature_guard.cc:141] Your CPU supports instructions that this TensorFlow binary was not compiled to use: AVX2 FMA\n",
      " * Running on http://127.0.0.1:5000/ (Press CTRL+C to quit)\n",
      " * Restarting with stat\n",
      "Using TensorFlow backend.\n",
      "2018-09-14 11:51:43.034946: I tensorflow/core/platform/cpu_feature_guard.cc:141] Your CPU supports instructions that this TensorFlow binary was not compiled to use: AVX2 FMA\n",
      " * Debugger is active!\n",
      " * Debugger PIN: 873-984-792\n",
      "127.0.0.1 - - [14/Sep/2018 11:51:43] \"\u001b[37mGET / HTTP/1.1\u001b[0m\" 200 -\n",
      "recebi form\n",
      "127.0.0.1 - - [14/Sep/2018 11:52:12] \"\u001b[37mGET /formsubmit?satisfacao=0.3&eval=0.8&nprojs=3&avgh=300&timespent=3 HTTP/1.1\u001b[0m\" 200 -\n"
     ]
    }
   ],
   "source": [
    "!python serve_model.py --host 0.0.0.0"
   ]
  },
  {
   "cell_type": "markdown",
   "metadata": {},
   "source": [
    "# Metricas"
   ]
  },
  {
   "cell_type": "code",
   "execution_count": 123,
   "metadata": {
    "ExecuteTime": {
     "end_time": "2018-09-14T08:19:29.416636Z",
     "start_time": "2018-09-14T08:19:29.413136Z"
    }
   },
   "outputs": [],
   "source": [
    "from sklearn.metrics import classification_report, confusion_matrix, precision_score, recall_score, roc_auc_score"
   ]
  },
  {
   "cell_type": "code",
   "execution_count": 67,
   "metadata": {
    "ExecuteTime": {
     "end_time": "2018-09-14T06:46:35.685604Z",
     "start_time": "2018-09-14T06:46:35.532590Z"
    }
   },
   "outputs": [
    {
     "data": {
      "text/plain": [
       "array([[0.02140227],\n",
       "       [0.9856542 ],\n",
       "       [0.12132128],\n",
       "       ...,\n",
       "       [0.01392352],\n",
       "       [0.0029043 ],\n",
       "       [0.01709326]], dtype=float32)"
      ]
     },
     "execution_count": 67,
     "metadata": {},
     "output_type": "execute_result"
    }
   ],
   "source": [
    "predicoes = model.predict(newX)\n",
    "predicoes"
   ]
  },
  {
   "cell_type": "markdown",
   "metadata": {},
   "source": [
    "https://en.wikipedia.org/wiki/Precision_and_recall"
   ]
  },
  {
   "cell_type": "code",
   "execution_count": 73,
   "metadata": {
    "ExecuteTime": {
     "end_time": "2018-09-14T06:48:12.624144Z",
     "start_time": "2018-09-14T06:48:12.618469Z"
    }
   },
   "outputs": [
    {
     "data": {
      "text/plain": [
       "3750"
      ]
     },
     "execution_count": 73,
     "metadata": {},
     "output_type": "execute_result"
    }
   ],
   "source": [
    "len(y_test)"
   ]
  },
  {
   "cell_type": "markdown",
   "metadata": {},
   "source": [
    "<img src=\"imagens/confmatrix.png\" width =300 height=100>"
   ]
  },
  {
   "cell_type": "code",
   "execution_count": 72,
   "metadata": {
    "ExecuteTime": {
     "end_time": "2018-09-14T06:48:05.290747Z",
     "start_time": "2018-09-14T06:48:05.266714Z"
    }
   },
   "outputs": [
    {
     "data": {
      "text/plain": [
       "array([[2815,   42],\n",
       "       [  72,  821]])"
      ]
     },
     "execution_count": 72,
     "metadata": {},
     "output_type": "execute_result"
    }
   ],
   "source": [
    "confusion_matrix(y_test, predicoes > .5)"
   ]
  },
  {
   "cell_type": "code",
   "execution_count": 70,
   "metadata": {
    "ExecuteTime": {
     "end_time": "2018-09-14T06:46:54.612205Z",
     "start_time": "2018-09-14T06:46:54.605349Z"
    }
   },
   "outputs": [
    {
     "name": "stdout",
     "output_type": "stream",
     "text": [
      "             precision    recall  f1-score   support\n",
      "\n",
      "          0       0.98      0.99      0.98      2857\n",
      "          1       0.95      0.92      0.94       893\n",
      "\n",
      "avg / total       0.97      0.97      0.97      3750\n",
      "\n"
     ]
    }
   ],
   "source": [
    "print(classification_report(y_test, predicoes > 0.5))"
   ]
  },
  {
   "cell_type": "code",
   "execution_count": 89,
   "metadata": {
    "ExecuteTime": {
     "end_time": "2018-09-14T06:52:32.428592Z",
     "start_time": "2018-09-14T06:52:32.422563Z"
    }
   },
   "outputs": [
    {
     "data": {
      "text/plain": [
       "array([0.1, 0.2, 0.3, 0.4, 0.5, 0.6, 0.7, 0.8, 0.9])"
      ]
     },
     "execution_count": 89,
     "metadata": {},
     "output_type": "execute_result"
    }
   ],
   "source": [
    "import numpy as np\n",
    "np.arange(1, 10)/10"
   ]
  },
  {
   "cell_type": "code",
   "execution_count": 90,
   "metadata": {
    "ExecuteTime": {
     "end_time": "2018-09-14T06:52:57.282340Z",
     "start_time": "2018-09-14T06:52:57.256325Z"
    }
   },
   "outputs": [],
   "source": [
    "scores = []\n",
    "for cut in np.arange(1, 10)/10:\n",
    "    pr = precision_score(y_test, predicoes > cut)\n",
    "    rec = recall_score(y_test, predicoes > cut)\n",
    "    \n",
    "    scores.append((cut, pr, rec, auc))"
   ]
  },
  {
   "cell_type": "code",
   "execution_count": 91,
   "metadata": {
    "ExecuteTime": {
     "end_time": "2018-09-14T06:52:58.797688Z",
     "start_time": "2018-09-14T06:52:58.784687Z"
    }
   },
   "outputs": [
    {
     "data": {
      "text/html": [
       "<div>\n",
       "<style scoped>\n",
       "    .dataframe tbody tr th:only-of-type {\n",
       "        vertical-align: middle;\n",
       "    }\n",
       "\n",
       "    .dataframe tbody tr th {\n",
       "        vertical-align: top;\n",
       "    }\n",
       "\n",
       "    .dataframe thead th {\n",
       "        text-align: right;\n",
       "    }\n",
       "</style>\n",
       "<table border=\"1\" class=\"dataframe\">\n",
       "  <thead>\n",
       "    <tr style=\"text-align: right;\">\n",
       "      <th></th>\n",
       "      <th>Cut</th>\n",
       "      <th>Precision</th>\n",
       "      <th>Recall</th>\n",
       "      <th>AUC</th>\n",
       "    </tr>\n",
       "  </thead>\n",
       "  <tbody>\n",
       "    <tr>\n",
       "      <th>0</th>\n",
       "      <td>0.1</td>\n",
       "      <td>0.785259</td>\n",
       "      <td>0.966405</td>\n",
       "      <td>0.948977</td>\n",
       "    </tr>\n",
       "    <tr>\n",
       "      <th>1</th>\n",
       "      <td>0.2</td>\n",
       "      <td>0.897137</td>\n",
       "      <td>0.947368</td>\n",
       "      <td>0.948977</td>\n",
       "    </tr>\n",
       "    <tr>\n",
       "      <th>2</th>\n",
       "      <td>0.3</td>\n",
       "      <td>0.926748</td>\n",
       "      <td>0.935050</td>\n",
       "      <td>0.948977</td>\n",
       "    </tr>\n",
       "    <tr>\n",
       "      <th>3</th>\n",
       "      <td>0.4</td>\n",
       "      <td>0.941714</td>\n",
       "      <td>0.922732</td>\n",
       "      <td>0.948977</td>\n",
       "    </tr>\n",
       "    <tr>\n",
       "      <th>4</th>\n",
       "      <td>0.5</td>\n",
       "      <td>0.951333</td>\n",
       "      <td>0.919373</td>\n",
       "      <td>0.948977</td>\n",
       "    </tr>\n",
       "    <tr>\n",
       "      <th>5</th>\n",
       "      <td>0.6</td>\n",
       "      <td>0.961131</td>\n",
       "      <td>0.913774</td>\n",
       "      <td>0.948977</td>\n",
       "    </tr>\n",
       "    <tr>\n",
       "      <th>6</th>\n",
       "      <td>0.7</td>\n",
       "      <td>0.968900</td>\n",
       "      <td>0.907055</td>\n",
       "      <td>0.948977</td>\n",
       "    </tr>\n",
       "    <tr>\n",
       "      <th>7</th>\n",
       "      <td>0.8</td>\n",
       "      <td>0.974265</td>\n",
       "      <td>0.890258</td>\n",
       "      <td>0.948977</td>\n",
       "    </tr>\n",
       "    <tr>\n",
       "      <th>8</th>\n",
       "      <td>0.9</td>\n",
       "      <td>0.977273</td>\n",
       "      <td>0.818589</td>\n",
       "      <td>0.948977</td>\n",
       "    </tr>\n",
       "  </tbody>\n",
       "</table>\n",
       "</div>"
      ],
      "text/plain": [
       "   Cut  Precision    Recall       AUC\n",
       "0  0.1   0.785259  0.966405  0.948977\n",
       "1  0.2   0.897137  0.947368  0.948977\n",
       "2  0.3   0.926748  0.935050  0.948977\n",
       "3  0.4   0.941714  0.922732  0.948977\n",
       "4  0.5   0.951333  0.919373  0.948977\n",
       "5  0.6   0.961131  0.913774  0.948977\n",
       "6  0.7   0.968900  0.907055  0.948977\n",
       "7  0.8   0.974265  0.890258  0.948977\n",
       "8  0.9   0.977273  0.818589  0.948977"
      ]
     },
     "execution_count": 91,
     "metadata": {},
     "output_type": "execute_result"
    }
   ],
   "source": [
    "scores_df = pd.DataFrame(scores, columns=['Cut', 'Precision', 'Recall', 'AUC'])\n",
    "scores_df"
   ]
  },
  {
   "cell_type": "code",
   "execution_count": 97,
   "metadata": {
    "ExecuteTime": {
     "end_time": "2018-09-14T06:53:36.124965Z",
     "start_time": "2018-09-14T06:53:35.844721Z"
    },
    "scrolled": true
   },
   "outputs": [
    {
     "data": {
      "text/plain": [
       "<matplotlib.axes._subplots.AxesSubplot at 0x1c2fc72898>"
      ]
     },
     "execution_count": 97,
     "metadata": {},
     "output_type": "execute_result"
    },
    {
     "data": {
      "image/png": "[encoded data removed]",
      "text/plain": [
       "<Figure size 576x360 with 1 Axes>"
      ]
     },
     "metadata": {},
     "output_type": "display_data"
    }
   ],
   "source": [
    "scores_df[['Precision', 'Recall']].plot(figsize=(8, 5), marker='o')"
   ]
  },
  {
   "cell_type": "code",
   "execution_count": null,
   "metadata": {},
   "outputs": [],
   "source": []
  },
  {
   "cell_type": "code",
   "execution_count": null,
   "metadata": {},
   "outputs": [],
   "source": []
  },
  {
   "cell_type": "code",
   "execution_count": null,
   "metadata": {},
   "outputs": [],
   "source": []
  },
  {
   "cell_type": "code",
   "execution_count": null,
   "metadata": {},
   "outputs": [],
   "source": []
  },
  {
   "cell_type": "code",
   "execution_count": null,
   "metadata": {},
   "outputs": [],
   "source": []
  },
  {
   "cell_type": "code",
   "execution_count": null,
   "metadata": {},
   "outputs": [],
   "source": []
  }
 ],
 "metadata": {
  "kernelspec": {
   "display_name": "Python 3",
   "language": "python",
   "name": "python3"
  },
  "language_info": {
   "codemirror_mode": {
    "name": "ipython",
    "version": 3
   },
   "file_extension": ".py",
   "mimetype": "text/x-python",
   "name": "python",
   "nbconvert_exporter": "python",
   "pygments_lexer": "ipython3",
   "version": "3.6.6"
  },
  "toc": {
   "base_numbering": 1,
   "nav_menu": {},
   "number_sections": true,
   "sideBar": true,
   "skip_h1_title": false,
   "title_cell": "Table of Contents",
   "title_sidebar": "Contents",
   "toc_cell": false,
   "toc_position": {},
   "toc_section_display": "block",
   "toc_window_display": false
  }
 },
 "nbformat": 4,
 "nbformat_minor": 2
}
